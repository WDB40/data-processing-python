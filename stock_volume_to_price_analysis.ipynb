{
 "cells": [
  {
   "cell_type": "markdown",
   "metadata": {},
   "source": [
    "<h1>Stock Volume Changes to Price Movement Analysis</h1>\n",
    "<h3>Matt Quinlan and Wes Brown<h3>"
   ]
  },
  {
   "cell_type": "markdown",
   "metadata": {},
   "source": [
    "<h2>Problem Identification</h2>\n",
    "In the stock market world, there are two large groups with different mindsets around how to pick and choose which investments to place their money in. \n",
    "\n",
    "There are those that believe in \"Fundamental\" analysis, which focuses on the overall value of the stock and, in general, are looking to hold the stock for a long period of time, so that they can watch the stock price rise to reflect the value that they see. They like to follow the mantra of \"buy low, sell high\".\n",
    "\n",
    "Then there are those that practice \"Technical\" analysis. Technical analysis focuses much more on the day to day trends. Investors here are commonly known as day-traders since they may buy and sell the same stock on the same day. These day traders are looking for trends in the data related to a specific stock - is the stock price moving up in a pattern that they've seen before? These investors follow the matra of \"buy when it's going up, sell when it's going down\".\n",
    "\n",
    "For our project, we would like focus on those practicing technical analysis, the day traders. We would like to create a tool that could be useful to those looking at the day-to-day trends of a stock and help them in making a decision on whether it is a good buy or not."
   ]
  },
  {
   "cell_type": "markdown",
   "metadata": {},
   "source": [
    "<h2>Goal Determination</h2>\n",
    "Can the use of volume data for both a specific stock and the stock market as a whole along with the price movement of a stock predict if the stock is a good buy on that particular day?"
   ]
  },
  {
   "cell_type": "markdown",
   "metadata": {},
   "source": [
    "<h2>Core Analysis and Model Building</h2>\n",
    "Where the actual analysis will occur."
   ]
  },
  {
   "cell_type": "markdown",
   "metadata": {},
   "source": [
    "<h2>Flask Application</h2>\n",
    "Not sure if this will be a final section or not."
   ]
  }
 ],
 "metadata": {
  "kernelspec": {
   "display_name": "Python 3",
   "language": "python",
   "name": "python3"
  },
  "language_info": {
   "codemirror_mode": {
    "name": "ipython",
    "version": 3
   },
   "file_extension": ".py",
   "mimetype": "text/x-python",
   "name": "python",
   "nbconvert_exporter": "python",
   "pygments_lexer": "ipython3",
   "version": "3.8.3"
  }
 },
 "nbformat": 4,
 "nbformat_minor": 4
}
