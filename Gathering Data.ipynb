{
 "cells": [
  {
   "cell_type": "markdown",
   "metadata": {},
   "source": [
    "<h1>Stock Analysis Using Volume and Price Changes</h1>\n",
    "<h2>Matt Quinlan and Wes Brown<h2>\n",
    "<h2>Introduction and Gathering the Data</h2>"
   ]
  },
  {
   "cell_type": "markdown",
   "metadata": {},
   "source": [
    "<h3>Problem Identification</h3>\n",
    "In the stock market world, there are two large groups with different mindsets around how to pick and choose which investments to place their money in. \n",
    "\n",
    "There are those that believe in \"Fundamental\" analysis, which focuses on the overall value of the stock and, in general, are looking to hold the stock for a long period of time, so that they can watch the stock price rise to reflect the value that they see. They like to follow the mantra of \"buy low, sell high\".\n",
    "\n",
    "Then there are those that practice \"Technical\" analysis. Technical analysis focuses much more on the day to day trends. Investors here are commonly known as day-traders since they may buy and sell the same stock on the same day. These day traders are looking for trends in the data related to a specific stock - is the stock price moving up in a pattern that they've seen before? These investors follow the matra of \"buy when it's going up, sell before it's goes down\".\n",
    "\n",
    "For our project, we would like focus on those practicing technical analysis, the day traders. We would like to create a tool that could be useful to those looking at the day-to-day trends of a stock and help them in making a decision on which stock to buy when comparing it to other options."
   ]
  },
  {
   "cell_type": "markdown",
   "metadata": {},
   "source": [
    "<h3>Goal Determination</h3>\n",
    "In the world of stock analysis, there is almost an overwhelming amount of data available to anyone. For our analysis, we are wanting to focus on two key pieces of information - the trade volume and the stock price (and data related to it). \n",
    "\n",
    "Volume data is useful because it can tell you about the amount of attention that a stock is currently recieving. When the volume is around its average, there may not be much going on for that company. When the volume spikes up, a number of different things may be occuring - for good or bad reasons. Such as the company may have announced an aquistion or a legal situation may have been brought to light.\n",
    "\n",
    "Once we have information regarding the volume of the trades, we will then look at the stock price information. Is the stock price trending up or down? By how much is it trending up or down? Has it been trending up or down over the last few days? We will look at raw values as well as percentages for the prices.\n",
    "\n",
    "As input, we would like the user of our tool to provide a series of different stocks that they are looking at. We will then gather data related to each, add a few calculated fields, create a model for each stock, predict the intraday change for the stock for that day, then return the stock with the highest predicted intraday change based on percentage.\n",
    "\n",
    "In the below rest of this notebook, we will go through the process of collecting the data and adding the calculated fields."
   ]
  },
  {
   "cell_type": "markdown",
   "metadata": {},
   "source": [
    "<h3>Imports</h3>"
   ]
  },
  {
   "cell_type": "code",
   "execution_count": 22,
   "metadata": {},
   "outputs": [],
   "source": [
    "import yfinance as yf\n",
    "import pandas as pd\n",
    "import numpy as np\n",
    "import pickle\n",
    "\n",
    "import plotly.offline as plyo\n",
    "import cufflinks as cf\n",
    "import matplotlib.pyplot as plt "
   ]
  },
  {
   "cell_type": "markdown",
   "metadata": {},
   "source": [
    "<h3>Grabbing Tickers</h3>"
   ]
  },
  {
   "cell_type": "code",
   "execution_count": 4,
   "metadata": {},
   "outputs": [],
   "source": [
    "all_tickers = \"WFC MSFT INTC AMZN PYPL\"\n",
    "selected_stocks = yf.Tickers(all_tickers)\n",
    "tickers = all_tickers.split(\" \")"
   ]
  },
  {
   "cell_type": "markdown",
   "metadata": {},
   "source": [
    "<h3>Getting the History for Each Ticker</h3>"
   ]
  },
  {
   "cell_type": "code",
   "execution_count": 5,
   "metadata": {},
   "outputs": [],
   "source": [
    "selected_history = {}\n",
    "\n",
    "for index in range(len(tickers)):\n",
    "    selected_history[tickers[index]] = selected_stocks.tickers[index].history(period=\"1y\")"
   ]
  },
  {
   "cell_type": "markdown",
   "metadata": {},
   "source": [
    "<h3>Viewing Data</h3>"
   ]
  },
  {
   "cell_type": "code",
   "execution_count": 6,
   "metadata": {},
   "outputs": [
    {
     "name": "stdout",
     "output_type": "stream",
     "text": [
      "<class 'pandas.core.frame.DataFrame'>\n",
      "DatetimeIndex: 253 entries, 2019-10-31 to 2020-10-30\n",
      "Data columns (total 7 columns):\n",
      " #   Column        Non-Null Count  Dtype  \n",
      "---  ------        --------------  -----  \n",
      " 0   Open          253 non-null    float64\n",
      " 1   High          253 non-null    float64\n",
      " 2   Low           253 non-null    float64\n",
      " 3   Close         253 non-null    float64\n",
      " 4   Volume        253 non-null    int64  \n",
      " 5   Dividends     253 non-null    float64\n",
      " 6   Stock Splits  253 non-null    int64  \n",
      "dtypes: float64(5), int64(2)\n",
      "memory usage: 15.8 KB\n"
     ]
    },
    {
     "data": {
      "text/html": [
       "<div>\n",
       "<style scoped>\n",
       "    .dataframe tbody tr th:only-of-type {\n",
       "        vertical-align: middle;\n",
       "    }\n",
       "\n",
       "    .dataframe tbody tr th {\n",
       "        vertical-align: top;\n",
       "    }\n",
       "\n",
       "    .dataframe thead th {\n",
       "        text-align: right;\n",
       "    }\n",
       "</style>\n",
       "<table border=\"1\" class=\"dataframe\">\n",
       "  <thead>\n",
       "    <tr style=\"text-align: right;\">\n",
       "      <th></th>\n",
       "      <th>Open</th>\n",
       "      <th>High</th>\n",
       "      <th>Low</th>\n",
       "      <th>Close</th>\n",
       "      <th>Volume</th>\n",
       "      <th>Dividends</th>\n",
       "      <th>Stock Splits</th>\n",
       "    </tr>\n",
       "    <tr>\n",
       "      <th>Date</th>\n",
       "      <th></th>\n",
       "      <th></th>\n",
       "      <th></th>\n",
       "      <th></th>\n",
       "      <th></th>\n",
       "      <th></th>\n",
       "      <th></th>\n",
       "    </tr>\n",
       "  </thead>\n",
       "  <tbody>\n",
       "    <tr>\n",
       "      <th>2020-10-19</th>\n",
       "      <td>22.889999</td>\n",
       "      <td>22.910000</td>\n",
       "      <td>22.510000</td>\n",
       "      <td>22.540001</td>\n",
       "      <td>37423600</td>\n",
       "      <td>0.0</td>\n",
       "      <td>0</td>\n",
       "    </tr>\n",
       "    <tr>\n",
       "      <th>2020-10-20</th>\n",
       "      <td>22.730000</td>\n",
       "      <td>23.129999</td>\n",
       "      <td>22.690001</td>\n",
       "      <td>22.809999</td>\n",
       "      <td>34751200</td>\n",
       "      <td>0.0</td>\n",
       "      <td>0</td>\n",
       "    </tr>\n",
       "    <tr>\n",
       "      <th>2020-10-21</th>\n",
       "      <td>22.820000</td>\n",
       "      <td>22.950001</td>\n",
       "      <td>22.600000</td>\n",
       "      <td>22.700001</td>\n",
       "      <td>29528300</td>\n",
       "      <td>0.0</td>\n",
       "      <td>0</td>\n",
       "    </tr>\n",
       "    <tr>\n",
       "      <th>2020-10-22</th>\n",
       "      <td>22.660000</td>\n",
       "      <td>23.320000</td>\n",
       "      <td>22.610001</td>\n",
       "      <td>23.250000</td>\n",
       "      <td>32238300</td>\n",
       "      <td>0.0</td>\n",
       "      <td>0</td>\n",
       "    </tr>\n",
       "    <tr>\n",
       "      <th>2020-10-23</th>\n",
       "      <td>23.580000</td>\n",
       "      <td>23.590000</td>\n",
       "      <td>23.120001</td>\n",
       "      <td>23.280001</td>\n",
       "      <td>24558300</td>\n",
       "      <td>0.0</td>\n",
       "      <td>0</td>\n",
       "    </tr>\n",
       "    <tr>\n",
       "      <th>2020-10-26</th>\n",
       "      <td>22.969999</td>\n",
       "      <td>23.020000</td>\n",
       "      <td>22.600000</td>\n",
       "      <td>22.700001</td>\n",
       "      <td>34034100</td>\n",
       "      <td>0.0</td>\n",
       "      <td>0</td>\n",
       "    </tr>\n",
       "    <tr>\n",
       "      <th>2020-10-27</th>\n",
       "      <td>22.610001</td>\n",
       "      <td>22.610001</td>\n",
       "      <td>21.820000</td>\n",
       "      <td>21.820000</td>\n",
       "      <td>49636500</td>\n",
       "      <td>0.0</td>\n",
       "      <td>0</td>\n",
       "    </tr>\n",
       "    <tr>\n",
       "      <th>2020-10-28</th>\n",
       "      <td>21.230000</td>\n",
       "      <td>21.480000</td>\n",
       "      <td>20.799999</td>\n",
       "      <td>21.180000</td>\n",
       "      <td>54835900</td>\n",
       "      <td>0.0</td>\n",
       "      <td>0</td>\n",
       "    </tr>\n",
       "    <tr>\n",
       "      <th>2020-10-29</th>\n",
       "      <td>21.049999</td>\n",
       "      <td>21.379999</td>\n",
       "      <td>20.760000</td>\n",
       "      <td>21.139999</td>\n",
       "      <td>46184000</td>\n",
       "      <td>0.0</td>\n",
       "      <td>0</td>\n",
       "    </tr>\n",
       "    <tr>\n",
       "      <th>2020-10-30</th>\n",
       "      <td>21.100000</td>\n",
       "      <td>21.459999</td>\n",
       "      <td>20.840000</td>\n",
       "      <td>21.450001</td>\n",
       "      <td>34592400</td>\n",
       "      <td>0.0</td>\n",
       "      <td>0</td>\n",
       "    </tr>\n",
       "  </tbody>\n",
       "</table>\n",
       "</div>"
      ],
      "text/plain": [
       "                 Open       High        Low      Close    Volume  Dividends  \\\n",
       "Date                                                                          \n",
       "2020-10-19  22.889999  22.910000  22.510000  22.540001  37423600        0.0   \n",
       "2020-10-20  22.730000  23.129999  22.690001  22.809999  34751200        0.0   \n",
       "2020-10-21  22.820000  22.950001  22.600000  22.700001  29528300        0.0   \n",
       "2020-10-22  22.660000  23.320000  22.610001  23.250000  32238300        0.0   \n",
       "2020-10-23  23.580000  23.590000  23.120001  23.280001  24558300        0.0   \n",
       "2020-10-26  22.969999  23.020000  22.600000  22.700001  34034100        0.0   \n",
       "2020-10-27  22.610001  22.610001  21.820000  21.820000  49636500        0.0   \n",
       "2020-10-28  21.230000  21.480000  20.799999  21.180000  54835900        0.0   \n",
       "2020-10-29  21.049999  21.379999  20.760000  21.139999  46184000        0.0   \n",
       "2020-10-30  21.100000  21.459999  20.840000  21.450001  34592400        0.0   \n",
       "\n",
       "            Stock Splits  \n",
       "Date                      \n",
       "2020-10-19             0  \n",
       "2020-10-20             0  \n",
       "2020-10-21             0  \n",
       "2020-10-22             0  \n",
       "2020-10-23             0  \n",
       "2020-10-26             0  \n",
       "2020-10-27             0  \n",
       "2020-10-28             0  \n",
       "2020-10-29             0  \n",
       "2020-10-30             0  "
      ]
     },
     "execution_count": 6,
     "metadata": {},
     "output_type": "execute_result"
    }
   ],
   "source": [
    "selected_history[tickers[0]].info()\n",
    "selected_history[tickers[0]].tail(10)"
   ]
  },
  {
   "cell_type": "markdown",
   "metadata": {},
   "source": [
    "<h3>Methods for Calculated Data Points</h3>"
   ]
  },
  {
   "cell_type": "code",
   "execution_count": 7,
   "metadata": {},
   "outputs": [],
   "source": [
    "def getIntradayChangeInfo(data_set):\n",
    "    data_set[\"Intraday Change\"] = data_set[\"Open\"] - data_set[\"Close\"]\n",
    "    data_set[\"Intraday Pct Change\"] = data_set[\"Intraday Change\"] / data_set[\"Open\"]\n",
    "    \n",
    "    previous_day_change = 0\n",
    "    previous_day_pct_change = 0\n",
    "    all_previous_day_change = []\n",
    "    all_previous_day_pct_change = []\n",
    "    \n",
    "    for index, row in data_set.iterrows():\n",
    "        all_previous_day_change.append(previous_day_change)\n",
    "        all_previous_day_pct_change.append(previous_day_pct_change)\n",
    "        previous_day_change = row[\"Intraday Change\"]\n",
    "        previous_day_pct_change = row[\"Intraday Pct Change\"]\n",
    "        \n",
    "    data_set[\"Previous Day Change\"] = all_previous_day_change\n",
    "    data_set[\"Previous Day Pct Change\"] = all_previous_day_pct_change\n",
    "    \n",
    "def getFiveDayAverageForIntraChange(data_set):\n",
    "    previous_five_days = pd.Series(dtype=\"float64\")\n",
    "    previous_five_days_averages = []\n",
    "    for index, row in data_set.iterrows():\n",
    "        previous_five_days_averages.append(previous_five_days.mean())\n",
    "        previous_five_days = updateFiveDays(row[\"Intraday Pct Change\"], previous_five_days)\n",
    "        \n",
    "    data_set[\"Previous Five Day Average Pct Change\"] = previous_five_days_averages\n",
    "    data_set[\"Previous Five Day Average Pct Change\"].fillna(0, inplace=True)\n",
    "        \n",
    "\n",
    "def updateFiveDays(current_day, five_days):\n",
    "    if(five_days.size == 5):\n",
    "        five_days[\"1\"] = five_days[\"2\"]\n",
    "        five_days[\"2\"] = five_days[\"3\"]\n",
    "        five_days[\"3\"] = five_days[\"4\"]\n",
    "        five_days[\"4\"] = five_days[\"5\"]\n",
    "        five_days[\"5\"] = current_day\n",
    "    else:\n",
    "        five_days[str(five_days.size + 1)] = current_day\n",
    "    return five_days"
   ]
  },
  {
   "cell_type": "markdown",
   "metadata": {},
   "source": [
    "<h3>Adding Calculated Data Points</h3>"
   ]
  },
  {
   "cell_type": "code",
   "execution_count": 8,
   "metadata": {},
   "outputs": [
    {
     "name": "stdout",
     "output_type": "stream",
     "text": [
      "For WFC\n",
      "                 Open       High        Low      Close    Volume  Dividends  \\\n",
      "Date                                                                          \n",
      "2019-10-31  49.523695  49.772412  48.930598  49.389771  18814700       0.00   \n",
      "2019-11-01  49.868079  50.021136  49.657624  49.915909  16359100       0.00   \n",
      "2019-11-04  50.298551  50.509003  49.973304  50.432476  17559900       0.00   \n",
      "2019-11-05  50.451613  51.178635  50.451613  50.987312  25965300       0.00   \n",
      "2019-11-06  50.977745  51.503880  50.862949  51.465614  22051100       0.00   \n",
      "2019-11-07  51.938844  52.537621  51.938844  52.151314  23452500       0.51   \n",
      "2019-11-08  51.987130  52.373433  51.726373  52.247883  14722100       0.00   \n",
      "2019-11-11  51.948499  52.286515  51.890552  52.199596  10659400       0.00   \n",
      "2019-11-12  51.909866  52.383093  51.784316  52.363777  15187600       0.00   \n",
      "2019-11-13  51.967813  52.054732  51.388351  51.465614  16846800       0.00   \n",
      "\n",
      "            Stock Splits  Intraday Change  Intraday Pct Change  \\\n",
      "Date                                                             \n",
      "2019-10-31             0         0.133925             0.002704   \n",
      "2019-11-01             0        -0.047830            -0.000959   \n",
      "2019-11-04             0        -0.133925            -0.002663   \n",
      "2019-11-05             0        -0.535699            -0.010618   \n",
      "2019-11-06             0        -0.487869            -0.009570   \n",
      "2019-11-07             0        -0.212469            -0.004091   \n",
      "2019-11-08             0        -0.260753            -0.005016   \n",
      "2019-11-11             0        -0.251097            -0.004834   \n",
      "2019-11-12             0        -0.453911            -0.008744   \n",
      "2019-11-13             0         0.502198             0.009664   \n",
      "\n",
      "            Previous Day Change  Previous Day Pct Change  \\\n",
      "Date                                                       \n",
      "2019-10-31             0.000000                 0.000000   \n",
      "2019-11-01             0.133925                 0.002704   \n",
      "2019-11-04            -0.047830                -0.000959   \n",
      "2019-11-05            -0.133925                -0.002663   \n",
      "2019-11-06            -0.535699                -0.010618   \n",
      "2019-11-07            -0.487869                -0.009570   \n",
      "2019-11-08            -0.212469                -0.004091   \n",
      "2019-11-11            -0.260753                -0.005016   \n",
      "2019-11-12            -0.251097                -0.004834   \n",
      "2019-11-13            -0.453911                -0.008744   \n",
      "\n",
      "            Previous Five Day Average Pct Change  \n",
      "Date                                              \n",
      "2019-10-31                              0.000000  \n",
      "2019-11-01                              0.002704  \n",
      "2019-11-04                              0.000873  \n",
      "2019-11-05                             -0.000306  \n",
      "2019-11-06                             -0.002884  \n",
      "2019-11-07                             -0.004221  \n",
      "2019-11-08                             -0.005580  \n",
      "2019-11-11                             -0.006391  \n",
      "2019-11-12                             -0.006826  \n",
      "2019-11-13                             -0.006451  \n",
      "For MSFT\n",
      "                  Open        High         Low       Close    Volume  \\\n",
      "Date                                                                   \n",
      "2019-10-31  143.268941  143.298602  141.380452  141.756165  24605100   \n",
      "2019-11-01  142.636149  142.794351  141.360676  142.102234  33128400   \n",
      "2019-11-04  143.199744  143.367829  142.537288  142.922897  16912000   \n",
      "2019-11-05  143.338177  143.387617  142.290111  142.833923  18250200   \n",
      "2019-11-06  142.744908  142.893229  141.588080  142.438400  16575800   \n",
      "2019-11-07  142.220868  143.249170  142.151664  142.636139  17786700   \n",
      "2019-11-08  142.359293  144.346678  142.141769  144.317017  16732700   \n",
      "2019-11-11  143.703995  144.771840  143.100861  144.465332  14362600   \n",
      "2019-11-12  144.633404  145.908892  144.415880  145.414520  18641600   \n",
      "2019-11-13  145.088249  145.800146  144.633420  145.651825  16919200   \n",
      "\n",
      "            Dividends  Stock Splits  Intraday Change  Intraday Pct Change  \\\n",
      "Date                                                                        \n",
      "2019-10-31        0.0             0         1.512776             0.010559   \n",
      "2019-11-01        0.0             0         0.533915             0.003743   \n",
      "2019-11-04        0.0             0         0.276847             0.001933   \n",
      "2019-11-05        0.0             0         0.504254             0.003518   \n",
      "2019-11-06        0.0             0         0.306508             0.002147   \n",
      "2019-11-07        0.0             0        -0.415270            -0.002920   \n",
      "2019-11-08        0.0             0        -1.957723            -0.013752   \n",
      "2019-11-11        0.0             0        -0.761337            -0.005298   \n",
      "2019-11-12        0.0             0        -0.781116            -0.005401   \n",
      "2019-11-13        0.0             0        -0.563576            -0.003884   \n",
      "\n",
      "            Previous Day Change  Previous Day Pct Change  \\\n",
      "Date                                                       \n",
      "2019-10-31             0.000000                 0.000000   \n",
      "2019-11-01             1.512776                 0.010559   \n",
      "2019-11-04             0.533915                 0.003743   \n",
      "2019-11-05             0.276847                 0.001933   \n",
      "2019-11-06             0.504254                 0.003518   \n",
      "2019-11-07             0.306508                 0.002147   \n",
      "2019-11-08            -0.415270                -0.002920   \n",
      "2019-11-11            -1.957723                -0.013752   \n",
      "2019-11-12            -0.761337                -0.005298   \n",
      "2019-11-13            -0.781116                -0.005401   \n",
      "\n",
      "            Previous Five Day Average Pct Change  \n",
      "Date                                              \n",
      "2019-10-31                              0.000000  \n",
      "2019-11-01                              0.010559  \n",
      "2019-11-04                              0.007151  \n",
      "2019-11-05                              0.005412  \n",
      "2019-11-06                              0.004938  \n",
      "2019-11-07                              0.004380  \n",
      "2019-11-08                              0.001684  \n",
      "2019-11-11                             -0.001815  \n",
      "2019-11-12                             -0.003261  \n",
      "2019-11-13                             -0.005045  \n",
      "For INTC\n",
      "                 Open       High        Low      Close    Volume  Dividends  \\\n",
      "Date                                                                          \n",
      "2019-10-31  55.060070  55.323980  54.366074  55.255558  19249700      0.000   \n",
      "2019-11-01  54.678862  55.372858  54.366077  55.236012  17953500      0.000   \n",
      "2019-11-04  55.646544  56.496930  55.568346  56.311214  19068000      0.000   \n",
      "2019-11-05  56.174373  57.034531  55.920232  56.252567  20865400      0.000   \n",
      "2019-11-06  56.503189  56.719410  56.001941  56.611298  17721000      0.315   \n",
      "2019-11-07  57.004433  57.544991  56.866836  57.053574  16962800      0.000   \n",
      "2019-11-08  56.857009  57.299286  56.326281  57.269802  11888900      0.000   \n",
      "2019-11-11  56.974948  57.495850  56.906150  57.348423  11228900      0.000   \n",
      "2019-11-12  57.397568  57.790700  57.033916  57.201000  11952500      0.000   \n",
      "2019-11-13  56.876663  56.974949  56.365589  56.896320  15332700      0.000   \n",
      "\n",
      "            Stock Splits  Intraday Change  Intraday Pct Change  \\\n",
      "Date                                                             \n",
      "2019-10-31             0        -0.195488            -0.003550   \n",
      "2019-11-01             0        -0.557149            -0.010189   \n",
      "2019-11-04             0        -0.664670            -0.011944   \n",
      "2019-11-05             0        -0.078195            -0.001392   \n",
      "2019-11-06             0        -0.108109            -0.001913   \n",
      "2019-11-07             0        -0.049141            -0.000862   \n",
      "2019-11-08             0        -0.412793            -0.007260   \n",
      "2019-11-11             0        -0.373475            -0.006555   \n",
      "2019-11-12             0         0.196568             0.003425   \n",
      "2019-11-13             0        -0.019657            -0.000346   \n",
      "\n",
      "            Previous Day Change  Previous Day Pct Change  \\\n",
      "Date                                                       \n",
      "2019-10-31             0.000000                 0.000000   \n",
      "2019-11-01            -0.195488                -0.003550   \n",
      "2019-11-04            -0.557149                -0.010189   \n",
      "2019-11-05            -0.664670                -0.011944   \n",
      "2019-11-06            -0.078195                -0.001392   \n",
      "2019-11-07            -0.108109                -0.001913   \n",
      "2019-11-08            -0.049141                -0.000862   \n",
      "2019-11-11            -0.412793                -0.007260   \n",
      "2019-11-12            -0.373475                -0.006555   \n",
      "2019-11-13             0.196568                 0.003425   \n",
      "\n",
      "            Previous Five Day Average Pct Change  \n",
      "Date                                              \n",
      "2019-10-31                              0.000000  \n",
      "2019-11-01                             -0.003550  \n",
      "2019-11-04                             -0.006870  \n",
      "2019-11-05                             -0.008561  \n",
      "2019-11-06                             -0.006769  \n",
      "2019-11-07                             -0.005798  \n",
      "2019-11-08                             -0.005260  \n",
      "2019-11-11                             -0.004674  \n",
      "2019-11-12                             -0.003597  \n",
      "2019-11-13                             -0.002633  \n",
      "For AMZN\n",
      "                   Open         High          Low        Close   Volume  \\\n",
      "Date                                                                      \n",
      "2019-10-31  1775.989990  1792.000000  1771.479980  1776.660034  2781200   \n",
      "2019-11-01  1788.010010  1797.449951  1785.209961  1791.439941  2790400   \n",
      "2019-11-04  1801.010010  1815.060059  1801.010010  1804.660034  2771900   \n",
      "2019-11-05  1809.160034  1810.250000  1794.000000  1801.709961  1885500   \n",
      "2019-11-06  1801.000000  1802.500000  1788.579956  1795.770020  2029800   \n",
      "2019-11-07  1803.760010  1805.900024  1783.479980  1788.199951  2651100   \n",
      "2019-11-08  1787.890015  1789.880005  1774.040039  1785.880005  2123300   \n",
      "2019-11-11  1778.000000  1780.000000  1767.130005  1771.650024  1946000   \n",
      "2019-11-12  1774.660034  1786.219971  1771.910034  1778.000000  2037600   \n",
      "2019-11-13  1773.390015  1775.000000  1747.319946  1753.109985  2989500   \n",
      "\n",
      "            Dividends  Stock Splits  Intraday Change  Intraday Pct Change  \\\n",
      "Date                                                                        \n",
      "2019-10-31          0             0        -0.670044            -0.000377   \n",
      "2019-11-01          0             0        -3.429932            -0.001918   \n",
      "2019-11-04          0             0        -3.650024            -0.002027   \n",
      "2019-11-05          0             0         7.450073             0.004118   \n",
      "2019-11-06          0             0         5.229980             0.002904   \n",
      "2019-11-07          0             0        15.560059             0.008626   \n",
      "2019-11-08          0             0         2.010010             0.001124   \n",
      "2019-11-11          0             0         6.349976             0.003571   \n",
      "2019-11-12          0             0        -3.339966            -0.001882   \n",
      "2019-11-13          0             0        20.280029             0.011436   \n",
      "\n",
      "            Previous Day Change  Previous Day Pct Change  \\\n",
      "Date                                                       \n",
      "2019-10-31             0.000000                 0.000000   \n",
      "2019-11-01            -0.670044                -0.000377   \n",
      "2019-11-04            -3.429932                -0.001918   \n",
      "2019-11-05            -3.650024                -0.002027   \n",
      "2019-11-06             7.450073                 0.004118   \n",
      "2019-11-07             5.229980                 0.002904   \n",
      "2019-11-08            15.560059                 0.008626   \n",
      "2019-11-11             2.010010                 0.001124   \n",
      "2019-11-12             6.349976                 0.003571   \n",
      "2019-11-13            -3.339966                -0.001882   \n",
      "\n",
      "            Previous Five Day Average Pct Change  \n",
      "Date                                              \n",
      "2019-10-31                              0.000000  \n",
      "2019-11-01                             -0.000377  \n",
      "2019-11-04                             -0.001148  \n",
      "2019-11-05                             -0.001441  \n",
      "2019-11-06                             -0.000051  \n",
      "2019-11-07                              0.000540  \n",
      "2019-11-08                              0.002341  \n",
      "2019-11-11                              0.002949  \n",
      "2019-11-12                              0.004069  \n"
     ]
    },
    {
     "name": "stdout",
     "output_type": "stream",
     "text": [
      "2019-11-13                              0.002869  \n",
      "For PYPL\n",
      "                  Open        High         Low       Close   Volume  \\\n",
      "Date                                                                  \n",
      "2019-10-31  106.470001  106.500000  103.260002  104.099998  7200500   \n",
      "2019-11-01  104.699997  105.300003  103.930000  104.980003  5489500   \n",
      "2019-11-04  105.720001  105.760002  102.605003  102.809998  5818400   \n",
      "2019-11-05  103.050003  103.250000  100.285004  100.989998  9236200   \n",
      "2019-11-06  101.199997  101.339996  100.169998  100.629997  7331900   \n",
      "2019-11-07  100.940002  101.720001  100.290001  100.470001  9088400   \n",
      "2019-11-08  100.025002  101.709999   99.599998  101.419998  5451300   \n",
      "2019-11-11  101.040001  103.040001  100.660004  102.669998  5391000   \n",
      "2019-11-12  102.970001  103.089996  100.919998  102.029999  6715200   \n",
      "2019-11-13  102.000000  103.599998  101.629997  102.120003  5246600   \n",
      "\n",
      "            Dividends  Stock Splits  Intraday Change  Intraday Pct Change  \\\n",
      "Date                                                                        \n",
      "2019-10-31          0             0         2.370003             0.022260   \n",
      "2019-11-01          0             0        -0.280006            -0.002674   \n",
      "2019-11-04          0             0         2.910004             0.027526   \n",
      "2019-11-05          0             0         2.060005             0.019990   \n",
      "2019-11-06          0             0         0.570000             0.005632   \n",
      "2019-11-07          0             0         0.470001             0.004656   \n",
      "2019-11-08          0             0        -1.394997            -0.013946   \n",
      "2019-11-11          0             0        -1.629997            -0.016132   \n",
      "2019-11-12          0             0         0.940002             0.009129   \n",
      "2019-11-13          0             0        -0.120003            -0.001176   \n",
      "\n",
      "            Previous Day Change  Previous Day Pct Change  \\\n",
      "Date                                                       \n",
      "2019-10-31             0.000000                 0.000000   \n",
      "2019-11-01             2.370003                 0.022260   \n",
      "2019-11-04            -0.280006                -0.002674   \n",
      "2019-11-05             2.910004                 0.027526   \n",
      "2019-11-06             2.060005                 0.019990   \n",
      "2019-11-07             0.570000                 0.005632   \n",
      "2019-11-08             0.470001                 0.004656   \n",
      "2019-11-11            -1.394997                -0.013946   \n",
      "2019-11-12            -1.629997                -0.016132   \n",
      "2019-11-13             0.940002                 0.009129   \n",
      "\n",
      "            Previous Five Day Average Pct Change  \n",
      "Date                                              \n",
      "2019-10-31                              0.000000  \n",
      "2019-11-01                              0.022260  \n",
      "2019-11-04                              0.009793  \n",
      "2019-11-05                              0.015704  \n",
      "2019-11-06                              0.016775  \n",
      "2019-11-07                              0.014547  \n",
      "2019-11-08                              0.011026  \n",
      "2019-11-11                              0.008772  \n",
      "2019-11-12                              0.000040  \n",
      "2019-11-13                             -0.002132  \n"
     ]
    }
   ],
   "source": [
    "for key, history in selected_history.items():\n",
    "    getIntradayChangeInfo(history)\n",
    "    getFiveDayAverageForIntraChange(history)\n",
    "    print(\"For {}\".format(key))\n",
    "    print(history.head(10))"
   ]
  },
  {
   "cell_type": "markdown",
   "metadata": {},
   "source": [
    "<h3>Viewing the Data<h3>"
   ]
  },
  {
   "cell_type": "code",
   "execution_count": 24,
   "metadata": {},
   "outputs": [
    {
     "data": {
      "application/vnd.plotly.v1+json": {
       "config": {
        "linkText": "Export to plot.ly",
        "plotlyServerURL": "https://plot.ly",
        "showLink": false
       },
       "data": [
        {
         "line": {
          "color": "rgba(255, 153, 51, 1.0)",
          "dash": "solid",
          "shape": "linear",
          "width": 1.3
         },
         "mode": "lines",
         "name": "Previous Day Pct Change",
         "text": "",
         "type": "scatter",
         "x": [
          "2019-10-31",
          "2019-11-01",
          "2019-11-04",
          "2019-11-05",
          "2019-11-06",
          "2019-11-07",
          "2019-11-08",
          "2019-11-11",
          "2019-11-12",
          "2019-11-13",
          "2019-11-14",
          "2019-11-15",
          "2019-11-18",
          "2019-11-19",
          "2019-11-20",
          "2019-11-21",
          "2019-11-22",
          "2019-11-25",
          "2019-11-26",
          "2019-11-27",
          "2019-11-29",
          "2019-12-02",
          "2019-12-03",
          "2019-12-04",
          "2019-12-05",
          "2019-12-06",
          "2019-12-09",
          "2019-12-10",
          "2019-12-11",
          "2019-12-12",
          "2019-12-13",
          "2019-12-16",
          "2019-12-17",
          "2019-12-18",
          "2019-12-19",
          "2019-12-20",
          "2019-12-23",
          "2019-12-24",
          "2019-12-26",
          "2019-12-27",
          "2019-12-30",
          "2019-12-31",
          "2020-01-02",
          "2020-01-03",
          "2020-01-06",
          "2020-01-07",
          "2020-01-08",
          "2020-01-09",
          "2020-01-10",
          "2020-01-13",
          "2020-01-14",
          "2020-01-15",
          "2020-01-16",
          "2020-01-17",
          "2020-01-21",
          "2020-01-22",
          "2020-01-23",
          "2020-01-24",
          "2020-01-27",
          "2020-01-28",
          "2020-01-29",
          "2020-01-30",
          "2020-01-31",
          "2020-02-03",
          "2020-02-04",
          "2020-02-05",
          "2020-02-06",
          "2020-02-07",
          "2020-02-10",
          "2020-02-11",
          "2020-02-12",
          "2020-02-13",
          "2020-02-14",
          "2020-02-18",
          "2020-02-19",
          "2020-02-20",
          "2020-02-21",
          "2020-02-24",
          "2020-02-25",
          "2020-02-26",
          "2020-02-27",
          "2020-02-28",
          "2020-03-02",
          "2020-03-03",
          "2020-03-04",
          "2020-03-05",
          "2020-03-06",
          "2020-03-09",
          "2020-03-10",
          "2020-03-11",
          "2020-03-12",
          "2020-03-13",
          "2020-03-16",
          "2020-03-17",
          "2020-03-18",
          "2020-03-19",
          "2020-03-20",
          "2020-03-23",
          "2020-03-24",
          "2020-03-25",
          "2020-03-26",
          "2020-03-27",
          "2020-03-30",
          "2020-03-31",
          "2020-04-01",
          "2020-04-02",
          "2020-04-03",
          "2020-04-06",
          "2020-04-07",
          "2020-04-08",
          "2020-04-09",
          "2020-04-13",
          "2020-04-14",
          "2020-04-15",
          "2020-04-16",
          "2020-04-17",
          "2020-04-20",
          "2020-04-21",
          "2020-04-22",
          "2020-04-23",
          "2020-04-24",
          "2020-04-27",
          "2020-04-28",
          "2020-04-29",
          "2020-04-30",
          "2020-05-01",
          "2020-05-04",
          "2020-05-05",
          "2020-05-06",
          "2020-05-07",
          "2020-05-08",
          "2020-05-11",
          "2020-05-12",
          "2020-05-13",
          "2020-05-14",
          "2020-05-15",
          "2020-05-18",
          "2020-05-19",
          "2020-05-20",
          "2020-05-21",
          "2020-05-22",
          "2020-05-26",
          "2020-05-27",
          "2020-05-28",
          "2020-05-29",
          "2020-06-01",
          "2020-06-02",
          "2020-06-03",
          "2020-06-04",
          "2020-06-05",
          "2020-06-08",
          "2020-06-09",
          "2020-06-10",
          "2020-06-11",
          "2020-06-12",
          "2020-06-15",
          "2020-06-16",
          "2020-06-17",
          "2020-06-18",
          "2020-06-19",
          "2020-06-22",
          "2020-06-23",
          "2020-06-24",
          "2020-06-25",
          "2020-06-26",
          "2020-06-29",
          "2020-06-30",
          "2020-07-01",
          "2020-07-02",
          "2020-07-06",
          "2020-07-07",
          "2020-07-08",
          "2020-07-09",
          "2020-07-10",
          "2020-07-13",
          "2020-07-14",
          "2020-07-15",
          "2020-07-16",
          "2020-07-17",
          "2020-07-20",
          "2020-07-21",
          "2020-07-22",
          "2020-07-23",
          "2020-07-24",
          "2020-07-27",
          "2020-07-28",
          "2020-07-29",
          "2020-07-30",
          "2020-07-31",
          "2020-08-03",
          "2020-08-04",
          "2020-08-05",
          "2020-08-06",
          "2020-08-07",
          "2020-08-10",
          "2020-08-11",
          "2020-08-12",
          "2020-08-13",
          "2020-08-14",
          "2020-08-17",
          "2020-08-18",
          "2020-08-19",
          "2020-08-20",
          "2020-08-21",
          "2020-08-24",
          "2020-08-25",
          "2020-08-26",
          "2020-08-27",
          "2020-08-28",
          "2020-08-31",
          "2020-09-01",
          "2020-09-02",
          "2020-09-03",
          "2020-09-04",
          "2020-09-08",
          "2020-09-09",
          "2020-09-10",
          "2020-09-11",
          "2020-09-14",
          "2020-09-15",
          "2020-09-16",
          "2020-09-17",
          "2020-09-18",
          "2020-09-21",
          "2020-09-22",
          "2020-09-23",
          "2020-09-24",
          "2020-09-25",
          "2020-09-28",
          "2020-09-29",
          "2020-09-30",
          "2020-10-01",
          "2020-10-02",
          "2020-10-05",
          "2020-10-06",
          "2020-10-07",
          "2020-10-08",
          "2020-10-09",
          "2020-10-12",
          "2020-10-13",
          "2020-10-14",
          "2020-10-15",
          "2020-10-16",
          "2020-10-19",
          "2020-10-20",
          "2020-10-21",
          "2020-10-22",
          "2020-10-23",
          "2020-10-26",
          "2020-10-27",
          "2020-10-28",
          "2020-10-29",
          "2020-10-30"
         ],
         "y": [
          0,
          -0.0035504516552658334,
          -0.0101894835326662,
          -0.011944498533824075,
          -0.0013919960789665544,
          -0.001913320446040129,
          -0.0008620558113886694,
          -0.00726019005567407,
          -0.006555067197105062,
          0.0034246705087982604,
          -0.0003456101284401204,
          -0.003471632716898687,
          0.0036100926780631023,
          -0.009532049043122518,
          0.002223000498167505,
          0.006179141881664663,
          -0.012697852164261565,
          0.012512847794429613,
          -0.013965540918810637,
          0.0008481634675733308,
          0.00034171293662736007,
          0.0017197297711825784,
          0.015200672950395053,
          0.013893790134492521,
          0.011295435781362101,
          0.005849991442121204,
          -0.0026473972164289734,
          0.00017690371539624494,
          0.0021160101185333765,
          -0.0028114540123195565,
          -0.01409690285569257,
          -0.004170315927862742,
          0.008761352509095802,
          0.012068978671369914,
          0.003833441767605333,
          -0.013818452699487298,
          -0.010802487507062584,
          -0.0028783976463331896,
          -0.002700419365605224,
          -0.006901192534340066,
          -0.0028376228355127104,
          0.006167740227199269,
          -0.0038577582414770287,
          -0.009960133755035511,
          -0.004848638926124178,
          -0.005705657857312982,
          0.014218777040448272,
          -0.0013584960414984668,
          -0.004233700308722426,
          0.010575811169090309,
          -0.007098225395298556,
          0.001008595925334022,
          0.006070836677626321,
          -0.006749941566123304,
          0.006335463004591175,
          -0.012372476956671393,
          -0.027686739865023124,
          -0.007317834553073455,
          -0.028541408060523563,
          0.015437631301740355,
          -0.012180414414943526,
          0.01922217174565356,
          -0.01264475683687452,
          0.028419493310829966,
          0.0006205540815308082,
          0.004713358285178353,
          -0.009746496816452581,
          0.0031204562309703815,
          0.012563624882096001,
          -0.012660187034218158,
          -0.008678764255026046,
          0.00207099693503737,
          -0.0067174890578715896,
          0.003702606819155957,
          0.007800843742775149,
          -0.010845025264684432,
          0.0237172426248713,
          0.01288744957582426,
          -0.002434632522247274,
          0.03645752661780488,
          0.0076526215239039784,
          0.03625062080197285,
          -0.022467794435445474,
          -0.04283920685477636,
          0.035498838565005894,
          -0.029293142129628972,
          0.0017525812550219122,
          -0.010692282517667033,
          0.020608623508469405,
          -0.023123602341078856,
          0.013933948286713725,
          0.051052316675345495,
          -0.12784919598493993,
          0.06103973507966333,
          -0.09440567456246218,
          -0.01926785578075692,
          0.039715750832332,
          0.014620436788183928,
          -0.07735769964970608,
          0.013925439824406194,
          0.02324697468263607,
          -0.07344412666770439,
          0.01965554610728043,
          -0.04717871147031703,
          0.01707232869525938,
          0.01180950346447176,
          -0.05966070391836109,
          -0.005199676916030097,
          -0.031785258751725734,
          0.025692311246464726,
          0.00016955646628025956,
          0.03739894201274635,
          -0.037652485055786875,
          -0.010326431086452956,
          0.014563152362542067,
          -0.01979534126981479,
          0.026765556839080967,
          0.0016868838761855708,
          0.030115298255361946,
          -0.03140549171067668,
          0.010558023676056457,
          -0.054448354395959936,
          0.004186202191726172,
          0.020670139086058577,
          -0.039703914281234716,
          0.022649493463267167,
          0.0231174667350367,
          -0.015231140806208897,
          0.0006804033833036305,
          -0.0023712633380330935,
          0.012681497286173652,
          1.1988744969421954e-16,
          -0.00652827885321283,
          0.03038860501426809,
          0.012147118480840654,
          -0.03070485250524858,
          -0.015330962195553455,
          -0.0030129977472598563,
          -0.002660898795442568,
          -0.0317200561077352,
          0.01774958730536424,
          -0.004517566656419033,
          0.02104271586316211,
          -0.01989733126667179,
          0.020634908524770516,
          -0.01663972138783005,
          0.010081629879877572,
          -0.00680710151947984,
          0.008326668557420817,
          -0.019922246660147365,
          -0.01546710413665861,
          0.004689745912662499,
          -0.0007937646567429943,
          -0.01720015927074714,
          0.05343267715540071,
          0.012976189841571166,
          -0.012978200224214025,
          0.017726461584560167,
          0.004115903738748568,
          0.00447384672564971,
          0.016982729894155904,
          -0.006027132313922081,
          0.004485802690214075,
          0.009221985960583488,
          0.007968823742810523,
          0.016925998462251266,
          -0.013920292675622028,
          -0.01907686533891026,
          0.01836084922254614,
          0.0010136435206247235,
          -0.013964572169237398,
          0.012866062729974793,
          -0.002737379731799048,
          -0.0037800241086243347,
          -0.027264848931078268,
          0.021056121629684135,
          -0.0191809336588735,
          0,
          -0.0102493758923386,
          -0.009761054340755982,
          -0.01780958159477203,
          0.01332899363983571,
          0.004240778509323872,
          0.014038472399892248,
          0.029913735908845197,
          0.028610603946653098,
          0.0048504014953488755,
          0.02869270429344972,
          -0.0033451775305647132,
          0.008310856368210098,
          -0.0006214787448183862,
          -0.010905403510997143,
          0.01609016556951933,
          0.004509145656382022,
          0.010302905678483189,
          -0.021161834888350065,
          0.029014757413160296,
          -0.010684209519766669,
          0.01421025115902603,
          -0.0032833952168095305,
          0.003665247463626384,
          0.012383207804285425,
          0.009428142566938592,
          0.01284888951416259,
          -0.0053039232783610715,
          0.0024360319929672036,
          -0.0016211111150619404,
          -0.0032395191210640804,
          0.007832885769777392,
          -0.017349215566796913,
          0.000980377197265625,
          0.002357079792662099,
          -0.020308551730528767,
          0.04019048781622024,
          0.008905540453457522,
          0.007105125579513015,
          -0.0018170836827379438,
          0.020800018310546876,
          -0.0004060182388380026,
          -0.011463692748888896,
          -0.004217695935152446,
          0.002771716378948157,
          -0.019242470801957248,
          0.008742349004540649,
          -0.006681551632573051,
          -0.0012026733618975584,
          0.02026895643421435,
          -0.012981683164269845,
          -0.020016330893828153,
          -0.018214254884470406,
          0.0023387788612396656,
          -0.010538584760761388,
          0.003053432113605758,
          0.009514595698384405,
          -0.007602327396657954,
          0.006575133602931836,
          -0.015814845110043534,
          -0.008693991415597317,
          0.013632111160351141,
          -0.006162499267157821,
          0.008107584724481788,
          0.008516924620774512,
          -0.020853051642106043,
          -0.004823716403947978,
          -0.002019471413372268,
          0.021428538491623943,
          -0.006774569335461639,
          -0.014683784067735581,
          0.00310233124954338,
          0.023615408348008824,
          0.007394522748430502,
          0.01425705944197496,
          0.002938541211188755
         ]
        },
        {
         "line": {
          "color": "rgba(55, 128, 191, 1.0)",
          "dash": "solid",
          "shape": "linear",
          "width": 1.3
         },
         "mode": "lines",
         "name": "Previous Five Day Average Pct Change",
         "text": "",
         "type": "scatter",
         "x": [
          "2019-10-31",
          "2019-11-01",
          "2019-11-04",
          "2019-11-05",
          "2019-11-06",
          "2019-11-07",
          "2019-11-08",
          "2019-11-11",
          "2019-11-12",
          "2019-11-13",
          "2019-11-14",
          "2019-11-15",
          "2019-11-18",
          "2019-11-19",
          "2019-11-20",
          "2019-11-21",
          "2019-11-22",
          "2019-11-25",
          "2019-11-26",
          "2019-11-27",
          "2019-11-29",
          "2019-12-02",
          "2019-12-03",
          "2019-12-04",
          "2019-12-05",
          "2019-12-06",
          "2019-12-09",
          "2019-12-10",
          "2019-12-11",
          "2019-12-12",
          "2019-12-13",
          "2019-12-16",
          "2019-12-17",
          "2019-12-18",
          "2019-12-19",
          "2019-12-20",
          "2019-12-23",
          "2019-12-24",
          "2019-12-26",
          "2019-12-27",
          "2019-12-30",
          "2019-12-31",
          "2020-01-02",
          "2020-01-03",
          "2020-01-06",
          "2020-01-07",
          "2020-01-08",
          "2020-01-09",
          "2020-01-10",
          "2020-01-13",
          "2020-01-14",
          "2020-01-15",
          "2020-01-16",
          "2020-01-17",
          "2020-01-21",
          "2020-01-22",
          "2020-01-23",
          "2020-01-24",
          "2020-01-27",
          "2020-01-28",
          "2020-01-29",
          "2020-01-30",
          "2020-01-31",
          "2020-02-03",
          "2020-02-04",
          "2020-02-05",
          "2020-02-06",
          "2020-02-07",
          "2020-02-10",
          "2020-02-11",
          "2020-02-12",
          "2020-02-13",
          "2020-02-14",
          "2020-02-18",
          "2020-02-19",
          "2020-02-20",
          "2020-02-21",
          "2020-02-24",
          "2020-02-25",
          "2020-02-26",
          "2020-02-27",
          "2020-02-28",
          "2020-03-02",
          "2020-03-03",
          "2020-03-04",
          "2020-03-05",
          "2020-03-06",
          "2020-03-09",
          "2020-03-10",
          "2020-03-11",
          "2020-03-12",
          "2020-03-13",
          "2020-03-16",
          "2020-03-17",
          "2020-03-18",
          "2020-03-19",
          "2020-03-20",
          "2020-03-23",
          "2020-03-24",
          "2020-03-25",
          "2020-03-26",
          "2020-03-27",
          "2020-03-30",
          "2020-03-31",
          "2020-04-01",
          "2020-04-02",
          "2020-04-03",
          "2020-04-06",
          "2020-04-07",
          "2020-04-08",
          "2020-04-09",
          "2020-04-13",
          "2020-04-14",
          "2020-04-15",
          "2020-04-16",
          "2020-04-17",
          "2020-04-20",
          "2020-04-21",
          "2020-04-22",
          "2020-04-23",
          "2020-04-24",
          "2020-04-27",
          "2020-04-28",
          "2020-04-29",
          "2020-04-30",
          "2020-05-01",
          "2020-05-04",
          "2020-05-05",
          "2020-05-06",
          "2020-05-07",
          "2020-05-08",
          "2020-05-11",
          "2020-05-12",
          "2020-05-13",
          "2020-05-14",
          "2020-05-15",
          "2020-05-18",
          "2020-05-19",
          "2020-05-20",
          "2020-05-21",
          "2020-05-22",
          "2020-05-26",
          "2020-05-27",
          "2020-05-28",
          "2020-05-29",
          "2020-06-01",
          "2020-06-02",
          "2020-06-03",
          "2020-06-04",
          "2020-06-05",
          "2020-06-08",
          "2020-06-09",
          "2020-06-10",
          "2020-06-11",
          "2020-06-12",
          "2020-06-15",
          "2020-06-16",
          "2020-06-17",
          "2020-06-18",
          "2020-06-19",
          "2020-06-22",
          "2020-06-23",
          "2020-06-24",
          "2020-06-25",
          "2020-06-26",
          "2020-06-29",
          "2020-06-30",
          "2020-07-01",
          "2020-07-02",
          "2020-07-06",
          "2020-07-07",
          "2020-07-08",
          "2020-07-09",
          "2020-07-10",
          "2020-07-13",
          "2020-07-14",
          "2020-07-15",
          "2020-07-16",
          "2020-07-17",
          "2020-07-20",
          "2020-07-21",
          "2020-07-22",
          "2020-07-23",
          "2020-07-24",
          "2020-07-27",
          "2020-07-28",
          "2020-07-29",
          "2020-07-30",
          "2020-07-31",
          "2020-08-03",
          "2020-08-04",
          "2020-08-05",
          "2020-08-06",
          "2020-08-07",
          "2020-08-10",
          "2020-08-11",
          "2020-08-12",
          "2020-08-13",
          "2020-08-14",
          "2020-08-17",
          "2020-08-18",
          "2020-08-19",
          "2020-08-20",
          "2020-08-21",
          "2020-08-24",
          "2020-08-25",
          "2020-08-26",
          "2020-08-27",
          "2020-08-28",
          "2020-08-31",
          "2020-09-01",
          "2020-09-02",
          "2020-09-03",
          "2020-09-04",
          "2020-09-08",
          "2020-09-09",
          "2020-09-10",
          "2020-09-11",
          "2020-09-14",
          "2020-09-15",
          "2020-09-16",
          "2020-09-17",
          "2020-09-18",
          "2020-09-21",
          "2020-09-22",
          "2020-09-23",
          "2020-09-24",
          "2020-09-25",
          "2020-09-28",
          "2020-09-29",
          "2020-09-30",
          "2020-10-01",
          "2020-10-02",
          "2020-10-05",
          "2020-10-06",
          "2020-10-07",
          "2020-10-08",
          "2020-10-09",
          "2020-10-12",
          "2020-10-13",
          "2020-10-14",
          "2020-10-15",
          "2020-10-16",
          "2020-10-19",
          "2020-10-20",
          "2020-10-21",
          "2020-10-22",
          "2020-10-23",
          "2020-10-26",
          "2020-10-27",
          "2020-10-28",
          "2020-10-29",
          "2020-10-30"
         ],
         "y": [
          0,
          -0.0035504516552658334,
          -0.006869967593966016,
          -0.008561477907252035,
          -0.006769107450180665,
          -0.005797950049352558,
          -0.005260270880577125,
          -0.0046744121851787,
          -0.0035965259178348968,
          -0.0026331926002819343,
          -0.002319650536761932,
          -0.002841565917863936,
          -0.0006675093711165013,
          -0.0012629057403199927,
          -0.0015032397424461438,
          -0.00019828934042518694,
          -0.002043533229897763,
          -0.0002629822066244604,
          -0.0011496805817620844,
          -0.001424647987880919,
          -0.0025921337768883795,
          0.00029138261020044906,
          0.0008289476413935369,
          0.0064008138520541685,
          0.008490268314811924,
          0.009591924015910693,
          0.008718498618388382,
          0.005713744771388619,
          0.003358188768196791,
          0.0005368108094604591,
          -0.0034525680501022956,
          -0.0037571517923890496,
          -0.0020402620336491383,
          -4.966832308183067e-05,
          0.0012793108329031474,
          0.0013350008641442018,
          8.566548304233396e-06,
          -0.002319383482781565,
          -0.005273263090176593,
          -0.007420189950565673,
          -0.0052240239777707545,
          -0.0018299784309183844,
          -0.002025850549947152,
          -0.0034777934278332097,
          -0.003067282706190032,
          -0.0036408897105500867,
          -0.002030682347900285,
          -0.001530829907904573,
          -0.0003855432186419563,
          0.002699346800400941,
          0.002420833292803826,
          -0.0002212029302190236,
          0.001264663613605934,
          0.0007614153621257584,
          -8.665427077406834e-05,
          -0.0011415045830486358,
          -0.006880571741120065,
          -0.009558305987260022,
          -0.013916599286140075,
          -0.012096165626710238,
          -0.012057753118364663,
          -0.002675970796229326,
          -0.003741355252989538,
          0.007650825021281167,
          0.004687409577239258,
          0.008066164117263633,
          0.002272430404842406,
          0.005425473018411386,
          0.0022542993326645925,
          -0.00040184889048520067,
          -0.0030802733985260803,
          -0.0007167746482280903,
          -0.0026843637059964843,
          -0.004456567318584494,
          -0.0003643611631858317,
          -0.0007976133651175093,
          0.003531635772849277,
          0.007452623499588447,
          0.0062251756313078015,
          0.011956512206313748,
          0.015656041564031428,
          0.018162717199451738,
          0.011091668397197796,
          0.003010753530691977,
          0.002819015920132179,
          -0.004570136810574411,
          -0.0114697447199646,
          -0.009114642336408912,
          0.0035749237362402418,
          -0.00814956444497671,
          0.0004958536382918307,
          0.010355800722356548,
          -0.013075581971098033,
          -0.004989359656859246,
          -0.019245774101135912,
          -0.025886134914630043,
          -0.028153448083232745,
          0.000340478471392032,
          -0.02733900847448185,
          -0.005672785597108177,
          0.0028301804955704222,
          -0.019801795004436858,
          -0.018794773140617553,
          -0.012758975504739745,
          -0.012129597730569108,
          -0.014417091974201967,
          -0.01166040742433331,
          -0.016631452028995415,
          -0.013552761485277157,
          -0.011828764975036089,
          -0.014156754374674388,
          0.0052551748115471,
          -0.0012353868164042547,
          0.003056378716650301,
          0.0008305469398657689,
          -0.0031624326073532412,
          -0.005289109642086317,
          0.0025787641443081716,
          0.010667110012671153,
          0.0014733811980274028,
          0.007544054187201654,
          -0.008698728059806529,
          -0.008198864396698409,
          -0.01008789623055908,
          -0.011747580744670688,
          -0.009329286787228547,
          0.006183877438970781,
          0.002300408839383767,
          -0.0016975383011672228,
          0.005768991887473102,
          0.003775392652054399,
          -0.0008481006949529177,
          0.0008924716956462958,
          0.006834112021839188,
          0.009737788385613937,
          0.0010605184273294911,
          -0.002005674011781225,
          -0.0013026177905906297,
          -0.00791251855253276,
          -0.016685953470247934,
          -0.006995065508125367,
          -0.004832386400298483,
          -2.1243678214089706e-05,
          -0.003468530172459934,
          0.00700246275404121,
          0.0001246010154023508,
          0.003044440322661672,
          -0.0025255231538667184,
          0.003119276810951803,
          -0.0049921542260317735,
          -0.004757630775797486,
          -0.0058360075692405,
          -0.004633340196693131,
          -0.009738705762326721,
          0.004932279000782894,
          0.010620937796428849,
          0.007087348569053543,
          0.010791393817314176,
          0.015054606419213318,
          0.005262840333263118,
          0.006064148343780064,
          0.007454361925838454,
          0.004806230146969235,
          0.005827446591336219,
          0.006526441994768381,
          0.006515095708387454,
          0.004936463636047465,
          0.0002239300302225973,
          0.002051702682615129,
          0.0006606666381779684,
          -0.005517447488119765,
          -0.00016017640700040012,
          0.0031077207144218416,
          -0.0013204539518122528,
          -0.006976152442152851,
          2.7986317631455147e-05,
          -0.006381412960138204,
          -0.005833937013778394,
          -0.007127807370521247,
          -0.0036270484524567894,
          -0.011400189097348024,
          -0.00489820363760618,
          -0.0040500479357414056,
          0.0008075217227047633,
          0.008742479772625,
          0.018026516880910025,
          0.01633079845201266,
          0.02122118360883783,
          0.017744453622746438,
          0.013423877714619415,
          0.0075774611763251174,
          0.004426300175055915,
          0.0019057924302698375,
          0.003476657067659184,
          0.0038750669297138024,
          -0.00023300429899253267,
          0.007751027885838954,
          0.002396152867981755,
          0.004336373968510557,
          0.0016191137894520126,
          0.0065845302598473016,
          0.0032582203380723276,
          0.00728069075541338,
          0.007008418426440692,
          0.006604312814130384,
          0.006358469719998548,
          0.0035576059361290746,
          0.0010240735985285402,
          2.0872849651500797e-05,
          -0.002388185608035667,
          -0.0026793165671759834,
          -0.0018836783856311754,
          -0.005297484907524112,
          0.0011740355017644574,
          0.006424986705815344,
          0.007649936382264822,
          0.006815103687184814,
          0.015036817695399943,
          0.006917516484388294,
          0.00284366984391901,
          0.0005791055409859176,
          0.0014968655533231377,
          -0.006511632269177686,
          -0.004681958820501956,
          -0.0037255305972387883,
          -0.00312252608258781,
          0.00037692192846542835,
          0.001629079456002909,
          -0.004122656523670851,
          -0.006429197174050322,
          -0.0057209067294228776,
          -0.011882414968418025,
          -0.008675391912842906,
          -0.002769206594400393,
          -0.0006468210968379025,
          0.0002004498515005315,
          -0.0008548022183558976,
          -0.003204286924196513,
          -0.0023807838318031663,
          -0.0020928182059031394,
          -0.0017863279815931484,
          0.0030800259645704605,
          0.0006482139192687149,
          -0.003042951593591108,
          -0.0022143460228339984,
          0.0004498447305944335,
          -0.002608454060652797,
          -0.0013746005457787047,
          0.00021060898491956698,
          0.005337584937195786,
          0.0025307817885570974,
          0.006737107544044417,
          0.010261572599829284
         ]
        },
        {
         "line": {
          "color": "rgba(50, 171, 96, 1.0)",
          "dash": "solid",
          "shape": "linear",
          "width": 1.3
         },
         "mode": "lines",
         "name": "Intraday Pct Change",
         "text": "",
         "type": "scatter",
         "x": [
          "2019-10-31",
          "2019-11-01",
          "2019-11-04",
          "2019-11-05",
          "2019-11-06",
          "2019-11-07",
          "2019-11-08",
          "2019-11-11",
          "2019-11-12",
          "2019-11-13",
          "2019-11-14",
          "2019-11-15",
          "2019-11-18",
          "2019-11-19",
          "2019-11-20",
          "2019-11-21",
          "2019-11-22",
          "2019-11-25",
          "2019-11-26",
          "2019-11-27",
          "2019-11-29",
          "2019-12-02",
          "2019-12-03",
          "2019-12-04",
          "2019-12-05",
          "2019-12-06",
          "2019-12-09",
          "2019-12-10",
          "2019-12-11",
          "2019-12-12",
          "2019-12-13",
          "2019-12-16",
          "2019-12-17",
          "2019-12-18",
          "2019-12-19",
          "2019-12-20",
          "2019-12-23",
          "2019-12-24",
          "2019-12-26",
          "2019-12-27",
          "2019-12-30",
          "2019-12-31",
          "2020-01-02",
          "2020-01-03",
          "2020-01-06",
          "2020-01-07",
          "2020-01-08",
          "2020-01-09",
          "2020-01-10",
          "2020-01-13",
          "2020-01-14",
          "2020-01-15",
          "2020-01-16",
          "2020-01-17",
          "2020-01-21",
          "2020-01-22",
          "2020-01-23",
          "2020-01-24",
          "2020-01-27",
          "2020-01-28",
          "2020-01-29",
          "2020-01-30",
          "2020-01-31",
          "2020-02-03",
          "2020-02-04",
          "2020-02-05",
          "2020-02-06",
          "2020-02-07",
          "2020-02-10",
          "2020-02-11",
          "2020-02-12",
          "2020-02-13",
          "2020-02-14",
          "2020-02-18",
          "2020-02-19",
          "2020-02-20",
          "2020-02-21",
          "2020-02-24",
          "2020-02-25",
          "2020-02-26",
          "2020-02-27",
          "2020-02-28",
          "2020-03-02",
          "2020-03-03",
          "2020-03-04",
          "2020-03-05",
          "2020-03-06",
          "2020-03-09",
          "2020-03-10",
          "2020-03-11",
          "2020-03-12",
          "2020-03-13",
          "2020-03-16",
          "2020-03-17",
          "2020-03-18",
          "2020-03-19",
          "2020-03-20",
          "2020-03-23",
          "2020-03-24",
          "2020-03-25",
          "2020-03-26",
          "2020-03-27",
          "2020-03-30",
          "2020-03-31",
          "2020-04-01",
          "2020-04-02",
          "2020-04-03",
          "2020-04-06",
          "2020-04-07",
          "2020-04-08",
          "2020-04-09",
          "2020-04-13",
          "2020-04-14",
          "2020-04-15",
          "2020-04-16",
          "2020-04-17",
          "2020-04-20",
          "2020-04-21",
          "2020-04-22",
          "2020-04-23",
          "2020-04-24",
          "2020-04-27",
          "2020-04-28",
          "2020-04-29",
          "2020-04-30",
          "2020-05-01",
          "2020-05-04",
          "2020-05-05",
          "2020-05-06",
          "2020-05-07",
          "2020-05-08",
          "2020-05-11",
          "2020-05-12",
          "2020-05-13",
          "2020-05-14",
          "2020-05-15",
          "2020-05-18",
          "2020-05-19",
          "2020-05-20",
          "2020-05-21",
          "2020-05-22",
          "2020-05-26",
          "2020-05-27",
          "2020-05-28",
          "2020-05-29",
          "2020-06-01",
          "2020-06-02",
          "2020-06-03",
          "2020-06-04",
          "2020-06-05",
          "2020-06-08",
          "2020-06-09",
          "2020-06-10",
          "2020-06-11",
          "2020-06-12",
          "2020-06-15",
          "2020-06-16",
          "2020-06-17",
          "2020-06-18",
          "2020-06-19",
          "2020-06-22",
          "2020-06-23",
          "2020-06-24",
          "2020-06-25",
          "2020-06-26",
          "2020-06-29",
          "2020-06-30",
          "2020-07-01",
          "2020-07-02",
          "2020-07-06",
          "2020-07-07",
          "2020-07-08",
          "2020-07-09",
          "2020-07-10",
          "2020-07-13",
          "2020-07-14",
          "2020-07-15",
          "2020-07-16",
          "2020-07-17",
          "2020-07-20",
          "2020-07-21",
          "2020-07-22",
          "2020-07-23",
          "2020-07-24",
          "2020-07-27",
          "2020-07-28",
          "2020-07-29",
          "2020-07-30",
          "2020-07-31",
          "2020-08-03",
          "2020-08-04",
          "2020-08-05",
          "2020-08-06",
          "2020-08-07",
          "2020-08-10",
          "2020-08-11",
          "2020-08-12",
          "2020-08-13",
          "2020-08-14",
          "2020-08-17",
          "2020-08-18",
          "2020-08-19",
          "2020-08-20",
          "2020-08-21",
          "2020-08-24",
          "2020-08-25",
          "2020-08-26",
          "2020-08-27",
          "2020-08-28",
          "2020-08-31",
          "2020-09-01",
          "2020-09-02",
          "2020-09-03",
          "2020-09-04",
          "2020-09-08",
          "2020-09-09",
          "2020-09-10",
          "2020-09-11",
          "2020-09-14",
          "2020-09-15",
          "2020-09-16",
          "2020-09-17",
          "2020-09-18",
          "2020-09-21",
          "2020-09-22",
          "2020-09-23",
          "2020-09-24",
          "2020-09-25",
          "2020-09-28",
          "2020-09-29",
          "2020-09-30",
          "2020-10-01",
          "2020-10-02",
          "2020-10-05",
          "2020-10-06",
          "2020-10-07",
          "2020-10-08",
          "2020-10-09",
          "2020-10-12",
          "2020-10-13",
          "2020-10-14",
          "2020-10-15",
          "2020-10-16",
          "2020-10-19",
          "2020-10-20",
          "2020-10-21",
          "2020-10-22",
          "2020-10-23",
          "2020-10-26",
          "2020-10-27",
          "2020-10-28",
          "2020-10-29",
          "2020-10-30"
         ],
         "y": [
          -0.0035504516552658334,
          -0.0101894835326662,
          -0.011944498533824075,
          -0.0013919960789665544,
          -0.001913320446040129,
          -0.0008620558113886694,
          -0.00726019005567407,
          -0.006555067197105062,
          0.0034246705087982604,
          -0.0003456101284401204,
          -0.003471632716898687,
          0.0036100926780631023,
          -0.009532049043122518,
          0.002223000498167505,
          0.006179141881664663,
          -0.012697852164261565,
          0.012512847794429613,
          -0.013965540918810637,
          0.0008481634675733308,
          0.00034171293662736007,
          0.0017197297711825784,
          0.015200672950395053,
          0.013893790134492521,
          0.011295435781362101,
          0.005849991442121204,
          -0.0026473972164289734,
          0.00017690371539624494,
          0.0021160101185333765,
          -0.0028114540123195565,
          -0.01409690285569257,
          -0.004170315927862742,
          0.008761352509095802,
          0.012068978671369914,
          0.003833441767605333,
          -0.013818452699487298,
          -0.010802487507062584,
          -0.0028783976463331896,
          -0.002700419365605224,
          -0.006901192534340066,
          -0.0028376228355127104,
          0.006167740227199269,
          -0.0038577582414770287,
          -0.009960133755035511,
          -0.004848638926124178,
          -0.005705657857312982,
          0.014218777040448272,
          -0.0013584960414984668,
          -0.004233700308722426,
          0.010575811169090309,
          -0.007098225395298556,
          0.001008595925334022,
          0.006070836677626321,
          -0.006749941566123304,
          0.006335463004591175,
          -0.012372476956671393,
          -0.027686739865023124,
          -0.007317834553073455,
          -0.028541408060523563,
          0.015437631301740355,
          -0.012180414414943526,
          0.01922217174565356,
          -0.01264475683687452,
          0.028419493310829966,
          0.0006205540815308082,
          0.004713358285178353,
          -0.009746496816452581,
          0.0031204562309703815,
          0.012563624882096001,
          -0.012660187034218158,
          -0.008678764255026046,
          0.00207099693503737,
          -0.0067174890578715896,
          0.003702606819155957,
          0.007800843742775149,
          -0.010845025264684432,
          0.0237172426248713,
          0.01288744957582426,
          -0.002434632522247274,
          0.03645752661780488,
          0.0076526215239039784,
          0.03625062080197285,
          -0.022467794435445474,
          -0.04283920685477636,
          0.035498838565005894,
          -0.029293142129628972,
          0.0017525812550219122,
          -0.010692282517667033,
          0.020608623508469405,
          -0.023123602341078856,
          0.013933948286713725,
          0.051052316675345495,
          -0.12784919598493993,
          0.06103973507966333,
          -0.09440567456246218,
          -0.01926785578075692,
          0.039715750832332,
          0.014620436788183928,
          -0.07735769964970608,
          0.013925439824406194,
          0.02324697468263607,
          -0.07344412666770439,
          0.01965554610728043,
          -0.04717871147031703,
          0.01707232869525938,
          0.01180950346447176,
          -0.05966070391836109,
          -0.005199676916030097,
          -0.031785258751725734,
          0.025692311246464726,
          0.00016955646628025956,
          0.03739894201274635,
          -0.037652485055786875,
          -0.010326431086452956,
          0.014563152362542067,
          -0.01979534126981479,
          0.026765556839080967,
          0.0016868838761855708,
          0.030115298255361946,
          -0.03140549171067668,
          0.010558023676056457,
          -0.054448354395959936,
          0.004186202191726172,
          0.020670139086058577,
          -0.039703914281234716,
          0.022649493463267167,
          0.0231174667350367,
          -0.015231140806208897,
          0.0006804033833036305,
          -0.0023712633380330935,
          0.012681497286173652,
          1.1988744969421954e-16,
          -0.00652827885321283,
          0.03038860501426809,
          0.012147118480840654,
          -0.03070485250524858,
          -0.015330962195553455,
          -0.0030129977472598563,
          -0.002660898795442568,
          -0.0317200561077352,
          0.01774958730536424,
          -0.004517566656419033,
          0.02104271586316211,
          -0.01989733126667179,
          0.020634908524770516,
          -0.01663972138783005,
          0.010081629879877572,
          -0.00680710151947984,
          0.008326668557420817,
          -0.019922246660147365,
          -0.01546710413665861,
          0.004689745912662499,
          -0.0007937646567429943,
          -0.01720015927074714,
          0.05343267715540071,
          0.012976189841571166,
          -0.012978200224214025,
          0.017726461584560167,
          0.004115903738748568,
          0.00447384672564971,
          0.016982729894155904,
          -0.006027132313922081,
          0.004485802690214075,
          0.009221985960583488,
          0.007968823742810523,
          0.016925998462251266,
          -0.013920292675622028,
          -0.01907686533891026,
          0.01836084922254614,
          0.0010136435206247235,
          -0.013964572169237398,
          0.012866062729974793,
          -0.002737379731799048,
          -0.0037800241086243347,
          -0.027264848931078268,
          0.021056121629684135,
          -0.0191809336588735,
          0,
          -0.0102493758923386,
          -0.009761054340755982,
          -0.01780958159477203,
          0.01332899363983571,
          0.004240778509323872,
          0.014038472399892248,
          0.029913735908845197,
          0.028610603946653098,
          0.0048504014953488755,
          0.02869270429344972,
          -0.0033451775305647132,
          0.008310856368210098,
          -0.0006214787448183862,
          -0.010905403510997143,
          0.01609016556951933,
          0.004509145656382022,
          0.010302905678483189,
          -0.021161834888350065,
          0.029014757413160296,
          -0.010684209519766669,
          0.01421025115902603,
          -0.0032833952168095305,
          0.003665247463626384,
          0.012383207804285425,
          0.009428142566938592,
          0.01284888951416259,
          -0.0053039232783610715,
          0.0024360319929672036,
          -0.0016211111150619404,
          -0.0032395191210640804,
          0.007832885769777392,
          -0.017349215566796913,
          0.000980377197265625,
          0.002357079792662099,
          -0.020308551730528767,
          0.04019048781622024,
          0.008905540453457522,
          0.007105125579513015,
          -0.0018170836827379438,
          0.020800018310546876,
          -0.0004060182388380026,
          -0.011463692748888896,
          -0.004217695935152446,
          0.002771716378948157,
          -0.019242470801957248,
          0.008742349004540649,
          -0.006681551632573051,
          -0.0012026733618975584,
          0.02026895643421435,
          -0.012981683164269845,
          -0.020016330893828153,
          -0.018214254884470406,
          0.0023387788612396656,
          -0.010538584760761388,
          0.003053432113605758,
          0.009514595698384405,
          -0.007602327396657954,
          0.006575133602931836,
          -0.015814845110043534,
          -0.008693991415597317,
          0.013632111160351141,
          -0.006162499267157821,
          0.008107584724481788,
          0.008516924620774512,
          -0.020853051642106043,
          -0.004823716403947978,
          -0.002019471413372268,
          0.021428538491623943,
          -0.006774569335461639,
          -0.014683784067735581,
          0.00310233124954338,
          0.023615408348008824,
          0.007394522748430502,
          0.01425705944197496,
          0.002938541211188755,
          -0.004081639714373451
         ]
        }
       ],
       "layout": {
        "legend": {
         "bgcolor": "#F5F6F9",
         "font": {
          "color": "#4D5663"
         }
        },
        "paper_bgcolor": "#F5F6F9",
        "plot_bgcolor": "#F5F6F9",
        "template": {
         "data": {
          "bar": [
           {
            "error_x": {
             "color": "#2a3f5f"
            },
            "error_y": {
             "color": "#2a3f5f"
            },
            "marker": {
             "line": {
              "color": "#E5ECF6",
              "width": 0.5
             }
            },
            "type": "bar"
           }
          ],
          "barpolar": [
           {
            "marker": {
             "line": {
              "color": "#E5ECF6",
              "width": 0.5
             }
            },
            "type": "barpolar"
           }
          ],
          "carpet": [
           {
            "aaxis": {
             "endlinecolor": "#2a3f5f",
             "gridcolor": "white",
             "linecolor": "white",
             "minorgridcolor": "white",
             "startlinecolor": "#2a3f5f"
            },
            "baxis": {
             "endlinecolor": "#2a3f5f",
             "gridcolor": "white",
             "linecolor": "white",
             "minorgridcolor": "white",
             "startlinecolor": "#2a3f5f"
            },
            "type": "carpet"
           }
          ],
          "choropleth": [
           {
            "colorbar": {
             "outlinewidth": 0,
             "ticks": ""
            },
            "type": "choropleth"
           }
          ],
          "contour": [
           {
            "colorbar": {
             "outlinewidth": 0,
             "ticks": ""
            },
            "colorscale": [
             [
              0,
              "#0d0887"
             ],
             [
              0.1111111111111111,
              "#46039f"
             ],
             [
              0.2222222222222222,
              "#7201a8"
             ],
             [
              0.3333333333333333,
              "#9c179e"
             ],
             [
              0.4444444444444444,
              "#bd3786"
             ],
             [
              0.5555555555555556,
              "#d8576b"
             ],
             [
              0.6666666666666666,
              "#ed7953"
             ],
             [
              0.7777777777777778,
              "#fb9f3a"
             ],
             [
              0.8888888888888888,
              "#fdca26"
             ],
             [
              1,
              "#f0f921"
             ]
            ],
            "type": "contour"
           }
          ],
          "contourcarpet": [
           {
            "colorbar": {
             "outlinewidth": 0,
             "ticks": ""
            },
            "type": "contourcarpet"
           }
          ],
          "heatmap": [
           {
            "colorbar": {
             "outlinewidth": 0,
             "ticks": ""
            },
            "colorscale": [
             [
              0,
              "#0d0887"
             ],
             [
              0.1111111111111111,
              "#46039f"
             ],
             [
              0.2222222222222222,
              "#7201a8"
             ],
             [
              0.3333333333333333,
              "#9c179e"
             ],
             [
              0.4444444444444444,
              "#bd3786"
             ],
             [
              0.5555555555555556,
              "#d8576b"
             ],
             [
              0.6666666666666666,
              "#ed7953"
             ],
             [
              0.7777777777777778,
              "#fb9f3a"
             ],
             [
              0.8888888888888888,
              "#fdca26"
             ],
             [
              1,
              "#f0f921"
             ]
            ],
            "type": "heatmap"
           }
          ],
          "heatmapgl": [
           {
            "colorbar": {
             "outlinewidth": 0,
             "ticks": ""
            },
            "colorscale": [
             [
              0,
              "#0d0887"
             ],
             [
              0.1111111111111111,
              "#46039f"
             ],
             [
              0.2222222222222222,
              "#7201a8"
             ],
             [
              0.3333333333333333,
              "#9c179e"
             ],
             [
              0.4444444444444444,
              "#bd3786"
             ],
             [
              0.5555555555555556,
              "#d8576b"
             ],
             [
              0.6666666666666666,
              "#ed7953"
             ],
             [
              0.7777777777777778,
              "#fb9f3a"
             ],
             [
              0.8888888888888888,
              "#fdca26"
             ],
             [
              1,
              "#f0f921"
             ]
            ],
            "type": "heatmapgl"
           }
          ],
          "histogram": [
           {
            "marker": {
             "colorbar": {
              "outlinewidth": 0,
              "ticks": ""
             }
            },
            "type": "histogram"
           }
          ],
          "histogram2d": [
           {
            "colorbar": {
             "outlinewidth": 0,
             "ticks": ""
            },
            "colorscale": [
             [
              0,
              "#0d0887"
             ],
             [
              0.1111111111111111,
              "#46039f"
             ],
             [
              0.2222222222222222,
              "#7201a8"
             ],
             [
              0.3333333333333333,
              "#9c179e"
             ],
             [
              0.4444444444444444,
              "#bd3786"
             ],
             [
              0.5555555555555556,
              "#d8576b"
             ],
             [
              0.6666666666666666,
              "#ed7953"
             ],
             [
              0.7777777777777778,
              "#fb9f3a"
             ],
             [
              0.8888888888888888,
              "#fdca26"
             ],
             [
              1,
              "#f0f921"
             ]
            ],
            "type": "histogram2d"
           }
          ],
          "histogram2dcontour": [
           {
            "colorbar": {
             "outlinewidth": 0,
             "ticks": ""
            },
            "colorscale": [
             [
              0,
              "#0d0887"
             ],
             [
              0.1111111111111111,
              "#46039f"
             ],
             [
              0.2222222222222222,
              "#7201a8"
             ],
             [
              0.3333333333333333,
              "#9c179e"
             ],
             [
              0.4444444444444444,
              "#bd3786"
             ],
             [
              0.5555555555555556,
              "#d8576b"
             ],
             [
              0.6666666666666666,
              "#ed7953"
             ],
             [
              0.7777777777777778,
              "#fb9f3a"
             ],
             [
              0.8888888888888888,
              "#fdca26"
             ],
             [
              1,
              "#f0f921"
             ]
            ],
            "type": "histogram2dcontour"
           }
          ],
          "mesh3d": [
           {
            "colorbar": {
             "outlinewidth": 0,
             "ticks": ""
            },
            "type": "mesh3d"
           }
          ],
          "parcoords": [
           {
            "line": {
             "colorbar": {
              "outlinewidth": 0,
              "ticks": ""
             }
            },
            "type": "parcoords"
           }
          ],
          "pie": [
           {
            "automargin": true,
            "type": "pie"
           }
          ],
          "scatter": [
           {
            "marker": {
             "colorbar": {
              "outlinewidth": 0,
              "ticks": ""
             }
            },
            "type": "scatter"
           }
          ],
          "scatter3d": [
           {
            "line": {
             "colorbar": {
              "outlinewidth": 0,
              "ticks": ""
             }
            },
            "marker": {
             "colorbar": {
              "outlinewidth": 0,
              "ticks": ""
             }
            },
            "type": "scatter3d"
           }
          ],
          "scattercarpet": [
           {
            "marker": {
             "colorbar": {
              "outlinewidth": 0,
              "ticks": ""
             }
            },
            "type": "scattercarpet"
           }
          ],
          "scattergeo": [
           {
            "marker": {
             "colorbar": {
              "outlinewidth": 0,
              "ticks": ""
             }
            },
            "type": "scattergeo"
           }
          ],
          "scattergl": [
           {
            "marker": {
             "colorbar": {
              "outlinewidth": 0,
              "ticks": ""
             }
            },
            "type": "scattergl"
           }
          ],
          "scattermapbox": [
           {
            "marker": {
             "colorbar": {
              "outlinewidth": 0,
              "ticks": ""
             }
            },
            "type": "scattermapbox"
           }
          ],
          "scatterpolar": [
           {
            "marker": {
             "colorbar": {
              "outlinewidth": 0,
              "ticks": ""
             }
            },
            "type": "scatterpolar"
           }
          ],
          "scatterpolargl": [
           {
            "marker": {
             "colorbar": {
              "outlinewidth": 0,
              "ticks": ""
             }
            },
            "type": "scatterpolargl"
           }
          ],
          "scatterternary": [
           {
            "marker": {
             "colorbar": {
              "outlinewidth": 0,
              "ticks": ""
             }
            },
            "type": "scatterternary"
           }
          ],
          "surface": [
           {
            "colorbar": {
             "outlinewidth": 0,
             "ticks": ""
            },
            "colorscale": [
             [
              0,
              "#0d0887"
             ],
             [
              0.1111111111111111,
              "#46039f"
             ],
             [
              0.2222222222222222,
              "#7201a8"
             ],
             [
              0.3333333333333333,
              "#9c179e"
             ],
             [
              0.4444444444444444,
              "#bd3786"
             ],
             [
              0.5555555555555556,
              "#d8576b"
             ],
             [
              0.6666666666666666,
              "#ed7953"
             ],
             [
              0.7777777777777778,
              "#fb9f3a"
             ],
             [
              0.8888888888888888,
              "#fdca26"
             ],
             [
              1,
              "#f0f921"
             ]
            ],
            "type": "surface"
           }
          ],
          "table": [
           {
            "cells": {
             "fill": {
              "color": "#EBF0F8"
             },
             "line": {
              "color": "white"
             }
            },
            "header": {
             "fill": {
              "color": "#C8D4E3"
             },
             "line": {
              "color": "white"
             }
            },
            "type": "table"
           }
          ]
         },
         "layout": {
          "annotationdefaults": {
           "arrowcolor": "#2a3f5f",
           "arrowhead": 0,
           "arrowwidth": 1
          },
          "coloraxis": {
           "colorbar": {
            "outlinewidth": 0,
            "ticks": ""
           }
          },
          "colorscale": {
           "diverging": [
            [
             0,
             "#8e0152"
            ],
            [
             0.1,
             "#c51b7d"
            ],
            [
             0.2,
             "#de77ae"
            ],
            [
             0.3,
             "#f1b6da"
            ],
            [
             0.4,
             "#fde0ef"
            ],
            [
             0.5,
             "#f7f7f7"
            ],
            [
             0.6,
             "#e6f5d0"
            ],
            [
             0.7,
             "#b8e186"
            ],
            [
             0.8,
             "#7fbc41"
            ],
            [
             0.9,
             "#4d9221"
            ],
            [
             1,
             "#276419"
            ]
           ],
           "sequential": [
            [
             0,
             "#0d0887"
            ],
            [
             0.1111111111111111,
             "#46039f"
            ],
            [
             0.2222222222222222,
             "#7201a8"
            ],
            [
             0.3333333333333333,
             "#9c179e"
            ],
            [
             0.4444444444444444,
             "#bd3786"
            ],
            [
             0.5555555555555556,
             "#d8576b"
            ],
            [
             0.6666666666666666,
             "#ed7953"
            ],
            [
             0.7777777777777778,
             "#fb9f3a"
            ],
            [
             0.8888888888888888,
             "#fdca26"
            ],
            [
             1,
             "#f0f921"
            ]
           ],
           "sequentialminus": [
            [
             0,
             "#0d0887"
            ],
            [
             0.1111111111111111,
             "#46039f"
            ],
            [
             0.2222222222222222,
             "#7201a8"
            ],
            [
             0.3333333333333333,
             "#9c179e"
            ],
            [
             0.4444444444444444,
             "#bd3786"
            ],
            [
             0.5555555555555556,
             "#d8576b"
            ],
            [
             0.6666666666666666,
             "#ed7953"
            ],
            [
             0.7777777777777778,
             "#fb9f3a"
            ],
            [
             0.8888888888888888,
             "#fdca26"
            ],
            [
             1,
             "#f0f921"
            ]
           ]
          },
          "colorway": [
           "#636efa",
           "#EF553B",
           "#00cc96",
           "#ab63fa",
           "#FFA15A",
           "#19d3f3",
           "#FF6692",
           "#B6E880",
           "#FF97FF",
           "#FECB52"
          ],
          "font": {
           "color": "#2a3f5f"
          },
          "geo": {
           "bgcolor": "white",
           "lakecolor": "white",
           "landcolor": "#E5ECF6",
           "showlakes": true,
           "showland": true,
           "subunitcolor": "white"
          },
          "hoverlabel": {
           "align": "left"
          },
          "hovermode": "closest",
          "mapbox": {
           "style": "light"
          },
          "paper_bgcolor": "white",
          "plot_bgcolor": "#E5ECF6",
          "polar": {
           "angularaxis": {
            "gridcolor": "white",
            "linecolor": "white",
            "ticks": ""
           },
           "bgcolor": "#E5ECF6",
           "radialaxis": {
            "gridcolor": "white",
            "linecolor": "white",
            "ticks": ""
           }
          },
          "scene": {
           "xaxis": {
            "backgroundcolor": "#E5ECF6",
            "gridcolor": "white",
            "gridwidth": 2,
            "linecolor": "white",
            "showbackground": true,
            "ticks": "",
            "zerolinecolor": "white"
           },
           "yaxis": {
            "backgroundcolor": "#E5ECF6",
            "gridcolor": "white",
            "gridwidth": 2,
            "linecolor": "white",
            "showbackground": true,
            "ticks": "",
            "zerolinecolor": "white"
           },
           "zaxis": {
            "backgroundcolor": "#E5ECF6",
            "gridcolor": "white",
            "gridwidth": 2,
            "linecolor": "white",
            "showbackground": true,
            "ticks": "",
            "zerolinecolor": "white"
           }
          },
          "shapedefaults": {
           "line": {
            "color": "#2a3f5f"
           }
          },
          "ternary": {
           "aaxis": {
            "gridcolor": "white",
            "linecolor": "white",
            "ticks": ""
           },
           "baxis": {
            "gridcolor": "white",
            "linecolor": "white",
            "ticks": ""
           },
           "bgcolor": "#E5ECF6",
           "caxis": {
            "gridcolor": "white",
            "linecolor": "white",
            "ticks": ""
           }
          },
          "title": {
           "x": 0.05
          },
          "xaxis": {
           "automargin": true,
           "gridcolor": "white",
           "linecolor": "white",
           "ticks": "",
           "title": {
            "standoff": 15
           },
           "zerolinecolor": "white",
           "zerolinewidth": 2
          },
          "yaxis": {
           "automargin": true,
           "gridcolor": "white",
           "linecolor": "white",
           "ticks": "",
           "title": {
            "standoff": 15
           },
           "zerolinecolor": "white",
           "zerolinewidth": 2
          }
         }
        },
        "title": {
         "font": {
          "color": "#4D5663"
         }
        },
        "xaxis": {
         "gridcolor": "#E1E5ED",
         "showgrid": true,
         "tickfont": {
          "color": "#4D5663"
         },
         "title": {
          "font": {
           "color": "#4D5663"
          },
          "text": ""
         },
         "zerolinecolor": "#E1E5ED"
        },
        "yaxis": {
         "gridcolor": "#E1E5ED",
         "showgrid": true,
         "tickfont": {
          "color": "#4D5663"
         },
         "title": {
          "font": {
           "color": "#4D5663"
          },
          "text": ""
         },
         "zerolinecolor": "#E1E5ED"
        }
       }
      },
      "text/html": [
       "<div>\n",
       "        \n",
       "        \n",
       "            <div id=\"121a46db-dadd-44a1-92f3-8708f36e978d\" class=\"plotly-graph-div\" style=\"height:525px; width:100%;\"></div>\n",
       "            <script type=\"text/javascript\">\n",
       "                require([\"plotly\"], function(Plotly) {\n",
       "                    window.PLOTLYENV=window.PLOTLYENV || {};\n",
       "                    \n",
       "                if (document.getElementById(\"121a46db-dadd-44a1-92f3-8708f36e978d\")) {\n",
       "                    Plotly.newPlot(\n",
       "                        '121a46db-dadd-44a1-92f3-8708f36e978d',\n",
       "                        [{\"line\": {\"color\": \"rgba(255, 153, 51, 1.0)\", \"dash\": \"solid\", \"shape\": \"linear\", \"width\": 1.3}, \"mode\": \"lines\", \"name\": \"Previous Day Pct Change\", \"text\": \"\", \"type\": \"scatter\", \"x\": [\"2019-10-31\", \"2019-11-01\", \"2019-11-04\", \"2019-11-05\", \"2019-11-06\", \"2019-11-07\", \"2019-11-08\", \"2019-11-11\", \"2019-11-12\", \"2019-11-13\", \"2019-11-14\", \"2019-11-15\", \"2019-11-18\", \"2019-11-19\", \"2019-11-20\", \"2019-11-21\", \"2019-11-22\", \"2019-11-25\", \"2019-11-26\", \"2019-11-27\", \"2019-11-29\", \"2019-12-02\", \"2019-12-03\", \"2019-12-04\", \"2019-12-05\", \"2019-12-06\", \"2019-12-09\", \"2019-12-10\", \"2019-12-11\", \"2019-12-12\", \"2019-12-13\", \"2019-12-16\", \"2019-12-17\", \"2019-12-18\", \"2019-12-19\", \"2019-12-20\", \"2019-12-23\", \"2019-12-24\", \"2019-12-26\", \"2019-12-27\", \"2019-12-30\", \"2019-12-31\", \"2020-01-02\", \"2020-01-03\", \"2020-01-06\", \"2020-01-07\", \"2020-01-08\", \"2020-01-09\", \"2020-01-10\", \"2020-01-13\", \"2020-01-14\", \"2020-01-15\", \"2020-01-16\", \"2020-01-17\", \"2020-01-21\", \"2020-01-22\", \"2020-01-23\", \"2020-01-24\", \"2020-01-27\", \"2020-01-28\", \"2020-01-29\", \"2020-01-30\", \"2020-01-31\", \"2020-02-03\", \"2020-02-04\", \"2020-02-05\", \"2020-02-06\", \"2020-02-07\", \"2020-02-10\", \"2020-02-11\", \"2020-02-12\", \"2020-02-13\", \"2020-02-14\", \"2020-02-18\", \"2020-02-19\", \"2020-02-20\", \"2020-02-21\", \"2020-02-24\", \"2020-02-25\", \"2020-02-26\", \"2020-02-27\", \"2020-02-28\", \"2020-03-02\", \"2020-03-03\", \"2020-03-04\", \"2020-03-05\", \"2020-03-06\", \"2020-03-09\", \"2020-03-10\", \"2020-03-11\", \"2020-03-12\", \"2020-03-13\", \"2020-03-16\", \"2020-03-17\", \"2020-03-18\", \"2020-03-19\", \"2020-03-20\", \"2020-03-23\", \"2020-03-24\", \"2020-03-25\", \"2020-03-26\", \"2020-03-27\", \"2020-03-30\", \"2020-03-31\", \"2020-04-01\", \"2020-04-02\", \"2020-04-03\", \"2020-04-06\", \"2020-04-07\", \"2020-04-08\", \"2020-04-09\", \"2020-04-13\", \"2020-04-14\", \"2020-04-15\", \"2020-04-16\", \"2020-04-17\", \"2020-04-20\", \"2020-04-21\", \"2020-04-22\", \"2020-04-23\", \"2020-04-24\", \"2020-04-27\", \"2020-04-28\", \"2020-04-29\", \"2020-04-30\", \"2020-05-01\", \"2020-05-04\", \"2020-05-05\", \"2020-05-06\", \"2020-05-07\", \"2020-05-08\", \"2020-05-11\", \"2020-05-12\", \"2020-05-13\", \"2020-05-14\", \"2020-05-15\", \"2020-05-18\", \"2020-05-19\", \"2020-05-20\", \"2020-05-21\", \"2020-05-22\", \"2020-05-26\", \"2020-05-27\", \"2020-05-28\", \"2020-05-29\", \"2020-06-01\", \"2020-06-02\", \"2020-06-03\", \"2020-06-04\", \"2020-06-05\", \"2020-06-08\", \"2020-06-09\", \"2020-06-10\", \"2020-06-11\", \"2020-06-12\", \"2020-06-15\", \"2020-06-16\", \"2020-06-17\", \"2020-06-18\", \"2020-06-19\", \"2020-06-22\", \"2020-06-23\", \"2020-06-24\", \"2020-06-25\", \"2020-06-26\", \"2020-06-29\", \"2020-06-30\", \"2020-07-01\", \"2020-07-02\", \"2020-07-06\", \"2020-07-07\", \"2020-07-08\", \"2020-07-09\", \"2020-07-10\", \"2020-07-13\", \"2020-07-14\", \"2020-07-15\", \"2020-07-16\", \"2020-07-17\", \"2020-07-20\", \"2020-07-21\", \"2020-07-22\", \"2020-07-23\", \"2020-07-24\", \"2020-07-27\", \"2020-07-28\", \"2020-07-29\", \"2020-07-30\", \"2020-07-31\", \"2020-08-03\", \"2020-08-04\", \"2020-08-05\", \"2020-08-06\", \"2020-08-07\", \"2020-08-10\", \"2020-08-11\", \"2020-08-12\", \"2020-08-13\", \"2020-08-14\", \"2020-08-17\", \"2020-08-18\", \"2020-08-19\", \"2020-08-20\", \"2020-08-21\", \"2020-08-24\", \"2020-08-25\", \"2020-08-26\", \"2020-08-27\", \"2020-08-28\", \"2020-08-31\", \"2020-09-01\", \"2020-09-02\", \"2020-09-03\", \"2020-09-04\", \"2020-09-08\", \"2020-09-09\", \"2020-09-10\", \"2020-09-11\", \"2020-09-14\", \"2020-09-15\", \"2020-09-16\", \"2020-09-17\", \"2020-09-18\", \"2020-09-21\", \"2020-09-22\", \"2020-09-23\", \"2020-09-24\", \"2020-09-25\", \"2020-09-28\", \"2020-09-29\", \"2020-09-30\", \"2020-10-01\", \"2020-10-02\", \"2020-10-05\", \"2020-10-06\", \"2020-10-07\", \"2020-10-08\", \"2020-10-09\", \"2020-10-12\", \"2020-10-13\", \"2020-10-14\", \"2020-10-15\", \"2020-10-16\", \"2020-10-19\", \"2020-10-20\", \"2020-10-21\", \"2020-10-22\", \"2020-10-23\", \"2020-10-26\", \"2020-10-27\", \"2020-10-28\", \"2020-10-29\", \"2020-10-30\"], \"y\": [0.0, -0.0035504516552658334, -0.0101894835326662, -0.011944498533824075, -0.0013919960789665544, -0.001913320446040129, -0.0008620558113886694, -0.00726019005567407, -0.006555067197105062, 0.0034246705087982604, -0.0003456101284401204, -0.003471632716898687, 0.0036100926780631023, -0.009532049043122518, 0.002223000498167505, 0.006179141881664663, -0.012697852164261565, 0.012512847794429613, -0.013965540918810637, 0.0008481634675733308, 0.00034171293662736007, 0.0017197297711825784, 0.015200672950395053, 0.013893790134492521, 0.011295435781362101, 0.005849991442121204, -0.0026473972164289734, 0.00017690371539624494, 0.0021160101185333765, -0.0028114540123195565, -0.01409690285569257, -0.004170315927862742, 0.008761352509095802, 0.012068978671369914, 0.003833441767605333, -0.013818452699487298, -0.010802487507062584, -0.0028783976463331896, -0.002700419365605224, -0.006901192534340066, -0.0028376228355127104, 0.006167740227199269, -0.0038577582414770287, -0.009960133755035511, -0.004848638926124178, -0.005705657857312982, 0.014218777040448272, -0.0013584960414984668, -0.004233700308722426, 0.010575811169090309, -0.007098225395298556, 0.001008595925334022, 0.006070836677626321, -0.006749941566123304, 0.006335463004591175, -0.012372476956671393, -0.027686739865023124, -0.007317834553073455, -0.028541408060523563, 0.015437631301740355, -0.012180414414943526, 0.01922217174565356, -0.01264475683687452, 0.028419493310829966, 0.0006205540815308082, 0.004713358285178353, -0.009746496816452581, 0.0031204562309703815, 0.012563624882096001, -0.012660187034218158, -0.008678764255026046, 0.00207099693503737, -0.0067174890578715896, 0.003702606819155957, 0.007800843742775149, -0.010845025264684432, 0.0237172426248713, 0.01288744957582426, -0.002434632522247274, 0.03645752661780488, 0.0076526215239039784, 0.03625062080197285, -0.022467794435445474, -0.04283920685477636, 0.035498838565005894, -0.029293142129628972, 0.0017525812550219122, -0.010692282517667033, 0.020608623508469405, -0.023123602341078856, 0.013933948286713725, 0.051052316675345495, -0.12784919598493993, 0.06103973507966333, -0.09440567456246218, -0.01926785578075692, 0.039715750832332, 0.014620436788183928, -0.07735769964970608, 0.013925439824406194, 0.02324697468263607, -0.07344412666770439, 0.01965554610728043, -0.04717871147031703, 0.01707232869525938, 0.01180950346447176, -0.05966070391836109, -0.005199676916030097, -0.031785258751725734, 0.025692311246464726, 0.00016955646628025956, 0.03739894201274635, -0.037652485055786875, -0.010326431086452956, 0.014563152362542067, -0.01979534126981479, 0.026765556839080967, 0.0016868838761855708, 0.030115298255361946, -0.03140549171067668, 0.010558023676056457, -0.054448354395959936, 0.004186202191726172, 0.020670139086058577, -0.039703914281234716, 0.022649493463267167, 0.0231174667350367, -0.015231140806208897, 0.0006804033833036305, -0.0023712633380330935, 0.012681497286173652, 1.1988744969421954e-16, -0.00652827885321283, 0.03038860501426809, 0.012147118480840654, -0.03070485250524858, -0.015330962195553455, -0.0030129977472598563, -0.002660898795442568, -0.0317200561077352, 0.01774958730536424, -0.004517566656419033, 0.02104271586316211, -0.01989733126667179, 0.020634908524770516, -0.01663972138783005, 0.010081629879877572, -0.00680710151947984, 0.008326668557420817, -0.019922246660147365, -0.01546710413665861, 0.004689745912662499, -0.0007937646567429943, -0.01720015927074714, 0.05343267715540071, 0.012976189841571166, -0.012978200224214025, 0.017726461584560167, 0.004115903738748568, 0.00447384672564971, 0.016982729894155904, -0.006027132313922081, 0.004485802690214075, 0.009221985960583488, 0.007968823742810523, 0.016925998462251266, -0.013920292675622028, -0.01907686533891026, 0.01836084922254614, 0.0010136435206247235, -0.013964572169237398, 0.012866062729974793, -0.002737379731799048, -0.0037800241086243347, -0.027264848931078268, 0.021056121629684135, -0.0191809336588735, 0.0, -0.0102493758923386, -0.009761054340755982, -0.01780958159477203, 0.01332899363983571, 0.004240778509323872, 0.014038472399892248, 0.029913735908845197, 0.028610603946653098, 0.0048504014953488755, 0.02869270429344972, -0.0033451775305647132, 0.008310856368210098, -0.0006214787448183862, -0.010905403510997143, 0.01609016556951933, 0.004509145656382022, 0.010302905678483189, -0.021161834888350065, 0.029014757413160296, -0.010684209519766669, 0.01421025115902603, -0.0032833952168095305, 0.003665247463626384, 0.012383207804285425, 0.009428142566938592, 0.01284888951416259, -0.0053039232783610715, 0.0024360319929672036, -0.0016211111150619404, -0.0032395191210640804, 0.007832885769777392, -0.017349215566796913, 0.000980377197265625, 0.002357079792662099, -0.020308551730528767, 0.04019048781622024, 0.008905540453457522, 0.007105125579513015, -0.0018170836827379438, 0.020800018310546876, -0.0004060182388380026, -0.011463692748888896, -0.004217695935152446, 0.002771716378948157, -0.019242470801957248, 0.008742349004540649, -0.006681551632573051, -0.0012026733618975584, 0.02026895643421435, -0.012981683164269845, -0.020016330893828153, -0.018214254884470406, 0.0023387788612396656, -0.010538584760761388, 0.003053432113605758, 0.009514595698384405, -0.007602327396657954, 0.006575133602931836, -0.015814845110043534, -0.008693991415597317, 0.013632111160351141, -0.006162499267157821, 0.008107584724481788, 0.008516924620774512, -0.020853051642106043, -0.004823716403947978, -0.002019471413372268, 0.021428538491623943, -0.006774569335461639, -0.014683784067735581, 0.00310233124954338, 0.023615408348008824, 0.007394522748430502, 0.01425705944197496, 0.002938541211188755]}, {\"line\": {\"color\": \"rgba(55, 128, 191, 1.0)\", \"dash\": \"solid\", \"shape\": \"linear\", \"width\": 1.3}, \"mode\": \"lines\", \"name\": \"Previous Five Day Average Pct Change\", \"text\": \"\", \"type\": \"scatter\", \"x\": [\"2019-10-31\", \"2019-11-01\", \"2019-11-04\", \"2019-11-05\", \"2019-11-06\", \"2019-11-07\", \"2019-11-08\", \"2019-11-11\", \"2019-11-12\", \"2019-11-13\", \"2019-11-14\", \"2019-11-15\", \"2019-11-18\", \"2019-11-19\", \"2019-11-20\", \"2019-11-21\", \"2019-11-22\", \"2019-11-25\", \"2019-11-26\", \"2019-11-27\", \"2019-11-29\", \"2019-12-02\", \"2019-12-03\", \"2019-12-04\", \"2019-12-05\", \"2019-12-06\", \"2019-12-09\", \"2019-12-10\", \"2019-12-11\", \"2019-12-12\", \"2019-12-13\", \"2019-12-16\", \"2019-12-17\", \"2019-12-18\", \"2019-12-19\", \"2019-12-20\", \"2019-12-23\", \"2019-12-24\", \"2019-12-26\", \"2019-12-27\", \"2019-12-30\", \"2019-12-31\", \"2020-01-02\", \"2020-01-03\", \"2020-01-06\", \"2020-01-07\", \"2020-01-08\", \"2020-01-09\", \"2020-01-10\", \"2020-01-13\", \"2020-01-14\", \"2020-01-15\", \"2020-01-16\", \"2020-01-17\", \"2020-01-21\", \"2020-01-22\", \"2020-01-23\", \"2020-01-24\", \"2020-01-27\", \"2020-01-28\", \"2020-01-29\", \"2020-01-30\", \"2020-01-31\", \"2020-02-03\", \"2020-02-04\", \"2020-02-05\", \"2020-02-06\", \"2020-02-07\", \"2020-02-10\", \"2020-02-11\", \"2020-02-12\", \"2020-02-13\", \"2020-02-14\", \"2020-02-18\", \"2020-02-19\", \"2020-02-20\", \"2020-02-21\", \"2020-02-24\", \"2020-02-25\", \"2020-02-26\", \"2020-02-27\", \"2020-02-28\", \"2020-03-02\", \"2020-03-03\", \"2020-03-04\", \"2020-03-05\", \"2020-03-06\", \"2020-03-09\", \"2020-03-10\", \"2020-03-11\", \"2020-03-12\", \"2020-03-13\", \"2020-03-16\", \"2020-03-17\", \"2020-03-18\", \"2020-03-19\", \"2020-03-20\", \"2020-03-23\", \"2020-03-24\", \"2020-03-25\", \"2020-03-26\", \"2020-03-27\", \"2020-03-30\", \"2020-03-31\", \"2020-04-01\", \"2020-04-02\", \"2020-04-03\", \"2020-04-06\", \"2020-04-07\", \"2020-04-08\", \"2020-04-09\", \"2020-04-13\", \"2020-04-14\", \"2020-04-15\", \"2020-04-16\", \"2020-04-17\", \"2020-04-20\", \"2020-04-21\", \"2020-04-22\", \"2020-04-23\", \"2020-04-24\", \"2020-04-27\", \"2020-04-28\", \"2020-04-29\", \"2020-04-30\", \"2020-05-01\", \"2020-05-04\", \"2020-05-05\", \"2020-05-06\", \"2020-05-07\", \"2020-05-08\", \"2020-05-11\", \"2020-05-12\", \"2020-05-13\", \"2020-05-14\", \"2020-05-15\", \"2020-05-18\", \"2020-05-19\", \"2020-05-20\", \"2020-05-21\", \"2020-05-22\", \"2020-05-26\", \"2020-05-27\", \"2020-05-28\", \"2020-05-29\", \"2020-06-01\", \"2020-06-02\", \"2020-06-03\", \"2020-06-04\", \"2020-06-05\", \"2020-06-08\", \"2020-06-09\", \"2020-06-10\", \"2020-06-11\", \"2020-06-12\", \"2020-06-15\", \"2020-06-16\", \"2020-06-17\", \"2020-06-18\", \"2020-06-19\", \"2020-06-22\", \"2020-06-23\", \"2020-06-24\", \"2020-06-25\", \"2020-06-26\", \"2020-06-29\", \"2020-06-30\", \"2020-07-01\", \"2020-07-02\", \"2020-07-06\", \"2020-07-07\", \"2020-07-08\", \"2020-07-09\", \"2020-07-10\", \"2020-07-13\", \"2020-07-14\", \"2020-07-15\", \"2020-07-16\", \"2020-07-17\", \"2020-07-20\", \"2020-07-21\", \"2020-07-22\", \"2020-07-23\", \"2020-07-24\", \"2020-07-27\", \"2020-07-28\", \"2020-07-29\", \"2020-07-30\", \"2020-07-31\", \"2020-08-03\", \"2020-08-04\", \"2020-08-05\", \"2020-08-06\", \"2020-08-07\", \"2020-08-10\", \"2020-08-11\", \"2020-08-12\", \"2020-08-13\", \"2020-08-14\", \"2020-08-17\", \"2020-08-18\", \"2020-08-19\", \"2020-08-20\", \"2020-08-21\", \"2020-08-24\", \"2020-08-25\", \"2020-08-26\", \"2020-08-27\", \"2020-08-28\", \"2020-08-31\", \"2020-09-01\", \"2020-09-02\", \"2020-09-03\", \"2020-09-04\", \"2020-09-08\", \"2020-09-09\", \"2020-09-10\", \"2020-09-11\", \"2020-09-14\", \"2020-09-15\", \"2020-09-16\", \"2020-09-17\", \"2020-09-18\", \"2020-09-21\", \"2020-09-22\", \"2020-09-23\", \"2020-09-24\", \"2020-09-25\", \"2020-09-28\", \"2020-09-29\", \"2020-09-30\", \"2020-10-01\", \"2020-10-02\", \"2020-10-05\", \"2020-10-06\", \"2020-10-07\", \"2020-10-08\", \"2020-10-09\", \"2020-10-12\", \"2020-10-13\", \"2020-10-14\", \"2020-10-15\", \"2020-10-16\", \"2020-10-19\", \"2020-10-20\", \"2020-10-21\", \"2020-10-22\", \"2020-10-23\", \"2020-10-26\", \"2020-10-27\", \"2020-10-28\", \"2020-10-29\", \"2020-10-30\"], \"y\": [0.0, -0.0035504516552658334, -0.006869967593966016, -0.008561477907252035, -0.006769107450180665, -0.005797950049352558, -0.005260270880577125, -0.0046744121851787, -0.0035965259178348968, -0.0026331926002819343, -0.002319650536761932, -0.002841565917863936, -0.0006675093711165013, -0.0012629057403199927, -0.0015032397424461438, -0.00019828934042518694, -0.002043533229897763, -0.0002629822066244604, -0.0011496805817620844, -0.001424647987880919, -0.0025921337768883795, 0.00029138261020044906, 0.0008289476413935369, 0.0064008138520541685, 0.008490268314811924, 0.009591924015910693, 0.008718498618388382, 0.005713744771388619, 0.003358188768196791, 0.0005368108094604591, -0.0034525680501022956, -0.0037571517923890496, -0.0020402620336491383, -4.966832308183067e-05, 0.0012793108329031474, 0.0013350008641442018, 8.566548304233396e-06, -0.002319383482781565, -0.005273263090176593, -0.007420189950565673, -0.0052240239777707545, -0.0018299784309183844, -0.002025850549947152, -0.0034777934278332097, -0.003067282706190032, -0.0036408897105500867, -0.002030682347900285, -0.001530829907904573, -0.0003855432186419563, 0.002699346800400941, 0.002420833292803826, -0.0002212029302190236, 0.001264663613605934, 0.0007614153621257584, -8.665427077406834e-05, -0.0011415045830486358, -0.006880571741120065, -0.009558305987260022, -0.013916599286140075, -0.012096165626710238, -0.012057753118364663, -0.002675970796229326, -0.003741355252989538, 0.007650825021281167, 0.004687409577239258, 0.008066164117263633, 0.002272430404842406, 0.005425473018411386, 0.0022542993326645925, -0.00040184889048520067, -0.0030802733985260803, -0.0007167746482280903, -0.0026843637059964843, -0.004456567318584494, -0.0003643611631858317, -0.0007976133651175093, 0.003531635772849277, 0.007452623499588447, 0.0062251756313078015, 0.011956512206313748, 0.015656041564031428, 0.018162717199451738, 0.011091668397197796, 0.003010753530691977, 0.002819015920132179, -0.004570136810574411, -0.0114697447199646, -0.009114642336408912, 0.0035749237362402418, -0.00814956444497671, 0.0004958536382918307, 0.010355800722356548, -0.013075581971098033, -0.004989359656859246, -0.019245774101135912, -0.025886134914630043, -0.028153448083232745, 0.000340478471392032, -0.02733900847448185, -0.005672785597108177, 0.0028301804955704222, -0.019801795004436858, -0.018794773140617553, -0.012758975504739745, -0.012129597730569108, -0.014417091974201967, -0.01166040742433331, -0.016631452028995415, -0.013552761485277157, -0.011828764975036089, -0.014156754374674388, 0.0052551748115471, -0.0012353868164042547, 0.003056378716650301, 0.0008305469398657689, -0.0031624326073532412, -0.005289109642086317, 0.0025787641443081716, 0.010667110012671153, 0.0014733811980274028, 0.007544054187201654, -0.008698728059806529, -0.008198864396698409, -0.01008789623055908, -0.011747580744670688, -0.009329286787228547, 0.006183877438970781, 0.002300408839383767, -0.0016975383011672228, 0.005768991887473102, 0.003775392652054399, -0.0008481006949529177, 0.0008924716956462958, 0.006834112021839188, 0.009737788385613937, 0.0010605184273294911, -0.002005674011781225, -0.0013026177905906297, -0.00791251855253276, -0.016685953470247934, -0.006995065508125367, -0.004832386400298483, -2.1243678214089706e-05, -0.003468530172459934, 0.00700246275404121, 0.0001246010154023508, 0.003044440322661672, -0.0025255231538667184, 0.003119276810951803, -0.0049921542260317735, -0.004757630775797486, -0.0058360075692405, -0.004633340196693131, -0.009738705762326721, 0.004932279000782894, 0.010620937796428849, 0.007087348569053543, 0.010791393817314176, 0.015054606419213318, 0.005262840333263118, 0.006064148343780064, 0.007454361925838454, 0.004806230146969235, 0.005827446591336219, 0.006526441994768381, 0.006515095708387454, 0.004936463636047465, 0.0002239300302225973, 0.002051702682615129, 0.0006606666381779684, -0.005517447488119765, -0.00016017640700040012, 0.0031077207144218416, -0.0013204539518122528, -0.006976152442152851, 2.7986317631455147e-05, -0.006381412960138204, -0.005833937013778394, -0.007127807370521247, -0.0036270484524567894, -0.011400189097348024, -0.00489820363760618, -0.0040500479357414056, 0.0008075217227047633, 0.008742479772625, 0.018026516880910025, 0.01633079845201266, 0.02122118360883783, 0.017744453622746438, 0.013423877714619415, 0.0075774611763251174, 0.004426300175055915, 0.0019057924302698375, 0.003476657067659184, 0.0038750669297138024, -0.00023300429899253267, 0.007751027885838954, 0.002396152867981755, 0.004336373968510557, 0.0016191137894520126, 0.0065845302598473016, 0.0032582203380723276, 0.00728069075541338, 0.007008418426440692, 0.006604312814130384, 0.006358469719998548, 0.0035576059361290746, 0.0010240735985285402, 2.0872849651500797e-05, -0.002388185608035667, -0.0026793165671759834, -0.0018836783856311754, -0.005297484907524112, 0.0011740355017644574, 0.006424986705815344, 0.007649936382264822, 0.006815103687184814, 0.015036817695399943, 0.006917516484388294, 0.00284366984391901, 0.0005791055409859176, 0.0014968655533231377, -0.006511632269177686, -0.004681958820501956, -0.0037255305972387883, -0.00312252608258781, 0.00037692192846542835, 0.001629079456002909, -0.004122656523670851, -0.006429197174050322, -0.0057209067294228776, -0.011882414968418025, -0.008675391912842906, -0.002769206594400393, -0.0006468210968379025, 0.0002004498515005315, -0.0008548022183558976, -0.003204286924196513, -0.0023807838318031663, -0.0020928182059031394, -0.0017863279815931484, 0.0030800259645704605, 0.0006482139192687149, -0.003042951593591108, -0.0022143460228339984, 0.0004498447305944335, -0.002608454060652797, -0.0013746005457787047, 0.00021060898491956698, 0.005337584937195786, 0.0025307817885570974, 0.006737107544044417, 0.010261572599829284]}, {\"line\": {\"color\": \"rgba(50, 171, 96, 1.0)\", \"dash\": \"solid\", \"shape\": \"linear\", \"width\": 1.3}, \"mode\": \"lines\", \"name\": \"Intraday Pct Change\", \"text\": \"\", \"type\": \"scatter\", \"x\": [\"2019-10-31\", \"2019-11-01\", \"2019-11-04\", \"2019-11-05\", \"2019-11-06\", \"2019-11-07\", \"2019-11-08\", \"2019-11-11\", \"2019-11-12\", \"2019-11-13\", \"2019-11-14\", \"2019-11-15\", \"2019-11-18\", \"2019-11-19\", \"2019-11-20\", \"2019-11-21\", \"2019-11-22\", \"2019-11-25\", \"2019-11-26\", \"2019-11-27\", \"2019-11-29\", \"2019-12-02\", \"2019-12-03\", \"2019-12-04\", \"2019-12-05\", \"2019-12-06\", \"2019-12-09\", \"2019-12-10\", \"2019-12-11\", \"2019-12-12\", \"2019-12-13\", \"2019-12-16\", \"2019-12-17\", \"2019-12-18\", \"2019-12-19\", \"2019-12-20\", \"2019-12-23\", \"2019-12-24\", \"2019-12-26\", \"2019-12-27\", \"2019-12-30\", \"2019-12-31\", \"2020-01-02\", \"2020-01-03\", \"2020-01-06\", \"2020-01-07\", \"2020-01-08\", \"2020-01-09\", \"2020-01-10\", \"2020-01-13\", \"2020-01-14\", \"2020-01-15\", \"2020-01-16\", \"2020-01-17\", \"2020-01-21\", \"2020-01-22\", \"2020-01-23\", \"2020-01-24\", \"2020-01-27\", \"2020-01-28\", \"2020-01-29\", \"2020-01-30\", \"2020-01-31\", \"2020-02-03\", \"2020-02-04\", \"2020-02-05\", \"2020-02-06\", \"2020-02-07\", \"2020-02-10\", \"2020-02-11\", \"2020-02-12\", \"2020-02-13\", \"2020-02-14\", \"2020-02-18\", \"2020-02-19\", \"2020-02-20\", \"2020-02-21\", \"2020-02-24\", \"2020-02-25\", \"2020-02-26\", \"2020-02-27\", \"2020-02-28\", \"2020-03-02\", \"2020-03-03\", \"2020-03-04\", \"2020-03-05\", \"2020-03-06\", \"2020-03-09\", \"2020-03-10\", \"2020-03-11\", \"2020-03-12\", \"2020-03-13\", \"2020-03-16\", \"2020-03-17\", \"2020-03-18\", \"2020-03-19\", \"2020-03-20\", \"2020-03-23\", \"2020-03-24\", \"2020-03-25\", \"2020-03-26\", \"2020-03-27\", \"2020-03-30\", \"2020-03-31\", \"2020-04-01\", \"2020-04-02\", \"2020-04-03\", \"2020-04-06\", \"2020-04-07\", \"2020-04-08\", \"2020-04-09\", \"2020-04-13\", \"2020-04-14\", \"2020-04-15\", \"2020-04-16\", \"2020-04-17\", \"2020-04-20\", \"2020-04-21\", \"2020-04-22\", \"2020-04-23\", \"2020-04-24\", \"2020-04-27\", \"2020-04-28\", \"2020-04-29\", \"2020-04-30\", \"2020-05-01\", \"2020-05-04\", \"2020-05-05\", \"2020-05-06\", \"2020-05-07\", \"2020-05-08\", \"2020-05-11\", \"2020-05-12\", \"2020-05-13\", \"2020-05-14\", \"2020-05-15\", \"2020-05-18\", \"2020-05-19\", \"2020-05-20\", \"2020-05-21\", \"2020-05-22\", \"2020-05-26\", \"2020-05-27\", \"2020-05-28\", \"2020-05-29\", \"2020-06-01\", \"2020-06-02\", \"2020-06-03\", \"2020-06-04\", \"2020-06-05\", \"2020-06-08\", \"2020-06-09\", \"2020-06-10\", \"2020-06-11\", \"2020-06-12\", \"2020-06-15\", \"2020-06-16\", \"2020-06-17\", \"2020-06-18\", \"2020-06-19\", \"2020-06-22\", \"2020-06-23\", \"2020-06-24\", \"2020-06-25\", \"2020-06-26\", \"2020-06-29\", \"2020-06-30\", \"2020-07-01\", \"2020-07-02\", \"2020-07-06\", \"2020-07-07\", \"2020-07-08\", \"2020-07-09\", \"2020-07-10\", \"2020-07-13\", \"2020-07-14\", \"2020-07-15\", \"2020-07-16\", \"2020-07-17\", \"2020-07-20\", \"2020-07-21\", \"2020-07-22\", \"2020-07-23\", \"2020-07-24\", \"2020-07-27\", \"2020-07-28\", \"2020-07-29\", \"2020-07-30\", \"2020-07-31\", \"2020-08-03\", \"2020-08-04\", \"2020-08-05\", \"2020-08-06\", \"2020-08-07\", \"2020-08-10\", \"2020-08-11\", \"2020-08-12\", \"2020-08-13\", \"2020-08-14\", \"2020-08-17\", \"2020-08-18\", \"2020-08-19\", \"2020-08-20\", \"2020-08-21\", \"2020-08-24\", \"2020-08-25\", \"2020-08-26\", \"2020-08-27\", \"2020-08-28\", \"2020-08-31\", \"2020-09-01\", \"2020-09-02\", \"2020-09-03\", \"2020-09-04\", \"2020-09-08\", \"2020-09-09\", \"2020-09-10\", \"2020-09-11\", \"2020-09-14\", \"2020-09-15\", \"2020-09-16\", \"2020-09-17\", \"2020-09-18\", \"2020-09-21\", \"2020-09-22\", \"2020-09-23\", \"2020-09-24\", \"2020-09-25\", \"2020-09-28\", \"2020-09-29\", \"2020-09-30\", \"2020-10-01\", \"2020-10-02\", \"2020-10-05\", \"2020-10-06\", \"2020-10-07\", \"2020-10-08\", \"2020-10-09\", \"2020-10-12\", \"2020-10-13\", \"2020-10-14\", \"2020-10-15\", \"2020-10-16\", \"2020-10-19\", \"2020-10-20\", \"2020-10-21\", \"2020-10-22\", \"2020-10-23\", \"2020-10-26\", \"2020-10-27\", \"2020-10-28\", \"2020-10-29\", \"2020-10-30\"], \"y\": [-0.0035504516552658334, -0.0101894835326662, -0.011944498533824075, -0.0013919960789665544, -0.001913320446040129, -0.0008620558113886694, -0.00726019005567407, -0.006555067197105062, 0.0034246705087982604, -0.0003456101284401204, -0.003471632716898687, 0.0036100926780631023, -0.009532049043122518, 0.002223000498167505, 0.006179141881664663, -0.012697852164261565, 0.012512847794429613, -0.013965540918810637, 0.0008481634675733308, 0.00034171293662736007, 0.0017197297711825784, 0.015200672950395053, 0.013893790134492521, 0.011295435781362101, 0.005849991442121204, -0.0026473972164289734, 0.00017690371539624494, 0.0021160101185333765, -0.0028114540123195565, -0.01409690285569257, -0.004170315927862742, 0.008761352509095802, 0.012068978671369914, 0.003833441767605333, -0.013818452699487298, -0.010802487507062584, -0.0028783976463331896, -0.002700419365605224, -0.006901192534340066, -0.0028376228355127104, 0.006167740227199269, -0.0038577582414770287, -0.009960133755035511, -0.004848638926124178, -0.005705657857312982, 0.014218777040448272, -0.0013584960414984668, -0.004233700308722426, 0.010575811169090309, -0.007098225395298556, 0.001008595925334022, 0.006070836677626321, -0.006749941566123304, 0.006335463004591175, -0.012372476956671393, -0.027686739865023124, -0.007317834553073455, -0.028541408060523563, 0.015437631301740355, -0.012180414414943526, 0.01922217174565356, -0.01264475683687452, 0.028419493310829966, 0.0006205540815308082, 0.004713358285178353, -0.009746496816452581, 0.0031204562309703815, 0.012563624882096001, -0.012660187034218158, -0.008678764255026046, 0.00207099693503737, -0.0067174890578715896, 0.003702606819155957, 0.007800843742775149, -0.010845025264684432, 0.0237172426248713, 0.01288744957582426, -0.002434632522247274, 0.03645752661780488, 0.0076526215239039784, 0.03625062080197285, -0.022467794435445474, -0.04283920685477636, 0.035498838565005894, -0.029293142129628972, 0.0017525812550219122, -0.010692282517667033, 0.020608623508469405, -0.023123602341078856, 0.013933948286713725, 0.051052316675345495, -0.12784919598493993, 0.06103973507966333, -0.09440567456246218, -0.01926785578075692, 0.039715750832332, 0.014620436788183928, -0.07735769964970608, 0.013925439824406194, 0.02324697468263607, -0.07344412666770439, 0.01965554610728043, -0.04717871147031703, 0.01707232869525938, 0.01180950346447176, -0.05966070391836109, -0.005199676916030097, -0.031785258751725734, 0.025692311246464726, 0.00016955646628025956, 0.03739894201274635, -0.037652485055786875, -0.010326431086452956, 0.014563152362542067, -0.01979534126981479, 0.026765556839080967, 0.0016868838761855708, 0.030115298255361946, -0.03140549171067668, 0.010558023676056457, -0.054448354395959936, 0.004186202191726172, 0.020670139086058577, -0.039703914281234716, 0.022649493463267167, 0.0231174667350367, -0.015231140806208897, 0.0006804033833036305, -0.0023712633380330935, 0.012681497286173652, 1.1988744969421954e-16, -0.00652827885321283, 0.03038860501426809, 0.012147118480840654, -0.03070485250524858, -0.015330962195553455, -0.0030129977472598563, -0.002660898795442568, -0.0317200561077352, 0.01774958730536424, -0.004517566656419033, 0.02104271586316211, -0.01989733126667179, 0.020634908524770516, -0.01663972138783005, 0.010081629879877572, -0.00680710151947984, 0.008326668557420817, -0.019922246660147365, -0.01546710413665861, 0.004689745912662499, -0.0007937646567429943, -0.01720015927074714, 0.05343267715540071, 0.012976189841571166, -0.012978200224214025, 0.017726461584560167, 0.004115903738748568, 0.00447384672564971, 0.016982729894155904, -0.006027132313922081, 0.004485802690214075, 0.009221985960583488, 0.007968823742810523, 0.016925998462251266, -0.013920292675622028, -0.01907686533891026, 0.01836084922254614, 0.0010136435206247235, -0.013964572169237398, 0.012866062729974793, -0.002737379731799048, -0.0037800241086243347, -0.027264848931078268, 0.021056121629684135, -0.0191809336588735, 0.0, -0.0102493758923386, -0.009761054340755982, -0.01780958159477203, 0.01332899363983571, 0.004240778509323872, 0.014038472399892248, 0.029913735908845197, 0.028610603946653098, 0.0048504014953488755, 0.02869270429344972, -0.0033451775305647132, 0.008310856368210098, -0.0006214787448183862, -0.010905403510997143, 0.01609016556951933, 0.004509145656382022, 0.010302905678483189, -0.021161834888350065, 0.029014757413160296, -0.010684209519766669, 0.01421025115902603, -0.0032833952168095305, 0.003665247463626384, 0.012383207804285425, 0.009428142566938592, 0.01284888951416259, -0.0053039232783610715, 0.0024360319929672036, -0.0016211111150619404, -0.0032395191210640804, 0.007832885769777392, -0.017349215566796913, 0.000980377197265625, 0.002357079792662099, -0.020308551730528767, 0.04019048781622024, 0.008905540453457522, 0.007105125579513015, -0.0018170836827379438, 0.020800018310546876, -0.0004060182388380026, -0.011463692748888896, -0.004217695935152446, 0.002771716378948157, -0.019242470801957248, 0.008742349004540649, -0.006681551632573051, -0.0012026733618975584, 0.02026895643421435, -0.012981683164269845, -0.020016330893828153, -0.018214254884470406, 0.0023387788612396656, -0.010538584760761388, 0.003053432113605758, 0.009514595698384405, -0.007602327396657954, 0.006575133602931836, -0.015814845110043534, -0.008693991415597317, 0.013632111160351141, -0.006162499267157821, 0.008107584724481788, 0.008516924620774512, -0.020853051642106043, -0.004823716403947978, -0.002019471413372268, 0.021428538491623943, -0.006774569335461639, -0.014683784067735581, 0.00310233124954338, 0.023615408348008824, 0.007394522748430502, 0.01425705944197496, 0.002938541211188755, -0.004081639714373451]}],\n",
       "                        {\"legend\": {\"bgcolor\": \"#F5F6F9\", \"font\": {\"color\": \"#4D5663\"}}, \"paper_bgcolor\": \"#F5F6F9\", \"plot_bgcolor\": \"#F5F6F9\", \"template\": {\"data\": {\"bar\": [{\"error_x\": {\"color\": \"#2a3f5f\"}, \"error_y\": {\"color\": \"#2a3f5f\"}, \"marker\": {\"line\": {\"color\": \"#E5ECF6\", \"width\": 0.5}}, \"type\": \"bar\"}], \"barpolar\": [{\"marker\": {\"line\": {\"color\": \"#E5ECF6\", \"width\": 0.5}}, \"type\": \"barpolar\"}], \"carpet\": [{\"aaxis\": {\"endlinecolor\": \"#2a3f5f\", \"gridcolor\": \"white\", \"linecolor\": \"white\", \"minorgridcolor\": \"white\", \"startlinecolor\": \"#2a3f5f\"}, \"baxis\": {\"endlinecolor\": \"#2a3f5f\", \"gridcolor\": \"white\", \"linecolor\": \"white\", \"minorgridcolor\": \"white\", \"startlinecolor\": \"#2a3f5f\"}, \"type\": \"carpet\"}], \"choropleth\": [{\"colorbar\": {\"outlinewidth\": 0, \"ticks\": \"\"}, \"type\": \"choropleth\"}], \"contour\": [{\"colorbar\": {\"outlinewidth\": 0, \"ticks\": \"\"}, \"colorscale\": [[0.0, \"#0d0887\"], [0.1111111111111111, \"#46039f\"], [0.2222222222222222, \"#7201a8\"], [0.3333333333333333, \"#9c179e\"], [0.4444444444444444, \"#bd3786\"], [0.5555555555555556, \"#d8576b\"], [0.6666666666666666, \"#ed7953\"], [0.7777777777777778, \"#fb9f3a\"], [0.8888888888888888, \"#fdca26\"], [1.0, \"#f0f921\"]], \"type\": \"contour\"}], \"contourcarpet\": [{\"colorbar\": {\"outlinewidth\": 0, \"ticks\": \"\"}, \"type\": \"contourcarpet\"}], \"heatmap\": [{\"colorbar\": {\"outlinewidth\": 0, \"ticks\": \"\"}, \"colorscale\": [[0.0, \"#0d0887\"], [0.1111111111111111, \"#46039f\"], [0.2222222222222222, \"#7201a8\"], [0.3333333333333333, \"#9c179e\"], [0.4444444444444444, \"#bd3786\"], [0.5555555555555556, \"#d8576b\"], [0.6666666666666666, \"#ed7953\"], [0.7777777777777778, \"#fb9f3a\"], [0.8888888888888888, \"#fdca26\"], [1.0, \"#f0f921\"]], \"type\": \"heatmap\"}], \"heatmapgl\": [{\"colorbar\": {\"outlinewidth\": 0, \"ticks\": \"\"}, \"colorscale\": [[0.0, \"#0d0887\"], [0.1111111111111111, \"#46039f\"], [0.2222222222222222, \"#7201a8\"], [0.3333333333333333, \"#9c179e\"], [0.4444444444444444, \"#bd3786\"], [0.5555555555555556, \"#d8576b\"], [0.6666666666666666, \"#ed7953\"], [0.7777777777777778, \"#fb9f3a\"], [0.8888888888888888, \"#fdca26\"], [1.0, \"#f0f921\"]], \"type\": \"heatmapgl\"}], \"histogram\": [{\"marker\": {\"colorbar\": {\"outlinewidth\": 0, \"ticks\": \"\"}}, \"type\": \"histogram\"}], \"histogram2d\": [{\"colorbar\": {\"outlinewidth\": 0, \"ticks\": \"\"}, \"colorscale\": [[0.0, \"#0d0887\"], [0.1111111111111111, \"#46039f\"], [0.2222222222222222, \"#7201a8\"], [0.3333333333333333, \"#9c179e\"], [0.4444444444444444, \"#bd3786\"], [0.5555555555555556, \"#d8576b\"], [0.6666666666666666, \"#ed7953\"], [0.7777777777777778, \"#fb9f3a\"], [0.8888888888888888, \"#fdca26\"], [1.0, \"#f0f921\"]], \"type\": \"histogram2d\"}], \"histogram2dcontour\": [{\"colorbar\": {\"outlinewidth\": 0, \"ticks\": \"\"}, \"colorscale\": [[0.0, \"#0d0887\"], [0.1111111111111111, \"#46039f\"], [0.2222222222222222, \"#7201a8\"], [0.3333333333333333, \"#9c179e\"], [0.4444444444444444, \"#bd3786\"], [0.5555555555555556, \"#d8576b\"], [0.6666666666666666, \"#ed7953\"], [0.7777777777777778, \"#fb9f3a\"], [0.8888888888888888, \"#fdca26\"], [1.0, \"#f0f921\"]], \"type\": \"histogram2dcontour\"}], \"mesh3d\": [{\"colorbar\": {\"outlinewidth\": 0, \"ticks\": \"\"}, \"type\": \"mesh3d\"}], \"parcoords\": [{\"line\": {\"colorbar\": {\"outlinewidth\": 0, \"ticks\": \"\"}}, \"type\": \"parcoords\"}], \"pie\": [{\"automargin\": true, \"type\": \"pie\"}], \"scatter\": [{\"marker\": {\"colorbar\": {\"outlinewidth\": 0, \"ticks\": \"\"}}, \"type\": \"scatter\"}], \"scatter3d\": [{\"line\": {\"colorbar\": {\"outlinewidth\": 0, \"ticks\": \"\"}}, \"marker\": {\"colorbar\": {\"outlinewidth\": 0, \"ticks\": \"\"}}, \"type\": \"scatter3d\"}], \"scattercarpet\": [{\"marker\": {\"colorbar\": {\"outlinewidth\": 0, \"ticks\": \"\"}}, \"type\": \"scattercarpet\"}], \"scattergeo\": [{\"marker\": {\"colorbar\": {\"outlinewidth\": 0, \"ticks\": \"\"}}, \"type\": \"scattergeo\"}], \"scattergl\": [{\"marker\": {\"colorbar\": {\"outlinewidth\": 0, \"ticks\": \"\"}}, \"type\": \"scattergl\"}], \"scattermapbox\": [{\"marker\": {\"colorbar\": {\"outlinewidth\": 0, \"ticks\": \"\"}}, \"type\": \"scattermapbox\"}], \"scatterpolar\": [{\"marker\": {\"colorbar\": {\"outlinewidth\": 0, \"ticks\": \"\"}}, \"type\": \"scatterpolar\"}], \"scatterpolargl\": [{\"marker\": {\"colorbar\": {\"outlinewidth\": 0, \"ticks\": \"\"}}, \"type\": \"scatterpolargl\"}], \"scatterternary\": [{\"marker\": {\"colorbar\": {\"outlinewidth\": 0, \"ticks\": \"\"}}, \"type\": \"scatterternary\"}], \"surface\": [{\"colorbar\": {\"outlinewidth\": 0, \"ticks\": \"\"}, \"colorscale\": [[0.0, \"#0d0887\"], [0.1111111111111111, \"#46039f\"], [0.2222222222222222, \"#7201a8\"], [0.3333333333333333, \"#9c179e\"], [0.4444444444444444, \"#bd3786\"], [0.5555555555555556, \"#d8576b\"], [0.6666666666666666, \"#ed7953\"], [0.7777777777777778, \"#fb9f3a\"], [0.8888888888888888, \"#fdca26\"], [1.0, \"#f0f921\"]], \"type\": \"surface\"}], \"table\": [{\"cells\": {\"fill\": {\"color\": \"#EBF0F8\"}, \"line\": {\"color\": \"white\"}}, \"header\": {\"fill\": {\"color\": \"#C8D4E3\"}, \"line\": {\"color\": \"white\"}}, \"type\": \"table\"}]}, \"layout\": {\"annotationdefaults\": {\"arrowcolor\": \"#2a3f5f\", \"arrowhead\": 0, \"arrowwidth\": 1}, \"coloraxis\": {\"colorbar\": {\"outlinewidth\": 0, \"ticks\": \"\"}}, \"colorscale\": {\"diverging\": [[0, \"#8e0152\"], [0.1, \"#c51b7d\"], [0.2, \"#de77ae\"], [0.3, \"#f1b6da\"], [0.4, \"#fde0ef\"], [0.5, \"#f7f7f7\"], [0.6, \"#e6f5d0\"], [0.7, \"#b8e186\"], [0.8, \"#7fbc41\"], [0.9, \"#4d9221\"], [1, \"#276419\"]], \"sequential\": [[0.0, \"#0d0887\"], [0.1111111111111111, \"#46039f\"], [0.2222222222222222, \"#7201a8\"], [0.3333333333333333, \"#9c179e\"], [0.4444444444444444, \"#bd3786\"], [0.5555555555555556, \"#d8576b\"], [0.6666666666666666, \"#ed7953\"], [0.7777777777777778, \"#fb9f3a\"], [0.8888888888888888, \"#fdca26\"], [1.0, \"#f0f921\"]], \"sequentialminus\": [[0.0, \"#0d0887\"], [0.1111111111111111, \"#46039f\"], [0.2222222222222222, \"#7201a8\"], [0.3333333333333333, \"#9c179e\"], [0.4444444444444444, \"#bd3786\"], [0.5555555555555556, \"#d8576b\"], [0.6666666666666666, \"#ed7953\"], [0.7777777777777778, \"#fb9f3a\"], [0.8888888888888888, \"#fdca26\"], [1.0, \"#f0f921\"]]}, \"colorway\": [\"#636efa\", \"#EF553B\", \"#00cc96\", \"#ab63fa\", \"#FFA15A\", \"#19d3f3\", \"#FF6692\", \"#B6E880\", \"#FF97FF\", \"#FECB52\"], \"font\": {\"color\": \"#2a3f5f\"}, \"geo\": {\"bgcolor\": \"white\", \"lakecolor\": \"white\", \"landcolor\": \"#E5ECF6\", \"showlakes\": true, \"showland\": true, \"subunitcolor\": \"white\"}, \"hoverlabel\": {\"align\": \"left\"}, \"hovermode\": \"closest\", \"mapbox\": {\"style\": \"light\"}, \"paper_bgcolor\": \"white\", \"plot_bgcolor\": \"#E5ECF6\", \"polar\": {\"angularaxis\": {\"gridcolor\": \"white\", \"linecolor\": \"white\", \"ticks\": \"\"}, \"bgcolor\": \"#E5ECF6\", \"radialaxis\": {\"gridcolor\": \"white\", \"linecolor\": \"white\", \"ticks\": \"\"}}, \"scene\": {\"xaxis\": {\"backgroundcolor\": \"#E5ECF6\", \"gridcolor\": \"white\", \"gridwidth\": 2, \"linecolor\": \"white\", \"showbackground\": true, \"ticks\": \"\", \"zerolinecolor\": \"white\"}, \"yaxis\": {\"backgroundcolor\": \"#E5ECF6\", \"gridcolor\": \"white\", \"gridwidth\": 2, \"linecolor\": \"white\", \"showbackground\": true, \"ticks\": \"\", \"zerolinecolor\": \"white\"}, \"zaxis\": {\"backgroundcolor\": \"#E5ECF6\", \"gridcolor\": \"white\", \"gridwidth\": 2, \"linecolor\": \"white\", \"showbackground\": true, \"ticks\": \"\", \"zerolinecolor\": \"white\"}}, \"shapedefaults\": {\"line\": {\"color\": \"#2a3f5f\"}}, \"ternary\": {\"aaxis\": {\"gridcolor\": \"white\", \"linecolor\": \"white\", \"ticks\": \"\"}, \"baxis\": {\"gridcolor\": \"white\", \"linecolor\": \"white\", \"ticks\": \"\"}, \"bgcolor\": \"#E5ECF6\", \"caxis\": {\"gridcolor\": \"white\", \"linecolor\": \"white\", \"ticks\": \"\"}}, \"title\": {\"x\": 0.05}, \"xaxis\": {\"automargin\": true, \"gridcolor\": \"white\", \"linecolor\": \"white\", \"ticks\": \"\", \"title\": {\"standoff\": 15}, \"zerolinecolor\": \"white\", \"zerolinewidth\": 2}, \"yaxis\": {\"automargin\": true, \"gridcolor\": \"white\", \"linecolor\": \"white\", \"ticks\": \"\", \"title\": {\"standoff\": 15}, \"zerolinecolor\": \"white\", \"zerolinewidth\": 2}}}, \"title\": {\"font\": {\"color\": \"#4D5663\"}}, \"xaxis\": {\"gridcolor\": \"#E1E5ED\", \"showgrid\": true, \"tickfont\": {\"color\": \"#4D5663\"}, \"title\": {\"font\": {\"color\": \"#4D5663\"}, \"text\": \"\"}, \"zerolinecolor\": \"#E1E5ED\"}, \"yaxis\": {\"gridcolor\": \"#E1E5ED\", \"showgrid\": true, \"tickfont\": {\"color\": \"#4D5663\"}, \"title\": {\"font\": {\"color\": \"#4D5663\"}, \"text\": \"\"}, \"zerolinecolor\": \"#E1E5ED\"}},\n",
       "                        {\"responsive\": true}\n",
       "                    ).then(function(){\n",
       "                            \n",
       "var gd = document.getElementById('121a46db-dadd-44a1-92f3-8708f36e978d');\n",
       "var x = new MutationObserver(function (mutations, observer) {{\n",
       "        var display = window.getComputedStyle(gd).display;\n",
       "        if (!display || display === 'none') {{\n",
       "            console.log([gd, 'removed!']);\n",
       "            Plotly.purge(gd);\n",
       "            observer.disconnect();\n",
       "        }}\n",
       "}});\n",
       "\n",
       "// Listen for the removal of the full notebook cells\n",
       "var notebookContainer = gd.closest('#notebook-container');\n",
       "if (notebookContainer) {{\n",
       "    x.observe(notebookContainer, {childList: true});\n",
       "}}\n",
       "\n",
       "// Listen for the clearing of the current output cell\n",
       "var outputEl = gd.closest('.output');\n",
       "if (outputEl) {{\n",
       "    x.observe(outputEl, {childList: true});\n",
       "}}\n",
       "\n",
       "                        })\n",
       "                };\n",
       "                });\n",
       "            </script>\n",
       "        </div>"
      ]
     },
     "metadata": {},
     "output_type": "display_data"
    },
    {
     "data": {
      "application/vnd.plotly.v1+json": {
       "config": {
        "linkText": "Export to plot.ly",
        "plotlyServerURL": "https://plot.ly",
        "showLink": false
       },
       "data": [
        {
         "line": {
          "color": "rgba(255, 153, 51, 1.0)",
          "dash": "solid",
          "shape": "linear",
          "width": 1.3
         },
         "mode": "lines",
         "name": "Previous Day Pct Change",
         "text": "",
         "type": "scatter",
         "x": [
          "2019-10-31",
          "2019-11-01",
          "2019-11-04",
          "2019-11-05",
          "2019-11-06",
          "2019-11-07",
          "2019-11-08",
          "2019-11-11",
          "2019-11-12",
          "2019-11-13",
          "2019-11-14",
          "2019-11-15",
          "2019-11-18",
          "2019-11-19",
          "2019-11-20",
          "2019-11-21",
          "2019-11-22",
          "2019-11-25",
          "2019-11-26",
          "2019-11-27",
          "2019-11-29",
          "2019-12-02",
          "2019-12-03",
          "2019-12-04",
          "2019-12-05",
          "2019-12-06",
          "2019-12-09",
          "2019-12-10",
          "2019-12-11",
          "2019-12-12",
          "2019-12-13",
          "2019-12-16",
          "2019-12-17",
          "2019-12-18",
          "2019-12-19",
          "2019-12-20",
          "2019-12-23",
          "2019-12-24",
          "2019-12-26",
          "2019-12-27",
          "2019-12-30",
          "2019-12-31",
          "2020-01-02",
          "2020-01-03",
          "2020-01-06",
          "2020-01-07",
          "2020-01-08",
          "2020-01-09",
          "2020-01-10",
          "2020-01-13",
          "2020-01-14",
          "2020-01-15",
          "2020-01-16",
          "2020-01-17",
          "2020-01-21",
          "2020-01-22",
          "2020-01-23",
          "2020-01-24",
          "2020-01-27",
          "2020-01-28",
          "2020-01-29",
          "2020-01-30",
          "2020-01-31",
          "2020-02-03",
          "2020-02-04",
          "2020-02-05",
          "2020-02-06",
          "2020-02-07",
          "2020-02-10",
          "2020-02-11",
          "2020-02-12",
          "2020-02-13",
          "2020-02-14",
          "2020-02-18",
          "2020-02-19",
          "2020-02-20",
          "2020-02-21",
          "2020-02-24",
          "2020-02-25",
          "2020-02-26",
          "2020-02-27",
          "2020-02-28",
          "2020-03-02",
          "2020-03-03",
          "2020-03-04",
          "2020-03-05",
          "2020-03-06",
          "2020-03-09",
          "2020-03-10",
          "2020-03-11",
          "2020-03-12",
          "2020-03-13",
          "2020-03-16",
          "2020-03-17",
          "2020-03-18",
          "2020-03-19",
          "2020-03-20",
          "2020-03-23",
          "2020-03-24",
          "2020-03-25",
          "2020-03-26",
          "2020-03-27",
          "2020-03-30",
          "2020-03-31",
          "2020-04-01",
          "2020-04-02",
          "2020-04-03",
          "2020-04-06",
          "2020-04-07",
          "2020-04-08",
          "2020-04-09",
          "2020-04-13",
          "2020-04-14",
          "2020-04-15",
          "2020-04-16",
          "2020-04-17",
          "2020-04-20",
          "2020-04-21",
          "2020-04-22",
          "2020-04-23",
          "2020-04-24",
          "2020-04-27",
          "2020-04-28",
          "2020-04-29",
          "2020-04-30",
          "2020-05-01",
          "2020-05-04",
          "2020-05-05",
          "2020-05-06",
          "2020-05-07",
          "2020-05-08",
          "2020-05-11",
          "2020-05-12",
          "2020-05-13",
          "2020-05-14",
          "2020-05-15",
          "2020-05-18",
          "2020-05-19",
          "2020-05-20",
          "2020-05-21",
          "2020-05-22",
          "2020-05-26",
          "2020-05-27",
          "2020-05-28",
          "2020-05-29",
          "2020-06-01",
          "2020-06-02",
          "2020-06-03",
          "2020-06-04",
          "2020-06-05",
          "2020-06-08",
          "2020-06-09",
          "2020-06-10",
          "2020-06-11",
          "2020-06-12",
          "2020-06-15",
          "2020-06-16",
          "2020-06-17",
          "2020-06-18",
          "2020-06-19",
          "2020-06-22",
          "2020-06-23",
          "2020-06-24",
          "2020-06-25",
          "2020-06-26",
          "2020-06-29",
          "2020-06-30",
          "2020-07-01",
          "2020-07-02",
          "2020-07-06",
          "2020-07-07",
          "2020-07-08",
          "2020-07-09",
          "2020-07-10",
          "2020-07-13",
          "2020-07-14",
          "2020-07-15",
          "2020-07-16",
          "2020-07-17",
          "2020-07-20",
          "2020-07-21",
          "2020-07-22",
          "2020-07-23",
          "2020-07-24",
          "2020-07-27",
          "2020-07-28",
          "2020-07-29",
          "2020-07-30",
          "2020-07-31",
          "2020-08-03",
          "2020-08-04",
          "2020-08-05",
          "2020-08-06",
          "2020-08-07",
          "2020-08-10",
          "2020-08-11",
          "2020-08-12",
          "2020-08-13",
          "2020-08-14",
          "2020-08-17",
          "2020-08-18",
          "2020-08-19",
          "2020-08-20",
          "2020-08-21",
          "2020-08-24",
          "2020-08-25",
          "2020-08-26",
          "2020-08-27",
          "2020-08-28",
          "2020-08-31",
          "2020-09-01",
          "2020-09-02",
          "2020-09-03",
          "2020-09-04",
          "2020-09-08",
          "2020-09-09",
          "2020-09-10",
          "2020-09-11",
          "2020-09-14",
          "2020-09-15",
          "2020-09-16",
          "2020-09-17",
          "2020-09-18",
          "2020-09-21",
          "2020-09-22",
          "2020-09-23",
          "2020-09-24",
          "2020-09-25",
          "2020-09-28",
          "2020-09-29",
          "2020-09-30",
          "2020-10-01",
          "2020-10-02",
          "2020-10-05",
          "2020-10-06",
          "2020-10-07",
          "2020-10-08",
          "2020-10-09",
          "2020-10-12",
          "2020-10-13",
          "2020-10-14",
          "2020-10-15",
          "2020-10-16",
          "2020-10-19",
          "2020-10-20",
          "2020-10-21",
          "2020-10-22",
          "2020-10-23",
          "2020-10-26",
          "2020-10-27",
          "2020-10-28",
          "2020-10-29",
          "2020-10-30"
         ],
         "y": [
          0,
          -0.0035504516552658334,
          -0.0101894835326662,
          -0.011944498533824075,
          -0.0013919960789665544,
          -0.001913320446040129,
          -0.0008620558113886694,
          -0.00726019005567407,
          -0.006555067197105062,
          0.0034246705087982604,
          -0.0003456101284401204,
          -0.003471632716898687,
          0.0036100926780631023,
          -0.009532049043122518,
          0.002223000498167505,
          0.006179141881664663,
          -0.012697852164261565,
          0.012512847794429613,
          -0.013965540918810637,
          0.0008481634675733308,
          0.00034171293662736007,
          0.0017197297711825784,
          0.015200672950395053,
          0.013893790134492521,
          0.011295435781362101,
          0.005849991442121204,
          -0.0026473972164289734,
          0.00017690371539624494,
          0.0021160101185333765,
          -0.0028114540123195565,
          -0.01409690285569257,
          -0.004170315927862742,
          0.008761352509095802,
          0.012068978671369914,
          0.003833441767605333,
          -0.013818452699487298,
          -0.010802487507062584,
          -0.0028783976463331896,
          -0.002700419365605224,
          -0.006901192534340066,
          -0.0028376228355127104,
          0.006167740227199269,
          -0.0038577582414770287,
          -0.009960133755035511,
          -0.004848638926124178,
          -0.005705657857312982,
          0.014218777040448272,
          -0.0013584960414984668,
          -0.004233700308722426,
          0.010575811169090309,
          -0.007098225395298556,
          0.001008595925334022,
          0.006070836677626321,
          -0.006749941566123304,
          0.006335463004591175,
          -0.012372476956671393,
          -0.027686739865023124,
          -0.007317834553073455,
          -0.028541408060523563,
          0.015437631301740355,
          -0.012180414414943526,
          0.01922217174565356,
          -0.01264475683687452,
          0.028419493310829966,
          0.0006205540815308082,
          0.004713358285178353,
          -0.009746496816452581,
          0.0031204562309703815,
          0.012563624882096001,
          -0.012660187034218158,
          -0.008678764255026046,
          0.00207099693503737,
          -0.0067174890578715896,
          0.003702606819155957,
          0.007800843742775149,
          -0.010845025264684432,
          0.0237172426248713,
          0.01288744957582426,
          -0.002434632522247274,
          0.03645752661780488,
          0.0076526215239039784,
          0.03625062080197285,
          -0.022467794435445474,
          -0.04283920685477636,
          0.035498838565005894,
          -0.029293142129628972,
          0.0017525812550219122,
          -0.010692282517667033,
          0.020608623508469405,
          -0.023123602341078856,
          0.013933948286713725,
          0.051052316675345495,
          -0.12784919598493993,
          0.06103973507966333,
          -0.09440567456246218,
          -0.01926785578075692,
          0.039715750832332,
          0.014620436788183928,
          -0.07735769964970608,
          0.013925439824406194,
          0.02324697468263607,
          -0.07344412666770439,
          0.01965554610728043,
          -0.04717871147031703,
          0.01707232869525938,
          0.01180950346447176,
          -0.05966070391836109,
          -0.005199676916030097,
          -0.031785258751725734,
          0.025692311246464726,
          0.00016955646628025956,
          0.03739894201274635,
          -0.037652485055786875,
          -0.010326431086452956,
          0.014563152362542067,
          -0.01979534126981479,
          0.026765556839080967,
          0.0016868838761855708,
          0.030115298255361946,
          -0.03140549171067668,
          0.010558023676056457,
          -0.054448354395959936,
          0.004186202191726172,
          0.020670139086058577,
          -0.039703914281234716,
          0.022649493463267167,
          0.0231174667350367,
          -0.015231140806208897,
          0.0006804033833036305,
          -0.0023712633380330935,
          0.012681497286173652,
          1.1988744969421954e-16,
          -0.00652827885321283,
          0.03038860501426809,
          0.012147118480840654,
          -0.03070485250524858,
          -0.015330962195553455,
          -0.0030129977472598563,
          -0.002660898795442568,
          -0.0317200561077352,
          0.01774958730536424,
          -0.004517566656419033,
          0.02104271586316211,
          -0.01989733126667179,
          0.020634908524770516,
          -0.01663972138783005,
          0.010081629879877572,
          -0.00680710151947984,
          0.008326668557420817,
          -0.019922246660147365,
          -0.01546710413665861,
          0.004689745912662499,
          -0.0007937646567429943,
          -0.01720015927074714,
          0.05343267715540071,
          0.012976189841571166,
          -0.012978200224214025,
          0.017726461584560167,
          0.004115903738748568,
          0.00447384672564971,
          0.016982729894155904,
          -0.006027132313922081,
          0.004485802690214075,
          0.009221985960583488,
          0.007968823742810523,
          0.016925998462251266,
          -0.013920292675622028,
          -0.01907686533891026,
          0.01836084922254614,
          0.0010136435206247235,
          -0.013964572169237398,
          0.012866062729974793,
          -0.002737379731799048,
          -0.0037800241086243347,
          -0.027264848931078268,
          0.021056121629684135,
          -0.0191809336588735,
          0,
          -0.0102493758923386,
          -0.009761054340755982,
          -0.01780958159477203,
          0.01332899363983571,
          0.004240778509323872,
          0.014038472399892248,
          0.029913735908845197,
          0.028610603946653098,
          0.0048504014953488755,
          0.02869270429344972,
          -0.0033451775305647132,
          0.008310856368210098,
          -0.0006214787448183862,
          -0.010905403510997143,
          0.01609016556951933,
          0.004509145656382022,
          0.010302905678483189,
          -0.021161834888350065,
          0.029014757413160296,
          -0.010684209519766669,
          0.01421025115902603,
          -0.0032833952168095305,
          0.003665247463626384,
          0.012383207804285425,
          0.009428142566938592,
          0.01284888951416259,
          -0.0053039232783610715,
          0.0024360319929672036,
          -0.0016211111150619404,
          -0.0032395191210640804,
          0.007832885769777392,
          -0.017349215566796913,
          0.000980377197265625,
          0.002357079792662099,
          -0.020308551730528767,
          0.04019048781622024,
          0.008905540453457522,
          0.007105125579513015,
          -0.0018170836827379438,
          0.020800018310546876,
          -0.0004060182388380026,
          -0.011463692748888896,
          -0.004217695935152446,
          0.002771716378948157,
          -0.019242470801957248,
          0.008742349004540649,
          -0.006681551632573051,
          -0.0012026733618975584,
          0.02026895643421435,
          -0.012981683164269845,
          -0.020016330893828153,
          -0.018214254884470406,
          0.0023387788612396656,
          -0.010538584760761388,
          0.003053432113605758,
          0.009514595698384405,
          -0.007602327396657954,
          0.006575133602931836,
          -0.015814845110043534,
          -0.008693991415597317,
          0.013632111160351141,
          -0.006162499267157821,
          0.008107584724481788,
          0.008516924620774512,
          -0.020853051642106043,
          -0.004823716403947978,
          -0.002019471413372268,
          0.021428538491623943,
          -0.006774569335461639,
          -0.014683784067735581,
          0.00310233124954338,
          0.023615408348008824,
          0.007394522748430502,
          0.01425705944197496,
          0.002938541211188755
         ]
        },
        {
         "line": {
          "color": "rgba(55, 128, 191, 1.0)",
          "dash": "solid",
          "shape": "linear",
          "width": 1.3
         },
         "mode": "lines",
         "name": "Intraday Pct Change",
         "text": "",
         "type": "scatter",
         "x": [
          "2019-10-31",
          "2019-11-01",
          "2019-11-04",
          "2019-11-05",
          "2019-11-06",
          "2019-11-07",
          "2019-11-08",
          "2019-11-11",
          "2019-11-12",
          "2019-11-13",
          "2019-11-14",
          "2019-11-15",
          "2019-11-18",
          "2019-11-19",
          "2019-11-20",
          "2019-11-21",
          "2019-11-22",
          "2019-11-25",
          "2019-11-26",
          "2019-11-27",
          "2019-11-29",
          "2019-12-02",
          "2019-12-03",
          "2019-12-04",
          "2019-12-05",
          "2019-12-06",
          "2019-12-09",
          "2019-12-10",
          "2019-12-11",
          "2019-12-12",
          "2019-12-13",
          "2019-12-16",
          "2019-12-17",
          "2019-12-18",
          "2019-12-19",
          "2019-12-20",
          "2019-12-23",
          "2019-12-24",
          "2019-12-26",
          "2019-12-27",
          "2019-12-30",
          "2019-12-31",
          "2020-01-02",
          "2020-01-03",
          "2020-01-06",
          "2020-01-07",
          "2020-01-08",
          "2020-01-09",
          "2020-01-10",
          "2020-01-13",
          "2020-01-14",
          "2020-01-15",
          "2020-01-16",
          "2020-01-17",
          "2020-01-21",
          "2020-01-22",
          "2020-01-23",
          "2020-01-24",
          "2020-01-27",
          "2020-01-28",
          "2020-01-29",
          "2020-01-30",
          "2020-01-31",
          "2020-02-03",
          "2020-02-04",
          "2020-02-05",
          "2020-02-06",
          "2020-02-07",
          "2020-02-10",
          "2020-02-11",
          "2020-02-12",
          "2020-02-13",
          "2020-02-14",
          "2020-02-18",
          "2020-02-19",
          "2020-02-20",
          "2020-02-21",
          "2020-02-24",
          "2020-02-25",
          "2020-02-26",
          "2020-02-27",
          "2020-02-28",
          "2020-03-02",
          "2020-03-03",
          "2020-03-04",
          "2020-03-05",
          "2020-03-06",
          "2020-03-09",
          "2020-03-10",
          "2020-03-11",
          "2020-03-12",
          "2020-03-13",
          "2020-03-16",
          "2020-03-17",
          "2020-03-18",
          "2020-03-19",
          "2020-03-20",
          "2020-03-23",
          "2020-03-24",
          "2020-03-25",
          "2020-03-26",
          "2020-03-27",
          "2020-03-30",
          "2020-03-31",
          "2020-04-01",
          "2020-04-02",
          "2020-04-03",
          "2020-04-06",
          "2020-04-07",
          "2020-04-08",
          "2020-04-09",
          "2020-04-13",
          "2020-04-14",
          "2020-04-15",
          "2020-04-16",
          "2020-04-17",
          "2020-04-20",
          "2020-04-21",
          "2020-04-22",
          "2020-04-23",
          "2020-04-24",
          "2020-04-27",
          "2020-04-28",
          "2020-04-29",
          "2020-04-30",
          "2020-05-01",
          "2020-05-04",
          "2020-05-05",
          "2020-05-06",
          "2020-05-07",
          "2020-05-08",
          "2020-05-11",
          "2020-05-12",
          "2020-05-13",
          "2020-05-14",
          "2020-05-15",
          "2020-05-18",
          "2020-05-19",
          "2020-05-20",
          "2020-05-21",
          "2020-05-22",
          "2020-05-26",
          "2020-05-27",
          "2020-05-28",
          "2020-05-29",
          "2020-06-01",
          "2020-06-02",
          "2020-06-03",
          "2020-06-04",
          "2020-06-05",
          "2020-06-08",
          "2020-06-09",
          "2020-06-10",
          "2020-06-11",
          "2020-06-12",
          "2020-06-15",
          "2020-06-16",
          "2020-06-17",
          "2020-06-18",
          "2020-06-19",
          "2020-06-22",
          "2020-06-23",
          "2020-06-24",
          "2020-06-25",
          "2020-06-26",
          "2020-06-29",
          "2020-06-30",
          "2020-07-01",
          "2020-07-02",
          "2020-07-06",
          "2020-07-07",
          "2020-07-08",
          "2020-07-09",
          "2020-07-10",
          "2020-07-13",
          "2020-07-14",
          "2020-07-15",
          "2020-07-16",
          "2020-07-17",
          "2020-07-20",
          "2020-07-21",
          "2020-07-22",
          "2020-07-23",
          "2020-07-24",
          "2020-07-27",
          "2020-07-28",
          "2020-07-29",
          "2020-07-30",
          "2020-07-31",
          "2020-08-03",
          "2020-08-04",
          "2020-08-05",
          "2020-08-06",
          "2020-08-07",
          "2020-08-10",
          "2020-08-11",
          "2020-08-12",
          "2020-08-13",
          "2020-08-14",
          "2020-08-17",
          "2020-08-18",
          "2020-08-19",
          "2020-08-20",
          "2020-08-21",
          "2020-08-24",
          "2020-08-25",
          "2020-08-26",
          "2020-08-27",
          "2020-08-28",
          "2020-08-31",
          "2020-09-01",
          "2020-09-02",
          "2020-09-03",
          "2020-09-04",
          "2020-09-08",
          "2020-09-09",
          "2020-09-10",
          "2020-09-11",
          "2020-09-14",
          "2020-09-15",
          "2020-09-16",
          "2020-09-17",
          "2020-09-18",
          "2020-09-21",
          "2020-09-22",
          "2020-09-23",
          "2020-09-24",
          "2020-09-25",
          "2020-09-28",
          "2020-09-29",
          "2020-09-30",
          "2020-10-01",
          "2020-10-02",
          "2020-10-05",
          "2020-10-06",
          "2020-10-07",
          "2020-10-08",
          "2020-10-09",
          "2020-10-12",
          "2020-10-13",
          "2020-10-14",
          "2020-10-15",
          "2020-10-16",
          "2020-10-19",
          "2020-10-20",
          "2020-10-21",
          "2020-10-22",
          "2020-10-23",
          "2020-10-26",
          "2020-10-27",
          "2020-10-28",
          "2020-10-29",
          "2020-10-30"
         ],
         "y": [
          -0.0035504516552658334,
          -0.0101894835326662,
          -0.011944498533824075,
          -0.0013919960789665544,
          -0.001913320446040129,
          -0.0008620558113886694,
          -0.00726019005567407,
          -0.006555067197105062,
          0.0034246705087982604,
          -0.0003456101284401204,
          -0.003471632716898687,
          0.0036100926780631023,
          -0.009532049043122518,
          0.002223000498167505,
          0.006179141881664663,
          -0.012697852164261565,
          0.012512847794429613,
          -0.013965540918810637,
          0.0008481634675733308,
          0.00034171293662736007,
          0.0017197297711825784,
          0.015200672950395053,
          0.013893790134492521,
          0.011295435781362101,
          0.005849991442121204,
          -0.0026473972164289734,
          0.00017690371539624494,
          0.0021160101185333765,
          -0.0028114540123195565,
          -0.01409690285569257,
          -0.004170315927862742,
          0.008761352509095802,
          0.012068978671369914,
          0.003833441767605333,
          -0.013818452699487298,
          -0.010802487507062584,
          -0.0028783976463331896,
          -0.002700419365605224,
          -0.006901192534340066,
          -0.0028376228355127104,
          0.006167740227199269,
          -0.0038577582414770287,
          -0.009960133755035511,
          -0.004848638926124178,
          -0.005705657857312982,
          0.014218777040448272,
          -0.0013584960414984668,
          -0.004233700308722426,
          0.010575811169090309,
          -0.007098225395298556,
          0.001008595925334022,
          0.006070836677626321,
          -0.006749941566123304,
          0.006335463004591175,
          -0.012372476956671393,
          -0.027686739865023124,
          -0.007317834553073455,
          -0.028541408060523563,
          0.015437631301740355,
          -0.012180414414943526,
          0.01922217174565356,
          -0.01264475683687452,
          0.028419493310829966,
          0.0006205540815308082,
          0.004713358285178353,
          -0.009746496816452581,
          0.0031204562309703815,
          0.012563624882096001,
          -0.012660187034218158,
          -0.008678764255026046,
          0.00207099693503737,
          -0.0067174890578715896,
          0.003702606819155957,
          0.007800843742775149,
          -0.010845025264684432,
          0.0237172426248713,
          0.01288744957582426,
          -0.002434632522247274,
          0.03645752661780488,
          0.0076526215239039784,
          0.03625062080197285,
          -0.022467794435445474,
          -0.04283920685477636,
          0.035498838565005894,
          -0.029293142129628972,
          0.0017525812550219122,
          -0.010692282517667033,
          0.020608623508469405,
          -0.023123602341078856,
          0.013933948286713725,
          0.051052316675345495,
          -0.12784919598493993,
          0.06103973507966333,
          -0.09440567456246218,
          -0.01926785578075692,
          0.039715750832332,
          0.014620436788183928,
          -0.07735769964970608,
          0.013925439824406194,
          0.02324697468263607,
          -0.07344412666770439,
          0.01965554610728043,
          -0.04717871147031703,
          0.01707232869525938,
          0.01180950346447176,
          -0.05966070391836109,
          -0.005199676916030097,
          -0.031785258751725734,
          0.025692311246464726,
          0.00016955646628025956,
          0.03739894201274635,
          -0.037652485055786875,
          -0.010326431086452956,
          0.014563152362542067,
          -0.01979534126981479,
          0.026765556839080967,
          0.0016868838761855708,
          0.030115298255361946,
          -0.03140549171067668,
          0.010558023676056457,
          -0.054448354395959936,
          0.004186202191726172,
          0.020670139086058577,
          -0.039703914281234716,
          0.022649493463267167,
          0.0231174667350367,
          -0.015231140806208897,
          0.0006804033833036305,
          -0.0023712633380330935,
          0.012681497286173652,
          1.1988744969421954e-16,
          -0.00652827885321283,
          0.03038860501426809,
          0.012147118480840654,
          -0.03070485250524858,
          -0.015330962195553455,
          -0.0030129977472598563,
          -0.002660898795442568,
          -0.0317200561077352,
          0.01774958730536424,
          -0.004517566656419033,
          0.02104271586316211,
          -0.01989733126667179,
          0.020634908524770516,
          -0.01663972138783005,
          0.010081629879877572,
          -0.00680710151947984,
          0.008326668557420817,
          -0.019922246660147365,
          -0.01546710413665861,
          0.004689745912662499,
          -0.0007937646567429943,
          -0.01720015927074714,
          0.05343267715540071,
          0.012976189841571166,
          -0.012978200224214025,
          0.017726461584560167,
          0.004115903738748568,
          0.00447384672564971,
          0.016982729894155904,
          -0.006027132313922081,
          0.004485802690214075,
          0.009221985960583488,
          0.007968823742810523,
          0.016925998462251266,
          -0.013920292675622028,
          -0.01907686533891026,
          0.01836084922254614,
          0.0010136435206247235,
          -0.013964572169237398,
          0.012866062729974793,
          -0.002737379731799048,
          -0.0037800241086243347,
          -0.027264848931078268,
          0.021056121629684135,
          -0.0191809336588735,
          0,
          -0.0102493758923386,
          -0.009761054340755982,
          -0.01780958159477203,
          0.01332899363983571,
          0.004240778509323872,
          0.014038472399892248,
          0.029913735908845197,
          0.028610603946653098,
          0.0048504014953488755,
          0.02869270429344972,
          -0.0033451775305647132,
          0.008310856368210098,
          -0.0006214787448183862,
          -0.010905403510997143,
          0.01609016556951933,
          0.004509145656382022,
          0.010302905678483189,
          -0.021161834888350065,
          0.029014757413160296,
          -0.010684209519766669,
          0.01421025115902603,
          -0.0032833952168095305,
          0.003665247463626384,
          0.012383207804285425,
          0.009428142566938592,
          0.01284888951416259,
          -0.0053039232783610715,
          0.0024360319929672036,
          -0.0016211111150619404,
          -0.0032395191210640804,
          0.007832885769777392,
          -0.017349215566796913,
          0.000980377197265625,
          0.002357079792662099,
          -0.020308551730528767,
          0.04019048781622024,
          0.008905540453457522,
          0.007105125579513015,
          -0.0018170836827379438,
          0.020800018310546876,
          -0.0004060182388380026,
          -0.011463692748888896,
          -0.004217695935152446,
          0.002771716378948157,
          -0.019242470801957248,
          0.008742349004540649,
          -0.006681551632573051,
          -0.0012026733618975584,
          0.02026895643421435,
          -0.012981683164269845,
          -0.020016330893828153,
          -0.018214254884470406,
          0.0023387788612396656,
          -0.010538584760761388,
          0.003053432113605758,
          0.009514595698384405,
          -0.007602327396657954,
          0.006575133602931836,
          -0.015814845110043534,
          -0.008693991415597317,
          0.013632111160351141,
          -0.006162499267157821,
          0.008107584724481788,
          0.008516924620774512,
          -0.020853051642106043,
          -0.004823716403947978,
          -0.002019471413372268,
          0.021428538491623943,
          -0.006774569335461639,
          -0.014683784067735581,
          0.00310233124954338,
          0.023615408348008824,
          0.007394522748430502,
          0.01425705944197496,
          0.002938541211188755,
          -0.004081639714373451
         ]
        }
       ],
       "layout": {
        "legend": {
         "bgcolor": "#F5F6F9",
         "font": {
          "color": "#4D5663"
         }
        },
        "paper_bgcolor": "#F5F6F9",
        "plot_bgcolor": "#F5F6F9",
        "template": {
         "data": {
          "bar": [
           {
            "error_x": {
             "color": "#2a3f5f"
            },
            "error_y": {
             "color": "#2a3f5f"
            },
            "marker": {
             "line": {
              "color": "#E5ECF6",
              "width": 0.5
             }
            },
            "type": "bar"
           }
          ],
          "barpolar": [
           {
            "marker": {
             "line": {
              "color": "#E5ECF6",
              "width": 0.5
             }
            },
            "type": "barpolar"
           }
          ],
          "carpet": [
           {
            "aaxis": {
             "endlinecolor": "#2a3f5f",
             "gridcolor": "white",
             "linecolor": "white",
             "minorgridcolor": "white",
             "startlinecolor": "#2a3f5f"
            },
            "baxis": {
             "endlinecolor": "#2a3f5f",
             "gridcolor": "white",
             "linecolor": "white",
             "minorgridcolor": "white",
             "startlinecolor": "#2a3f5f"
            },
            "type": "carpet"
           }
          ],
          "choropleth": [
           {
            "colorbar": {
             "outlinewidth": 0,
             "ticks": ""
            },
            "type": "choropleth"
           }
          ],
          "contour": [
           {
            "colorbar": {
             "outlinewidth": 0,
             "ticks": ""
            },
            "colorscale": [
             [
              0,
              "#0d0887"
             ],
             [
              0.1111111111111111,
              "#46039f"
             ],
             [
              0.2222222222222222,
              "#7201a8"
             ],
             [
              0.3333333333333333,
              "#9c179e"
             ],
             [
              0.4444444444444444,
              "#bd3786"
             ],
             [
              0.5555555555555556,
              "#d8576b"
             ],
             [
              0.6666666666666666,
              "#ed7953"
             ],
             [
              0.7777777777777778,
              "#fb9f3a"
             ],
             [
              0.8888888888888888,
              "#fdca26"
             ],
             [
              1,
              "#f0f921"
             ]
            ],
            "type": "contour"
           }
          ],
          "contourcarpet": [
           {
            "colorbar": {
             "outlinewidth": 0,
             "ticks": ""
            },
            "type": "contourcarpet"
           }
          ],
          "heatmap": [
           {
            "colorbar": {
             "outlinewidth": 0,
             "ticks": ""
            },
            "colorscale": [
             [
              0,
              "#0d0887"
             ],
             [
              0.1111111111111111,
              "#46039f"
             ],
             [
              0.2222222222222222,
              "#7201a8"
             ],
             [
              0.3333333333333333,
              "#9c179e"
             ],
             [
              0.4444444444444444,
              "#bd3786"
             ],
             [
              0.5555555555555556,
              "#d8576b"
             ],
             [
              0.6666666666666666,
              "#ed7953"
             ],
             [
              0.7777777777777778,
              "#fb9f3a"
             ],
             [
              0.8888888888888888,
              "#fdca26"
             ],
             [
              1,
              "#f0f921"
             ]
            ],
            "type": "heatmap"
           }
          ],
          "heatmapgl": [
           {
            "colorbar": {
             "outlinewidth": 0,
             "ticks": ""
            },
            "colorscale": [
             [
              0,
              "#0d0887"
             ],
             [
              0.1111111111111111,
              "#46039f"
             ],
             [
              0.2222222222222222,
              "#7201a8"
             ],
             [
              0.3333333333333333,
              "#9c179e"
             ],
             [
              0.4444444444444444,
              "#bd3786"
             ],
             [
              0.5555555555555556,
              "#d8576b"
             ],
             [
              0.6666666666666666,
              "#ed7953"
             ],
             [
              0.7777777777777778,
              "#fb9f3a"
             ],
             [
              0.8888888888888888,
              "#fdca26"
             ],
             [
              1,
              "#f0f921"
             ]
            ],
            "type": "heatmapgl"
           }
          ],
          "histogram": [
           {
            "marker": {
             "colorbar": {
              "outlinewidth": 0,
              "ticks": ""
             }
            },
            "type": "histogram"
           }
          ],
          "histogram2d": [
           {
            "colorbar": {
             "outlinewidth": 0,
             "ticks": ""
            },
            "colorscale": [
             [
              0,
              "#0d0887"
             ],
             [
              0.1111111111111111,
              "#46039f"
             ],
             [
              0.2222222222222222,
              "#7201a8"
             ],
             [
              0.3333333333333333,
              "#9c179e"
             ],
             [
              0.4444444444444444,
              "#bd3786"
             ],
             [
              0.5555555555555556,
              "#d8576b"
             ],
             [
              0.6666666666666666,
              "#ed7953"
             ],
             [
              0.7777777777777778,
              "#fb9f3a"
             ],
             [
              0.8888888888888888,
              "#fdca26"
             ],
             [
              1,
              "#f0f921"
             ]
            ],
            "type": "histogram2d"
           }
          ],
          "histogram2dcontour": [
           {
            "colorbar": {
             "outlinewidth": 0,
             "ticks": ""
            },
            "colorscale": [
             [
              0,
              "#0d0887"
             ],
             [
              0.1111111111111111,
              "#46039f"
             ],
             [
              0.2222222222222222,
              "#7201a8"
             ],
             [
              0.3333333333333333,
              "#9c179e"
             ],
             [
              0.4444444444444444,
              "#bd3786"
             ],
             [
              0.5555555555555556,
              "#d8576b"
             ],
             [
              0.6666666666666666,
              "#ed7953"
             ],
             [
              0.7777777777777778,
              "#fb9f3a"
             ],
             [
              0.8888888888888888,
              "#fdca26"
             ],
             [
              1,
              "#f0f921"
             ]
            ],
            "type": "histogram2dcontour"
           }
          ],
          "mesh3d": [
           {
            "colorbar": {
             "outlinewidth": 0,
             "ticks": ""
            },
            "type": "mesh3d"
           }
          ],
          "parcoords": [
           {
            "line": {
             "colorbar": {
              "outlinewidth": 0,
              "ticks": ""
             }
            },
            "type": "parcoords"
           }
          ],
          "pie": [
           {
            "automargin": true,
            "type": "pie"
           }
          ],
          "scatter": [
           {
            "marker": {
             "colorbar": {
              "outlinewidth": 0,
              "ticks": ""
             }
            },
            "type": "scatter"
           }
          ],
          "scatter3d": [
           {
            "line": {
             "colorbar": {
              "outlinewidth": 0,
              "ticks": ""
             }
            },
            "marker": {
             "colorbar": {
              "outlinewidth": 0,
              "ticks": ""
             }
            },
            "type": "scatter3d"
           }
          ],
          "scattercarpet": [
           {
            "marker": {
             "colorbar": {
              "outlinewidth": 0,
              "ticks": ""
             }
            },
            "type": "scattercarpet"
           }
          ],
          "scattergeo": [
           {
            "marker": {
             "colorbar": {
              "outlinewidth": 0,
              "ticks": ""
             }
            },
            "type": "scattergeo"
           }
          ],
          "scattergl": [
           {
            "marker": {
             "colorbar": {
              "outlinewidth": 0,
              "ticks": ""
             }
            },
            "type": "scattergl"
           }
          ],
          "scattermapbox": [
           {
            "marker": {
             "colorbar": {
              "outlinewidth": 0,
              "ticks": ""
             }
            },
            "type": "scattermapbox"
           }
          ],
          "scatterpolar": [
           {
            "marker": {
             "colorbar": {
              "outlinewidth": 0,
              "ticks": ""
             }
            },
            "type": "scatterpolar"
           }
          ],
          "scatterpolargl": [
           {
            "marker": {
             "colorbar": {
              "outlinewidth": 0,
              "ticks": ""
             }
            },
            "type": "scatterpolargl"
           }
          ],
          "scatterternary": [
           {
            "marker": {
             "colorbar": {
              "outlinewidth": 0,
              "ticks": ""
             }
            },
            "type": "scatterternary"
           }
          ],
          "surface": [
           {
            "colorbar": {
             "outlinewidth": 0,
             "ticks": ""
            },
            "colorscale": [
             [
              0,
              "#0d0887"
             ],
             [
              0.1111111111111111,
              "#46039f"
             ],
             [
              0.2222222222222222,
              "#7201a8"
             ],
             [
              0.3333333333333333,
              "#9c179e"
             ],
             [
              0.4444444444444444,
              "#bd3786"
             ],
             [
              0.5555555555555556,
              "#d8576b"
             ],
             [
              0.6666666666666666,
              "#ed7953"
             ],
             [
              0.7777777777777778,
              "#fb9f3a"
             ],
             [
              0.8888888888888888,
              "#fdca26"
             ],
             [
              1,
              "#f0f921"
             ]
            ],
            "type": "surface"
           }
          ],
          "table": [
           {
            "cells": {
             "fill": {
              "color": "#EBF0F8"
             },
             "line": {
              "color": "white"
             }
            },
            "header": {
             "fill": {
              "color": "#C8D4E3"
             },
             "line": {
              "color": "white"
             }
            },
            "type": "table"
           }
          ]
         },
         "layout": {
          "annotationdefaults": {
           "arrowcolor": "#2a3f5f",
           "arrowhead": 0,
           "arrowwidth": 1
          },
          "coloraxis": {
           "colorbar": {
            "outlinewidth": 0,
            "ticks": ""
           }
          },
          "colorscale": {
           "diverging": [
            [
             0,
             "#8e0152"
            ],
            [
             0.1,
             "#c51b7d"
            ],
            [
             0.2,
             "#de77ae"
            ],
            [
             0.3,
             "#f1b6da"
            ],
            [
             0.4,
             "#fde0ef"
            ],
            [
             0.5,
             "#f7f7f7"
            ],
            [
             0.6,
             "#e6f5d0"
            ],
            [
             0.7,
             "#b8e186"
            ],
            [
             0.8,
             "#7fbc41"
            ],
            [
             0.9,
             "#4d9221"
            ],
            [
             1,
             "#276419"
            ]
           ],
           "sequential": [
            [
             0,
             "#0d0887"
            ],
            [
             0.1111111111111111,
             "#46039f"
            ],
            [
             0.2222222222222222,
             "#7201a8"
            ],
            [
             0.3333333333333333,
             "#9c179e"
            ],
            [
             0.4444444444444444,
             "#bd3786"
            ],
            [
             0.5555555555555556,
             "#d8576b"
            ],
            [
             0.6666666666666666,
             "#ed7953"
            ],
            [
             0.7777777777777778,
             "#fb9f3a"
            ],
            [
             0.8888888888888888,
             "#fdca26"
            ],
            [
             1,
             "#f0f921"
            ]
           ],
           "sequentialminus": [
            [
             0,
             "#0d0887"
            ],
            [
             0.1111111111111111,
             "#46039f"
            ],
            [
             0.2222222222222222,
             "#7201a8"
            ],
            [
             0.3333333333333333,
             "#9c179e"
            ],
            [
             0.4444444444444444,
             "#bd3786"
            ],
            [
             0.5555555555555556,
             "#d8576b"
            ],
            [
             0.6666666666666666,
             "#ed7953"
            ],
            [
             0.7777777777777778,
             "#fb9f3a"
            ],
            [
             0.8888888888888888,
             "#fdca26"
            ],
            [
             1,
             "#f0f921"
            ]
           ]
          },
          "colorway": [
           "#636efa",
           "#EF553B",
           "#00cc96",
           "#ab63fa",
           "#FFA15A",
           "#19d3f3",
           "#FF6692",
           "#B6E880",
           "#FF97FF",
           "#FECB52"
          ],
          "font": {
           "color": "#2a3f5f"
          },
          "geo": {
           "bgcolor": "white",
           "lakecolor": "white",
           "landcolor": "#E5ECF6",
           "showlakes": true,
           "showland": true,
           "subunitcolor": "white"
          },
          "hoverlabel": {
           "align": "left"
          },
          "hovermode": "closest",
          "mapbox": {
           "style": "light"
          },
          "paper_bgcolor": "white",
          "plot_bgcolor": "#E5ECF6",
          "polar": {
           "angularaxis": {
            "gridcolor": "white",
            "linecolor": "white",
            "ticks": ""
           },
           "bgcolor": "#E5ECF6",
           "radialaxis": {
            "gridcolor": "white",
            "linecolor": "white",
            "ticks": ""
           }
          },
          "scene": {
           "xaxis": {
            "backgroundcolor": "#E5ECF6",
            "gridcolor": "white",
            "gridwidth": 2,
            "linecolor": "white",
            "showbackground": true,
            "ticks": "",
            "zerolinecolor": "white"
           },
           "yaxis": {
            "backgroundcolor": "#E5ECF6",
            "gridcolor": "white",
            "gridwidth": 2,
            "linecolor": "white",
            "showbackground": true,
            "ticks": "",
            "zerolinecolor": "white"
           },
           "zaxis": {
            "backgroundcolor": "#E5ECF6",
            "gridcolor": "white",
            "gridwidth": 2,
            "linecolor": "white",
            "showbackground": true,
            "ticks": "",
            "zerolinecolor": "white"
           }
          },
          "shapedefaults": {
           "line": {
            "color": "#2a3f5f"
           }
          },
          "ternary": {
           "aaxis": {
            "gridcolor": "white",
            "linecolor": "white",
            "ticks": ""
           },
           "baxis": {
            "gridcolor": "white",
            "linecolor": "white",
            "ticks": ""
           },
           "bgcolor": "#E5ECF6",
           "caxis": {
            "gridcolor": "white",
            "linecolor": "white",
            "ticks": ""
           }
          },
          "title": {
           "x": 0.05
          },
          "xaxis": {
           "automargin": true,
           "gridcolor": "white",
           "linecolor": "white",
           "ticks": "",
           "title": {
            "standoff": 15
           },
           "zerolinecolor": "white",
           "zerolinewidth": 2
          },
          "yaxis": {
           "automargin": true,
           "gridcolor": "white",
           "linecolor": "white",
           "ticks": "",
           "title": {
            "standoff": 15
           },
           "zerolinecolor": "white",
           "zerolinewidth": 2
          }
         }
        },
        "title": {
         "font": {
          "color": "#4D5663"
         }
        },
        "xaxis": {
         "gridcolor": "#E1E5ED",
         "showgrid": true,
         "tickfont": {
          "color": "#4D5663"
         },
         "title": {
          "font": {
           "color": "#4D5663"
          },
          "text": ""
         },
         "zerolinecolor": "#E1E5ED"
        },
        "yaxis": {
         "gridcolor": "#E1E5ED",
         "showgrid": true,
         "tickfont": {
          "color": "#4D5663"
         },
         "title": {
          "font": {
           "color": "#4D5663"
          },
          "text": ""
         },
         "zerolinecolor": "#E1E5ED"
        }
       }
      },
      "text/html": [
       "<div>\n",
       "        \n",
       "        \n",
       "            <div id=\"e33bb86c-e503-4c83-b90c-6f344b58ad72\" class=\"plotly-graph-div\" style=\"height:525px; width:100%;\"></div>\n",
       "            <script type=\"text/javascript\">\n",
       "                require([\"plotly\"], function(Plotly) {\n",
       "                    window.PLOTLYENV=window.PLOTLYENV || {};\n",
       "                    \n",
       "                if (document.getElementById(\"e33bb86c-e503-4c83-b90c-6f344b58ad72\")) {\n",
       "                    Plotly.newPlot(\n",
       "                        'e33bb86c-e503-4c83-b90c-6f344b58ad72',\n",
       "                        [{\"line\": {\"color\": \"rgba(255, 153, 51, 1.0)\", \"dash\": \"solid\", \"shape\": \"linear\", \"width\": 1.3}, \"mode\": \"lines\", \"name\": \"Previous Day Pct Change\", \"text\": \"\", \"type\": \"scatter\", \"x\": [\"2019-10-31\", \"2019-11-01\", \"2019-11-04\", \"2019-11-05\", \"2019-11-06\", \"2019-11-07\", \"2019-11-08\", \"2019-11-11\", \"2019-11-12\", \"2019-11-13\", \"2019-11-14\", \"2019-11-15\", \"2019-11-18\", \"2019-11-19\", \"2019-11-20\", \"2019-11-21\", \"2019-11-22\", \"2019-11-25\", \"2019-11-26\", \"2019-11-27\", \"2019-11-29\", \"2019-12-02\", \"2019-12-03\", \"2019-12-04\", \"2019-12-05\", \"2019-12-06\", \"2019-12-09\", \"2019-12-10\", \"2019-12-11\", \"2019-12-12\", \"2019-12-13\", \"2019-12-16\", \"2019-12-17\", \"2019-12-18\", \"2019-12-19\", \"2019-12-20\", \"2019-12-23\", \"2019-12-24\", \"2019-12-26\", \"2019-12-27\", \"2019-12-30\", \"2019-12-31\", \"2020-01-02\", \"2020-01-03\", \"2020-01-06\", \"2020-01-07\", \"2020-01-08\", \"2020-01-09\", \"2020-01-10\", \"2020-01-13\", \"2020-01-14\", \"2020-01-15\", \"2020-01-16\", \"2020-01-17\", \"2020-01-21\", \"2020-01-22\", \"2020-01-23\", \"2020-01-24\", \"2020-01-27\", \"2020-01-28\", \"2020-01-29\", \"2020-01-30\", \"2020-01-31\", \"2020-02-03\", \"2020-02-04\", \"2020-02-05\", \"2020-02-06\", \"2020-02-07\", \"2020-02-10\", \"2020-02-11\", \"2020-02-12\", \"2020-02-13\", \"2020-02-14\", \"2020-02-18\", \"2020-02-19\", \"2020-02-20\", \"2020-02-21\", \"2020-02-24\", \"2020-02-25\", \"2020-02-26\", \"2020-02-27\", \"2020-02-28\", \"2020-03-02\", \"2020-03-03\", \"2020-03-04\", \"2020-03-05\", \"2020-03-06\", \"2020-03-09\", \"2020-03-10\", \"2020-03-11\", \"2020-03-12\", \"2020-03-13\", \"2020-03-16\", \"2020-03-17\", \"2020-03-18\", \"2020-03-19\", \"2020-03-20\", \"2020-03-23\", \"2020-03-24\", \"2020-03-25\", \"2020-03-26\", \"2020-03-27\", \"2020-03-30\", \"2020-03-31\", \"2020-04-01\", \"2020-04-02\", \"2020-04-03\", \"2020-04-06\", \"2020-04-07\", \"2020-04-08\", \"2020-04-09\", \"2020-04-13\", \"2020-04-14\", \"2020-04-15\", \"2020-04-16\", \"2020-04-17\", \"2020-04-20\", \"2020-04-21\", \"2020-04-22\", \"2020-04-23\", \"2020-04-24\", \"2020-04-27\", \"2020-04-28\", \"2020-04-29\", \"2020-04-30\", \"2020-05-01\", \"2020-05-04\", \"2020-05-05\", \"2020-05-06\", \"2020-05-07\", \"2020-05-08\", \"2020-05-11\", \"2020-05-12\", \"2020-05-13\", \"2020-05-14\", \"2020-05-15\", \"2020-05-18\", \"2020-05-19\", \"2020-05-20\", \"2020-05-21\", \"2020-05-22\", \"2020-05-26\", \"2020-05-27\", \"2020-05-28\", \"2020-05-29\", \"2020-06-01\", \"2020-06-02\", \"2020-06-03\", \"2020-06-04\", \"2020-06-05\", \"2020-06-08\", \"2020-06-09\", \"2020-06-10\", \"2020-06-11\", \"2020-06-12\", \"2020-06-15\", \"2020-06-16\", \"2020-06-17\", \"2020-06-18\", \"2020-06-19\", \"2020-06-22\", \"2020-06-23\", \"2020-06-24\", \"2020-06-25\", \"2020-06-26\", \"2020-06-29\", \"2020-06-30\", \"2020-07-01\", \"2020-07-02\", \"2020-07-06\", \"2020-07-07\", \"2020-07-08\", \"2020-07-09\", \"2020-07-10\", \"2020-07-13\", \"2020-07-14\", \"2020-07-15\", \"2020-07-16\", \"2020-07-17\", \"2020-07-20\", \"2020-07-21\", \"2020-07-22\", \"2020-07-23\", \"2020-07-24\", \"2020-07-27\", \"2020-07-28\", \"2020-07-29\", \"2020-07-30\", \"2020-07-31\", \"2020-08-03\", \"2020-08-04\", \"2020-08-05\", \"2020-08-06\", \"2020-08-07\", \"2020-08-10\", \"2020-08-11\", \"2020-08-12\", \"2020-08-13\", \"2020-08-14\", \"2020-08-17\", \"2020-08-18\", \"2020-08-19\", \"2020-08-20\", \"2020-08-21\", \"2020-08-24\", \"2020-08-25\", \"2020-08-26\", \"2020-08-27\", \"2020-08-28\", \"2020-08-31\", \"2020-09-01\", \"2020-09-02\", \"2020-09-03\", \"2020-09-04\", \"2020-09-08\", \"2020-09-09\", \"2020-09-10\", \"2020-09-11\", \"2020-09-14\", \"2020-09-15\", \"2020-09-16\", \"2020-09-17\", \"2020-09-18\", \"2020-09-21\", \"2020-09-22\", \"2020-09-23\", \"2020-09-24\", \"2020-09-25\", \"2020-09-28\", \"2020-09-29\", \"2020-09-30\", \"2020-10-01\", \"2020-10-02\", \"2020-10-05\", \"2020-10-06\", \"2020-10-07\", \"2020-10-08\", \"2020-10-09\", \"2020-10-12\", \"2020-10-13\", \"2020-10-14\", \"2020-10-15\", \"2020-10-16\", \"2020-10-19\", \"2020-10-20\", \"2020-10-21\", \"2020-10-22\", \"2020-10-23\", \"2020-10-26\", \"2020-10-27\", \"2020-10-28\", \"2020-10-29\", \"2020-10-30\"], \"y\": [0.0, -0.0035504516552658334, -0.0101894835326662, -0.011944498533824075, -0.0013919960789665544, -0.001913320446040129, -0.0008620558113886694, -0.00726019005567407, -0.006555067197105062, 0.0034246705087982604, -0.0003456101284401204, -0.003471632716898687, 0.0036100926780631023, -0.009532049043122518, 0.002223000498167505, 0.006179141881664663, -0.012697852164261565, 0.012512847794429613, -0.013965540918810637, 0.0008481634675733308, 0.00034171293662736007, 0.0017197297711825784, 0.015200672950395053, 0.013893790134492521, 0.011295435781362101, 0.005849991442121204, -0.0026473972164289734, 0.00017690371539624494, 0.0021160101185333765, -0.0028114540123195565, -0.01409690285569257, -0.004170315927862742, 0.008761352509095802, 0.012068978671369914, 0.003833441767605333, -0.013818452699487298, -0.010802487507062584, -0.0028783976463331896, -0.002700419365605224, -0.006901192534340066, -0.0028376228355127104, 0.006167740227199269, -0.0038577582414770287, -0.009960133755035511, -0.004848638926124178, -0.005705657857312982, 0.014218777040448272, -0.0013584960414984668, -0.004233700308722426, 0.010575811169090309, -0.007098225395298556, 0.001008595925334022, 0.006070836677626321, -0.006749941566123304, 0.006335463004591175, -0.012372476956671393, -0.027686739865023124, -0.007317834553073455, -0.028541408060523563, 0.015437631301740355, -0.012180414414943526, 0.01922217174565356, -0.01264475683687452, 0.028419493310829966, 0.0006205540815308082, 0.004713358285178353, -0.009746496816452581, 0.0031204562309703815, 0.012563624882096001, -0.012660187034218158, -0.008678764255026046, 0.00207099693503737, -0.0067174890578715896, 0.003702606819155957, 0.007800843742775149, -0.010845025264684432, 0.0237172426248713, 0.01288744957582426, -0.002434632522247274, 0.03645752661780488, 0.0076526215239039784, 0.03625062080197285, -0.022467794435445474, -0.04283920685477636, 0.035498838565005894, -0.029293142129628972, 0.0017525812550219122, -0.010692282517667033, 0.020608623508469405, -0.023123602341078856, 0.013933948286713725, 0.051052316675345495, -0.12784919598493993, 0.06103973507966333, -0.09440567456246218, -0.01926785578075692, 0.039715750832332, 0.014620436788183928, -0.07735769964970608, 0.013925439824406194, 0.02324697468263607, -0.07344412666770439, 0.01965554610728043, -0.04717871147031703, 0.01707232869525938, 0.01180950346447176, -0.05966070391836109, -0.005199676916030097, -0.031785258751725734, 0.025692311246464726, 0.00016955646628025956, 0.03739894201274635, -0.037652485055786875, -0.010326431086452956, 0.014563152362542067, -0.01979534126981479, 0.026765556839080967, 0.0016868838761855708, 0.030115298255361946, -0.03140549171067668, 0.010558023676056457, -0.054448354395959936, 0.004186202191726172, 0.020670139086058577, -0.039703914281234716, 0.022649493463267167, 0.0231174667350367, -0.015231140806208897, 0.0006804033833036305, -0.0023712633380330935, 0.012681497286173652, 1.1988744969421954e-16, -0.00652827885321283, 0.03038860501426809, 0.012147118480840654, -0.03070485250524858, -0.015330962195553455, -0.0030129977472598563, -0.002660898795442568, -0.0317200561077352, 0.01774958730536424, -0.004517566656419033, 0.02104271586316211, -0.01989733126667179, 0.020634908524770516, -0.01663972138783005, 0.010081629879877572, -0.00680710151947984, 0.008326668557420817, -0.019922246660147365, -0.01546710413665861, 0.004689745912662499, -0.0007937646567429943, -0.01720015927074714, 0.05343267715540071, 0.012976189841571166, -0.012978200224214025, 0.017726461584560167, 0.004115903738748568, 0.00447384672564971, 0.016982729894155904, -0.006027132313922081, 0.004485802690214075, 0.009221985960583488, 0.007968823742810523, 0.016925998462251266, -0.013920292675622028, -0.01907686533891026, 0.01836084922254614, 0.0010136435206247235, -0.013964572169237398, 0.012866062729974793, -0.002737379731799048, -0.0037800241086243347, -0.027264848931078268, 0.021056121629684135, -0.0191809336588735, 0.0, -0.0102493758923386, -0.009761054340755982, -0.01780958159477203, 0.01332899363983571, 0.004240778509323872, 0.014038472399892248, 0.029913735908845197, 0.028610603946653098, 0.0048504014953488755, 0.02869270429344972, -0.0033451775305647132, 0.008310856368210098, -0.0006214787448183862, -0.010905403510997143, 0.01609016556951933, 0.004509145656382022, 0.010302905678483189, -0.021161834888350065, 0.029014757413160296, -0.010684209519766669, 0.01421025115902603, -0.0032833952168095305, 0.003665247463626384, 0.012383207804285425, 0.009428142566938592, 0.01284888951416259, -0.0053039232783610715, 0.0024360319929672036, -0.0016211111150619404, -0.0032395191210640804, 0.007832885769777392, -0.017349215566796913, 0.000980377197265625, 0.002357079792662099, -0.020308551730528767, 0.04019048781622024, 0.008905540453457522, 0.007105125579513015, -0.0018170836827379438, 0.020800018310546876, -0.0004060182388380026, -0.011463692748888896, -0.004217695935152446, 0.002771716378948157, -0.019242470801957248, 0.008742349004540649, -0.006681551632573051, -0.0012026733618975584, 0.02026895643421435, -0.012981683164269845, -0.020016330893828153, -0.018214254884470406, 0.0023387788612396656, -0.010538584760761388, 0.003053432113605758, 0.009514595698384405, -0.007602327396657954, 0.006575133602931836, -0.015814845110043534, -0.008693991415597317, 0.013632111160351141, -0.006162499267157821, 0.008107584724481788, 0.008516924620774512, -0.020853051642106043, -0.004823716403947978, -0.002019471413372268, 0.021428538491623943, -0.006774569335461639, -0.014683784067735581, 0.00310233124954338, 0.023615408348008824, 0.007394522748430502, 0.01425705944197496, 0.002938541211188755]}, {\"line\": {\"color\": \"rgba(55, 128, 191, 1.0)\", \"dash\": \"solid\", \"shape\": \"linear\", \"width\": 1.3}, \"mode\": \"lines\", \"name\": \"Intraday Pct Change\", \"text\": \"\", \"type\": \"scatter\", \"x\": [\"2019-10-31\", \"2019-11-01\", \"2019-11-04\", \"2019-11-05\", \"2019-11-06\", \"2019-11-07\", \"2019-11-08\", \"2019-11-11\", \"2019-11-12\", \"2019-11-13\", \"2019-11-14\", \"2019-11-15\", \"2019-11-18\", \"2019-11-19\", \"2019-11-20\", \"2019-11-21\", \"2019-11-22\", \"2019-11-25\", \"2019-11-26\", \"2019-11-27\", \"2019-11-29\", \"2019-12-02\", \"2019-12-03\", \"2019-12-04\", \"2019-12-05\", \"2019-12-06\", \"2019-12-09\", \"2019-12-10\", \"2019-12-11\", \"2019-12-12\", \"2019-12-13\", \"2019-12-16\", \"2019-12-17\", \"2019-12-18\", \"2019-12-19\", \"2019-12-20\", \"2019-12-23\", \"2019-12-24\", \"2019-12-26\", \"2019-12-27\", \"2019-12-30\", \"2019-12-31\", \"2020-01-02\", \"2020-01-03\", \"2020-01-06\", \"2020-01-07\", \"2020-01-08\", \"2020-01-09\", \"2020-01-10\", \"2020-01-13\", \"2020-01-14\", \"2020-01-15\", \"2020-01-16\", \"2020-01-17\", \"2020-01-21\", \"2020-01-22\", \"2020-01-23\", \"2020-01-24\", \"2020-01-27\", \"2020-01-28\", \"2020-01-29\", \"2020-01-30\", \"2020-01-31\", \"2020-02-03\", \"2020-02-04\", \"2020-02-05\", \"2020-02-06\", \"2020-02-07\", \"2020-02-10\", \"2020-02-11\", \"2020-02-12\", \"2020-02-13\", \"2020-02-14\", \"2020-02-18\", \"2020-02-19\", \"2020-02-20\", \"2020-02-21\", \"2020-02-24\", \"2020-02-25\", \"2020-02-26\", \"2020-02-27\", \"2020-02-28\", \"2020-03-02\", \"2020-03-03\", \"2020-03-04\", \"2020-03-05\", \"2020-03-06\", \"2020-03-09\", \"2020-03-10\", \"2020-03-11\", \"2020-03-12\", \"2020-03-13\", \"2020-03-16\", \"2020-03-17\", \"2020-03-18\", \"2020-03-19\", \"2020-03-20\", \"2020-03-23\", \"2020-03-24\", \"2020-03-25\", \"2020-03-26\", \"2020-03-27\", \"2020-03-30\", \"2020-03-31\", \"2020-04-01\", \"2020-04-02\", \"2020-04-03\", \"2020-04-06\", \"2020-04-07\", \"2020-04-08\", \"2020-04-09\", \"2020-04-13\", \"2020-04-14\", \"2020-04-15\", \"2020-04-16\", \"2020-04-17\", \"2020-04-20\", \"2020-04-21\", \"2020-04-22\", \"2020-04-23\", \"2020-04-24\", \"2020-04-27\", \"2020-04-28\", \"2020-04-29\", \"2020-04-30\", \"2020-05-01\", \"2020-05-04\", \"2020-05-05\", \"2020-05-06\", \"2020-05-07\", \"2020-05-08\", \"2020-05-11\", \"2020-05-12\", \"2020-05-13\", \"2020-05-14\", \"2020-05-15\", \"2020-05-18\", \"2020-05-19\", \"2020-05-20\", \"2020-05-21\", \"2020-05-22\", \"2020-05-26\", \"2020-05-27\", \"2020-05-28\", \"2020-05-29\", \"2020-06-01\", \"2020-06-02\", \"2020-06-03\", \"2020-06-04\", \"2020-06-05\", \"2020-06-08\", \"2020-06-09\", \"2020-06-10\", \"2020-06-11\", \"2020-06-12\", \"2020-06-15\", \"2020-06-16\", \"2020-06-17\", \"2020-06-18\", \"2020-06-19\", \"2020-06-22\", \"2020-06-23\", \"2020-06-24\", \"2020-06-25\", \"2020-06-26\", \"2020-06-29\", \"2020-06-30\", \"2020-07-01\", \"2020-07-02\", \"2020-07-06\", \"2020-07-07\", \"2020-07-08\", \"2020-07-09\", \"2020-07-10\", \"2020-07-13\", \"2020-07-14\", \"2020-07-15\", \"2020-07-16\", \"2020-07-17\", \"2020-07-20\", \"2020-07-21\", \"2020-07-22\", \"2020-07-23\", \"2020-07-24\", \"2020-07-27\", \"2020-07-28\", \"2020-07-29\", \"2020-07-30\", \"2020-07-31\", \"2020-08-03\", \"2020-08-04\", \"2020-08-05\", \"2020-08-06\", \"2020-08-07\", \"2020-08-10\", \"2020-08-11\", \"2020-08-12\", \"2020-08-13\", \"2020-08-14\", \"2020-08-17\", \"2020-08-18\", \"2020-08-19\", \"2020-08-20\", \"2020-08-21\", \"2020-08-24\", \"2020-08-25\", \"2020-08-26\", \"2020-08-27\", \"2020-08-28\", \"2020-08-31\", \"2020-09-01\", \"2020-09-02\", \"2020-09-03\", \"2020-09-04\", \"2020-09-08\", \"2020-09-09\", \"2020-09-10\", \"2020-09-11\", \"2020-09-14\", \"2020-09-15\", \"2020-09-16\", \"2020-09-17\", \"2020-09-18\", \"2020-09-21\", \"2020-09-22\", \"2020-09-23\", \"2020-09-24\", \"2020-09-25\", \"2020-09-28\", \"2020-09-29\", \"2020-09-30\", \"2020-10-01\", \"2020-10-02\", \"2020-10-05\", \"2020-10-06\", \"2020-10-07\", \"2020-10-08\", \"2020-10-09\", \"2020-10-12\", \"2020-10-13\", \"2020-10-14\", \"2020-10-15\", \"2020-10-16\", \"2020-10-19\", \"2020-10-20\", \"2020-10-21\", \"2020-10-22\", \"2020-10-23\", \"2020-10-26\", \"2020-10-27\", \"2020-10-28\", \"2020-10-29\", \"2020-10-30\"], \"y\": [-0.0035504516552658334, -0.0101894835326662, -0.011944498533824075, -0.0013919960789665544, -0.001913320446040129, -0.0008620558113886694, -0.00726019005567407, -0.006555067197105062, 0.0034246705087982604, -0.0003456101284401204, -0.003471632716898687, 0.0036100926780631023, -0.009532049043122518, 0.002223000498167505, 0.006179141881664663, -0.012697852164261565, 0.012512847794429613, -0.013965540918810637, 0.0008481634675733308, 0.00034171293662736007, 0.0017197297711825784, 0.015200672950395053, 0.013893790134492521, 0.011295435781362101, 0.005849991442121204, -0.0026473972164289734, 0.00017690371539624494, 0.0021160101185333765, -0.0028114540123195565, -0.01409690285569257, -0.004170315927862742, 0.008761352509095802, 0.012068978671369914, 0.003833441767605333, -0.013818452699487298, -0.010802487507062584, -0.0028783976463331896, -0.002700419365605224, -0.006901192534340066, -0.0028376228355127104, 0.006167740227199269, -0.0038577582414770287, -0.009960133755035511, -0.004848638926124178, -0.005705657857312982, 0.014218777040448272, -0.0013584960414984668, -0.004233700308722426, 0.010575811169090309, -0.007098225395298556, 0.001008595925334022, 0.006070836677626321, -0.006749941566123304, 0.006335463004591175, -0.012372476956671393, -0.027686739865023124, -0.007317834553073455, -0.028541408060523563, 0.015437631301740355, -0.012180414414943526, 0.01922217174565356, -0.01264475683687452, 0.028419493310829966, 0.0006205540815308082, 0.004713358285178353, -0.009746496816452581, 0.0031204562309703815, 0.012563624882096001, -0.012660187034218158, -0.008678764255026046, 0.00207099693503737, -0.0067174890578715896, 0.003702606819155957, 0.007800843742775149, -0.010845025264684432, 0.0237172426248713, 0.01288744957582426, -0.002434632522247274, 0.03645752661780488, 0.0076526215239039784, 0.03625062080197285, -0.022467794435445474, -0.04283920685477636, 0.035498838565005894, -0.029293142129628972, 0.0017525812550219122, -0.010692282517667033, 0.020608623508469405, -0.023123602341078856, 0.013933948286713725, 0.051052316675345495, -0.12784919598493993, 0.06103973507966333, -0.09440567456246218, -0.01926785578075692, 0.039715750832332, 0.014620436788183928, -0.07735769964970608, 0.013925439824406194, 0.02324697468263607, -0.07344412666770439, 0.01965554610728043, -0.04717871147031703, 0.01707232869525938, 0.01180950346447176, -0.05966070391836109, -0.005199676916030097, -0.031785258751725734, 0.025692311246464726, 0.00016955646628025956, 0.03739894201274635, -0.037652485055786875, -0.010326431086452956, 0.014563152362542067, -0.01979534126981479, 0.026765556839080967, 0.0016868838761855708, 0.030115298255361946, -0.03140549171067668, 0.010558023676056457, -0.054448354395959936, 0.004186202191726172, 0.020670139086058577, -0.039703914281234716, 0.022649493463267167, 0.0231174667350367, -0.015231140806208897, 0.0006804033833036305, -0.0023712633380330935, 0.012681497286173652, 1.1988744969421954e-16, -0.00652827885321283, 0.03038860501426809, 0.012147118480840654, -0.03070485250524858, -0.015330962195553455, -0.0030129977472598563, -0.002660898795442568, -0.0317200561077352, 0.01774958730536424, -0.004517566656419033, 0.02104271586316211, -0.01989733126667179, 0.020634908524770516, -0.01663972138783005, 0.010081629879877572, -0.00680710151947984, 0.008326668557420817, -0.019922246660147365, -0.01546710413665861, 0.004689745912662499, -0.0007937646567429943, -0.01720015927074714, 0.05343267715540071, 0.012976189841571166, -0.012978200224214025, 0.017726461584560167, 0.004115903738748568, 0.00447384672564971, 0.016982729894155904, -0.006027132313922081, 0.004485802690214075, 0.009221985960583488, 0.007968823742810523, 0.016925998462251266, -0.013920292675622028, -0.01907686533891026, 0.01836084922254614, 0.0010136435206247235, -0.013964572169237398, 0.012866062729974793, -0.002737379731799048, -0.0037800241086243347, -0.027264848931078268, 0.021056121629684135, -0.0191809336588735, 0.0, -0.0102493758923386, -0.009761054340755982, -0.01780958159477203, 0.01332899363983571, 0.004240778509323872, 0.014038472399892248, 0.029913735908845197, 0.028610603946653098, 0.0048504014953488755, 0.02869270429344972, -0.0033451775305647132, 0.008310856368210098, -0.0006214787448183862, -0.010905403510997143, 0.01609016556951933, 0.004509145656382022, 0.010302905678483189, -0.021161834888350065, 0.029014757413160296, -0.010684209519766669, 0.01421025115902603, -0.0032833952168095305, 0.003665247463626384, 0.012383207804285425, 0.009428142566938592, 0.01284888951416259, -0.0053039232783610715, 0.0024360319929672036, -0.0016211111150619404, -0.0032395191210640804, 0.007832885769777392, -0.017349215566796913, 0.000980377197265625, 0.002357079792662099, -0.020308551730528767, 0.04019048781622024, 0.008905540453457522, 0.007105125579513015, -0.0018170836827379438, 0.020800018310546876, -0.0004060182388380026, -0.011463692748888896, -0.004217695935152446, 0.002771716378948157, -0.019242470801957248, 0.008742349004540649, -0.006681551632573051, -0.0012026733618975584, 0.02026895643421435, -0.012981683164269845, -0.020016330893828153, -0.018214254884470406, 0.0023387788612396656, -0.010538584760761388, 0.003053432113605758, 0.009514595698384405, -0.007602327396657954, 0.006575133602931836, -0.015814845110043534, -0.008693991415597317, 0.013632111160351141, -0.006162499267157821, 0.008107584724481788, 0.008516924620774512, -0.020853051642106043, -0.004823716403947978, -0.002019471413372268, 0.021428538491623943, -0.006774569335461639, -0.014683784067735581, 0.00310233124954338, 0.023615408348008824, 0.007394522748430502, 0.01425705944197496, 0.002938541211188755, -0.004081639714373451]}],\n",
       "                        {\"legend\": {\"bgcolor\": \"#F5F6F9\", \"font\": {\"color\": \"#4D5663\"}}, \"paper_bgcolor\": \"#F5F6F9\", \"plot_bgcolor\": \"#F5F6F9\", \"template\": {\"data\": {\"bar\": [{\"error_x\": {\"color\": \"#2a3f5f\"}, \"error_y\": {\"color\": \"#2a3f5f\"}, \"marker\": {\"line\": {\"color\": \"#E5ECF6\", \"width\": 0.5}}, \"type\": \"bar\"}], \"barpolar\": [{\"marker\": {\"line\": {\"color\": \"#E5ECF6\", \"width\": 0.5}}, \"type\": \"barpolar\"}], \"carpet\": [{\"aaxis\": {\"endlinecolor\": \"#2a3f5f\", \"gridcolor\": \"white\", \"linecolor\": \"white\", \"minorgridcolor\": \"white\", \"startlinecolor\": \"#2a3f5f\"}, \"baxis\": {\"endlinecolor\": \"#2a3f5f\", \"gridcolor\": \"white\", \"linecolor\": \"white\", \"minorgridcolor\": \"white\", \"startlinecolor\": \"#2a3f5f\"}, \"type\": \"carpet\"}], \"choropleth\": [{\"colorbar\": {\"outlinewidth\": 0, \"ticks\": \"\"}, \"type\": \"choropleth\"}], \"contour\": [{\"colorbar\": {\"outlinewidth\": 0, \"ticks\": \"\"}, \"colorscale\": [[0.0, \"#0d0887\"], [0.1111111111111111, \"#46039f\"], [0.2222222222222222, \"#7201a8\"], [0.3333333333333333, \"#9c179e\"], [0.4444444444444444, \"#bd3786\"], [0.5555555555555556, \"#d8576b\"], [0.6666666666666666, \"#ed7953\"], [0.7777777777777778, \"#fb9f3a\"], [0.8888888888888888, \"#fdca26\"], [1.0, \"#f0f921\"]], \"type\": \"contour\"}], \"contourcarpet\": [{\"colorbar\": {\"outlinewidth\": 0, \"ticks\": \"\"}, \"type\": \"contourcarpet\"}], \"heatmap\": [{\"colorbar\": {\"outlinewidth\": 0, \"ticks\": \"\"}, \"colorscale\": [[0.0, \"#0d0887\"], [0.1111111111111111, \"#46039f\"], [0.2222222222222222, \"#7201a8\"], [0.3333333333333333, \"#9c179e\"], [0.4444444444444444, \"#bd3786\"], [0.5555555555555556, \"#d8576b\"], [0.6666666666666666, \"#ed7953\"], [0.7777777777777778, \"#fb9f3a\"], [0.8888888888888888, \"#fdca26\"], [1.0, \"#f0f921\"]], \"type\": \"heatmap\"}], \"heatmapgl\": [{\"colorbar\": {\"outlinewidth\": 0, \"ticks\": \"\"}, \"colorscale\": [[0.0, \"#0d0887\"], [0.1111111111111111, \"#46039f\"], [0.2222222222222222, \"#7201a8\"], [0.3333333333333333, \"#9c179e\"], [0.4444444444444444, \"#bd3786\"], [0.5555555555555556, \"#d8576b\"], [0.6666666666666666, \"#ed7953\"], [0.7777777777777778, \"#fb9f3a\"], [0.8888888888888888, \"#fdca26\"], [1.0, \"#f0f921\"]], \"type\": \"heatmapgl\"}], \"histogram\": [{\"marker\": {\"colorbar\": {\"outlinewidth\": 0, \"ticks\": \"\"}}, \"type\": \"histogram\"}], \"histogram2d\": [{\"colorbar\": {\"outlinewidth\": 0, \"ticks\": \"\"}, \"colorscale\": [[0.0, \"#0d0887\"], [0.1111111111111111, \"#46039f\"], [0.2222222222222222, \"#7201a8\"], [0.3333333333333333, \"#9c179e\"], [0.4444444444444444, \"#bd3786\"], [0.5555555555555556, \"#d8576b\"], [0.6666666666666666, \"#ed7953\"], [0.7777777777777778, \"#fb9f3a\"], [0.8888888888888888, \"#fdca26\"], [1.0, \"#f0f921\"]], \"type\": \"histogram2d\"}], \"histogram2dcontour\": [{\"colorbar\": {\"outlinewidth\": 0, \"ticks\": \"\"}, \"colorscale\": [[0.0, \"#0d0887\"], [0.1111111111111111, \"#46039f\"], [0.2222222222222222, \"#7201a8\"], [0.3333333333333333, \"#9c179e\"], [0.4444444444444444, \"#bd3786\"], [0.5555555555555556, \"#d8576b\"], [0.6666666666666666, \"#ed7953\"], [0.7777777777777778, \"#fb9f3a\"], [0.8888888888888888, \"#fdca26\"], [1.0, \"#f0f921\"]], \"type\": \"histogram2dcontour\"}], \"mesh3d\": [{\"colorbar\": {\"outlinewidth\": 0, \"ticks\": \"\"}, \"type\": \"mesh3d\"}], \"parcoords\": [{\"line\": {\"colorbar\": {\"outlinewidth\": 0, \"ticks\": \"\"}}, \"type\": \"parcoords\"}], \"pie\": [{\"automargin\": true, \"type\": \"pie\"}], \"scatter\": [{\"marker\": {\"colorbar\": {\"outlinewidth\": 0, \"ticks\": \"\"}}, \"type\": \"scatter\"}], \"scatter3d\": [{\"line\": {\"colorbar\": {\"outlinewidth\": 0, \"ticks\": \"\"}}, \"marker\": {\"colorbar\": {\"outlinewidth\": 0, \"ticks\": \"\"}}, \"type\": \"scatter3d\"}], \"scattercarpet\": [{\"marker\": {\"colorbar\": {\"outlinewidth\": 0, \"ticks\": \"\"}}, \"type\": \"scattercarpet\"}], \"scattergeo\": [{\"marker\": {\"colorbar\": {\"outlinewidth\": 0, \"ticks\": \"\"}}, \"type\": \"scattergeo\"}], \"scattergl\": [{\"marker\": {\"colorbar\": {\"outlinewidth\": 0, \"ticks\": \"\"}}, \"type\": \"scattergl\"}], \"scattermapbox\": [{\"marker\": {\"colorbar\": {\"outlinewidth\": 0, \"ticks\": \"\"}}, \"type\": \"scattermapbox\"}], \"scatterpolar\": [{\"marker\": {\"colorbar\": {\"outlinewidth\": 0, \"ticks\": \"\"}}, \"type\": \"scatterpolar\"}], \"scatterpolargl\": [{\"marker\": {\"colorbar\": {\"outlinewidth\": 0, \"ticks\": \"\"}}, \"type\": \"scatterpolargl\"}], \"scatterternary\": [{\"marker\": {\"colorbar\": {\"outlinewidth\": 0, \"ticks\": \"\"}}, \"type\": \"scatterternary\"}], \"surface\": [{\"colorbar\": {\"outlinewidth\": 0, \"ticks\": \"\"}, \"colorscale\": [[0.0, \"#0d0887\"], [0.1111111111111111, \"#46039f\"], [0.2222222222222222, \"#7201a8\"], [0.3333333333333333, \"#9c179e\"], [0.4444444444444444, \"#bd3786\"], [0.5555555555555556, \"#d8576b\"], [0.6666666666666666, \"#ed7953\"], [0.7777777777777778, \"#fb9f3a\"], [0.8888888888888888, \"#fdca26\"], [1.0, \"#f0f921\"]], \"type\": \"surface\"}], \"table\": [{\"cells\": {\"fill\": {\"color\": \"#EBF0F8\"}, \"line\": {\"color\": \"white\"}}, \"header\": {\"fill\": {\"color\": \"#C8D4E3\"}, \"line\": {\"color\": \"white\"}}, \"type\": \"table\"}]}, \"layout\": {\"annotationdefaults\": {\"arrowcolor\": \"#2a3f5f\", \"arrowhead\": 0, \"arrowwidth\": 1}, \"coloraxis\": {\"colorbar\": {\"outlinewidth\": 0, \"ticks\": \"\"}}, \"colorscale\": {\"diverging\": [[0, \"#8e0152\"], [0.1, \"#c51b7d\"], [0.2, \"#de77ae\"], [0.3, \"#f1b6da\"], [0.4, \"#fde0ef\"], [0.5, \"#f7f7f7\"], [0.6, \"#e6f5d0\"], [0.7, \"#b8e186\"], [0.8, \"#7fbc41\"], [0.9, \"#4d9221\"], [1, \"#276419\"]], \"sequential\": [[0.0, \"#0d0887\"], [0.1111111111111111, \"#46039f\"], [0.2222222222222222, \"#7201a8\"], [0.3333333333333333, \"#9c179e\"], [0.4444444444444444, \"#bd3786\"], [0.5555555555555556, \"#d8576b\"], [0.6666666666666666, \"#ed7953\"], [0.7777777777777778, \"#fb9f3a\"], [0.8888888888888888, \"#fdca26\"], [1.0, \"#f0f921\"]], \"sequentialminus\": [[0.0, \"#0d0887\"], [0.1111111111111111, \"#46039f\"], [0.2222222222222222, \"#7201a8\"], [0.3333333333333333, \"#9c179e\"], [0.4444444444444444, \"#bd3786\"], [0.5555555555555556, \"#d8576b\"], [0.6666666666666666, \"#ed7953\"], [0.7777777777777778, \"#fb9f3a\"], [0.8888888888888888, \"#fdca26\"], [1.0, \"#f0f921\"]]}, \"colorway\": [\"#636efa\", \"#EF553B\", \"#00cc96\", \"#ab63fa\", \"#FFA15A\", \"#19d3f3\", \"#FF6692\", \"#B6E880\", \"#FF97FF\", \"#FECB52\"], \"font\": {\"color\": \"#2a3f5f\"}, \"geo\": {\"bgcolor\": \"white\", \"lakecolor\": \"white\", \"landcolor\": \"#E5ECF6\", \"showlakes\": true, \"showland\": true, \"subunitcolor\": \"white\"}, \"hoverlabel\": {\"align\": \"left\"}, \"hovermode\": \"closest\", \"mapbox\": {\"style\": \"light\"}, \"paper_bgcolor\": \"white\", \"plot_bgcolor\": \"#E5ECF6\", \"polar\": {\"angularaxis\": {\"gridcolor\": \"white\", \"linecolor\": \"white\", \"ticks\": \"\"}, \"bgcolor\": \"#E5ECF6\", \"radialaxis\": {\"gridcolor\": \"white\", \"linecolor\": \"white\", \"ticks\": \"\"}}, \"scene\": {\"xaxis\": {\"backgroundcolor\": \"#E5ECF6\", \"gridcolor\": \"white\", \"gridwidth\": 2, \"linecolor\": \"white\", \"showbackground\": true, \"ticks\": \"\", \"zerolinecolor\": \"white\"}, \"yaxis\": {\"backgroundcolor\": \"#E5ECF6\", \"gridcolor\": \"white\", \"gridwidth\": 2, \"linecolor\": \"white\", \"showbackground\": true, \"ticks\": \"\", \"zerolinecolor\": \"white\"}, \"zaxis\": {\"backgroundcolor\": \"#E5ECF6\", \"gridcolor\": \"white\", \"gridwidth\": 2, \"linecolor\": \"white\", \"showbackground\": true, \"ticks\": \"\", \"zerolinecolor\": \"white\"}}, \"shapedefaults\": {\"line\": {\"color\": \"#2a3f5f\"}}, \"ternary\": {\"aaxis\": {\"gridcolor\": \"white\", \"linecolor\": \"white\", \"ticks\": \"\"}, \"baxis\": {\"gridcolor\": \"white\", \"linecolor\": \"white\", \"ticks\": \"\"}, \"bgcolor\": \"#E5ECF6\", \"caxis\": {\"gridcolor\": \"white\", \"linecolor\": \"white\", \"ticks\": \"\"}}, \"title\": {\"x\": 0.05}, \"xaxis\": {\"automargin\": true, \"gridcolor\": \"white\", \"linecolor\": \"white\", \"ticks\": \"\", \"title\": {\"standoff\": 15}, \"zerolinecolor\": \"white\", \"zerolinewidth\": 2}, \"yaxis\": {\"automargin\": true, \"gridcolor\": \"white\", \"linecolor\": \"white\", \"ticks\": \"\", \"title\": {\"standoff\": 15}, \"zerolinecolor\": \"white\", \"zerolinewidth\": 2}}}, \"title\": {\"font\": {\"color\": \"#4D5663\"}}, \"xaxis\": {\"gridcolor\": \"#E1E5ED\", \"showgrid\": true, \"tickfont\": {\"color\": \"#4D5663\"}, \"title\": {\"font\": {\"color\": \"#4D5663\"}, \"text\": \"\"}, \"zerolinecolor\": \"#E1E5ED\"}, \"yaxis\": {\"gridcolor\": \"#E1E5ED\", \"showgrid\": true, \"tickfont\": {\"color\": \"#4D5663\"}, \"title\": {\"font\": {\"color\": \"#4D5663\"}, \"text\": \"\"}, \"zerolinecolor\": \"#E1E5ED\"}},\n",
       "                        {\"responsive\": true}\n",
       "                    ).then(function(){\n",
       "                            \n",
       "var gd = document.getElementById('e33bb86c-e503-4c83-b90c-6f344b58ad72');\n",
       "var x = new MutationObserver(function (mutations, observer) {{\n",
       "        var display = window.getComputedStyle(gd).display;\n",
       "        if (!display || display === 'none') {{\n",
       "            console.log([gd, 'removed!']);\n",
       "            Plotly.purge(gd);\n",
       "            observer.disconnect();\n",
       "        }}\n",
       "}});\n",
       "\n",
       "// Listen for the removal of the full notebook cells\n",
       "var notebookContainer = gd.closest('#notebook-container');\n",
       "if (notebookContainer) {{\n",
       "    x.observe(notebookContainer, {childList: true});\n",
       "}}\n",
       "\n",
       "// Listen for the clearing of the current output cell\n",
       "var outputEl = gd.closest('.output');\n",
       "if (outputEl) {{\n",
       "    x.observe(outputEl, {childList: true});\n",
       "}}\n",
       "\n",
       "                        })\n",
       "                };\n",
       "                });\n",
       "            </script>\n",
       "        </div>"
      ]
     },
     "metadata": {},
     "output_type": "display_data"
    },
    {
     "data": {
      "application/vnd.plotly.v1+json": {
       "config": {
        "linkText": "Export to plot.ly",
        "plotlyServerURL": "https://plot.ly",
        "showLink": false
       },
       "data": [
        {
         "line": {
          "color": "rgba(255, 153, 51, 1.0)",
          "dash": "solid",
          "shape": "linear",
          "width": 1.3
         },
         "mode": "lines",
         "name": "Previous Five Day Average Pct Change",
         "text": "",
         "type": "scatter",
         "x": [
          "2019-10-31",
          "2019-11-01",
          "2019-11-04",
          "2019-11-05",
          "2019-11-06",
          "2019-11-07",
          "2019-11-08",
          "2019-11-11",
          "2019-11-12",
          "2019-11-13",
          "2019-11-14",
          "2019-11-15",
          "2019-11-18",
          "2019-11-19",
          "2019-11-20",
          "2019-11-21",
          "2019-11-22",
          "2019-11-25",
          "2019-11-26",
          "2019-11-27",
          "2019-11-29",
          "2019-12-02",
          "2019-12-03",
          "2019-12-04",
          "2019-12-05",
          "2019-12-06",
          "2019-12-09",
          "2019-12-10",
          "2019-12-11",
          "2019-12-12",
          "2019-12-13",
          "2019-12-16",
          "2019-12-17",
          "2019-12-18",
          "2019-12-19",
          "2019-12-20",
          "2019-12-23",
          "2019-12-24",
          "2019-12-26",
          "2019-12-27",
          "2019-12-30",
          "2019-12-31",
          "2020-01-02",
          "2020-01-03",
          "2020-01-06",
          "2020-01-07",
          "2020-01-08",
          "2020-01-09",
          "2020-01-10",
          "2020-01-13",
          "2020-01-14",
          "2020-01-15",
          "2020-01-16",
          "2020-01-17",
          "2020-01-21",
          "2020-01-22",
          "2020-01-23",
          "2020-01-24",
          "2020-01-27",
          "2020-01-28",
          "2020-01-29",
          "2020-01-30",
          "2020-01-31",
          "2020-02-03",
          "2020-02-04",
          "2020-02-05",
          "2020-02-06",
          "2020-02-07",
          "2020-02-10",
          "2020-02-11",
          "2020-02-12",
          "2020-02-13",
          "2020-02-14",
          "2020-02-18",
          "2020-02-19",
          "2020-02-20",
          "2020-02-21",
          "2020-02-24",
          "2020-02-25",
          "2020-02-26",
          "2020-02-27",
          "2020-02-28",
          "2020-03-02",
          "2020-03-03",
          "2020-03-04",
          "2020-03-05",
          "2020-03-06",
          "2020-03-09",
          "2020-03-10",
          "2020-03-11",
          "2020-03-12",
          "2020-03-13",
          "2020-03-16",
          "2020-03-17",
          "2020-03-18",
          "2020-03-19",
          "2020-03-20",
          "2020-03-23",
          "2020-03-24",
          "2020-03-25",
          "2020-03-26",
          "2020-03-27",
          "2020-03-30",
          "2020-03-31",
          "2020-04-01",
          "2020-04-02",
          "2020-04-03",
          "2020-04-06",
          "2020-04-07",
          "2020-04-08",
          "2020-04-09",
          "2020-04-13",
          "2020-04-14",
          "2020-04-15",
          "2020-04-16",
          "2020-04-17",
          "2020-04-20",
          "2020-04-21",
          "2020-04-22",
          "2020-04-23",
          "2020-04-24",
          "2020-04-27",
          "2020-04-28",
          "2020-04-29",
          "2020-04-30",
          "2020-05-01",
          "2020-05-04",
          "2020-05-05",
          "2020-05-06",
          "2020-05-07",
          "2020-05-08",
          "2020-05-11",
          "2020-05-12",
          "2020-05-13",
          "2020-05-14",
          "2020-05-15",
          "2020-05-18",
          "2020-05-19",
          "2020-05-20",
          "2020-05-21",
          "2020-05-22",
          "2020-05-26",
          "2020-05-27",
          "2020-05-28",
          "2020-05-29",
          "2020-06-01",
          "2020-06-02",
          "2020-06-03",
          "2020-06-04",
          "2020-06-05",
          "2020-06-08",
          "2020-06-09",
          "2020-06-10",
          "2020-06-11",
          "2020-06-12",
          "2020-06-15",
          "2020-06-16",
          "2020-06-17",
          "2020-06-18",
          "2020-06-19",
          "2020-06-22",
          "2020-06-23",
          "2020-06-24",
          "2020-06-25",
          "2020-06-26",
          "2020-06-29",
          "2020-06-30",
          "2020-07-01",
          "2020-07-02",
          "2020-07-06",
          "2020-07-07",
          "2020-07-08",
          "2020-07-09",
          "2020-07-10",
          "2020-07-13",
          "2020-07-14",
          "2020-07-15",
          "2020-07-16",
          "2020-07-17",
          "2020-07-20",
          "2020-07-21",
          "2020-07-22",
          "2020-07-23",
          "2020-07-24",
          "2020-07-27",
          "2020-07-28",
          "2020-07-29",
          "2020-07-30",
          "2020-07-31",
          "2020-08-03",
          "2020-08-04",
          "2020-08-05",
          "2020-08-06",
          "2020-08-07",
          "2020-08-10",
          "2020-08-11",
          "2020-08-12",
          "2020-08-13",
          "2020-08-14",
          "2020-08-17",
          "2020-08-18",
          "2020-08-19",
          "2020-08-20",
          "2020-08-21",
          "2020-08-24",
          "2020-08-25",
          "2020-08-26",
          "2020-08-27",
          "2020-08-28",
          "2020-08-31",
          "2020-09-01",
          "2020-09-02",
          "2020-09-03",
          "2020-09-04",
          "2020-09-08",
          "2020-09-09",
          "2020-09-10",
          "2020-09-11",
          "2020-09-14",
          "2020-09-15",
          "2020-09-16",
          "2020-09-17",
          "2020-09-18",
          "2020-09-21",
          "2020-09-22",
          "2020-09-23",
          "2020-09-24",
          "2020-09-25",
          "2020-09-28",
          "2020-09-29",
          "2020-09-30",
          "2020-10-01",
          "2020-10-02",
          "2020-10-05",
          "2020-10-06",
          "2020-10-07",
          "2020-10-08",
          "2020-10-09",
          "2020-10-12",
          "2020-10-13",
          "2020-10-14",
          "2020-10-15",
          "2020-10-16",
          "2020-10-19",
          "2020-10-20",
          "2020-10-21",
          "2020-10-22",
          "2020-10-23",
          "2020-10-26",
          "2020-10-27",
          "2020-10-28",
          "2020-10-29",
          "2020-10-30"
         ],
         "y": [
          0,
          -0.0035504516552658334,
          -0.006869967593966016,
          -0.008561477907252035,
          -0.006769107450180665,
          -0.005797950049352558,
          -0.005260270880577125,
          -0.0046744121851787,
          -0.0035965259178348968,
          -0.0026331926002819343,
          -0.002319650536761932,
          -0.002841565917863936,
          -0.0006675093711165013,
          -0.0012629057403199927,
          -0.0015032397424461438,
          -0.00019828934042518694,
          -0.002043533229897763,
          -0.0002629822066244604,
          -0.0011496805817620844,
          -0.001424647987880919,
          -0.0025921337768883795,
          0.00029138261020044906,
          0.0008289476413935369,
          0.0064008138520541685,
          0.008490268314811924,
          0.009591924015910693,
          0.008718498618388382,
          0.005713744771388619,
          0.003358188768196791,
          0.0005368108094604591,
          -0.0034525680501022956,
          -0.0037571517923890496,
          -0.0020402620336491383,
          -4.966832308183067e-05,
          0.0012793108329031474,
          0.0013350008641442018,
          8.566548304233396e-06,
          -0.002319383482781565,
          -0.005273263090176593,
          -0.007420189950565673,
          -0.0052240239777707545,
          -0.0018299784309183844,
          -0.002025850549947152,
          -0.0034777934278332097,
          -0.003067282706190032,
          -0.0036408897105500867,
          -0.002030682347900285,
          -0.001530829907904573,
          -0.0003855432186419563,
          0.002699346800400941,
          0.002420833292803826,
          -0.0002212029302190236,
          0.001264663613605934,
          0.0007614153621257584,
          -8.665427077406834e-05,
          -0.0011415045830486358,
          -0.006880571741120065,
          -0.009558305987260022,
          -0.013916599286140075,
          -0.012096165626710238,
          -0.012057753118364663,
          -0.002675970796229326,
          -0.003741355252989538,
          0.007650825021281167,
          0.004687409577239258,
          0.008066164117263633,
          0.002272430404842406,
          0.005425473018411386,
          0.0022542993326645925,
          -0.00040184889048520067,
          -0.0030802733985260803,
          -0.0007167746482280903,
          -0.0026843637059964843,
          -0.004456567318584494,
          -0.0003643611631858317,
          -0.0007976133651175093,
          0.003531635772849277,
          0.007452623499588447,
          0.0062251756313078015,
          0.011956512206313748,
          0.015656041564031428,
          0.018162717199451738,
          0.011091668397197796,
          0.003010753530691977,
          0.002819015920132179,
          -0.004570136810574411,
          -0.0114697447199646,
          -0.009114642336408912,
          0.0035749237362402418,
          -0.00814956444497671,
          0.0004958536382918307,
          0.010355800722356548,
          -0.013075581971098033,
          -0.004989359656859246,
          -0.019245774101135912,
          -0.025886134914630043,
          -0.028153448083232745,
          0.000340478471392032,
          -0.02733900847448185,
          -0.005672785597108177,
          0.0028301804955704222,
          -0.019801795004436858,
          -0.018794773140617553,
          -0.012758975504739745,
          -0.012129597730569108,
          -0.014417091974201967,
          -0.01166040742433331,
          -0.016631452028995415,
          -0.013552761485277157,
          -0.011828764975036089,
          -0.014156754374674388,
          0.0052551748115471,
          -0.0012353868164042547,
          0.003056378716650301,
          0.0008305469398657689,
          -0.0031624326073532412,
          -0.005289109642086317,
          0.0025787641443081716,
          0.010667110012671153,
          0.0014733811980274028,
          0.007544054187201654,
          -0.008698728059806529,
          -0.008198864396698409,
          -0.01008789623055908,
          -0.011747580744670688,
          -0.009329286787228547,
          0.006183877438970781,
          0.002300408839383767,
          -0.0016975383011672228,
          0.005768991887473102,
          0.003775392652054399,
          -0.0008481006949529177,
          0.0008924716956462958,
          0.006834112021839188,
          0.009737788385613937,
          0.0010605184273294911,
          -0.002005674011781225,
          -0.0013026177905906297,
          -0.00791251855253276,
          -0.016685953470247934,
          -0.006995065508125367,
          -0.004832386400298483,
          -2.1243678214089706e-05,
          -0.003468530172459934,
          0.00700246275404121,
          0.0001246010154023508,
          0.003044440322661672,
          -0.0025255231538667184,
          0.003119276810951803,
          -0.0049921542260317735,
          -0.004757630775797486,
          -0.0058360075692405,
          -0.004633340196693131,
          -0.009738705762326721,
          0.004932279000782894,
          0.010620937796428849,
          0.007087348569053543,
          0.010791393817314176,
          0.015054606419213318,
          0.005262840333263118,
          0.006064148343780064,
          0.007454361925838454,
          0.004806230146969235,
          0.005827446591336219,
          0.006526441994768381,
          0.006515095708387454,
          0.004936463636047465,
          0.0002239300302225973,
          0.002051702682615129,
          0.0006606666381779684,
          -0.005517447488119765,
          -0.00016017640700040012,
          0.0031077207144218416,
          -0.0013204539518122528,
          -0.006976152442152851,
          2.7986317631455147e-05,
          -0.006381412960138204,
          -0.005833937013778394,
          -0.007127807370521247,
          -0.0036270484524567894,
          -0.011400189097348024,
          -0.00489820363760618,
          -0.0040500479357414056,
          0.0008075217227047633,
          0.008742479772625,
          0.018026516880910025,
          0.01633079845201266,
          0.02122118360883783,
          0.017744453622746438,
          0.013423877714619415,
          0.0075774611763251174,
          0.004426300175055915,
          0.0019057924302698375,
          0.003476657067659184,
          0.0038750669297138024,
          -0.00023300429899253267,
          0.007751027885838954,
          0.002396152867981755,
          0.004336373968510557,
          0.0016191137894520126,
          0.0065845302598473016,
          0.0032582203380723276,
          0.00728069075541338,
          0.007008418426440692,
          0.006604312814130384,
          0.006358469719998548,
          0.0035576059361290746,
          0.0010240735985285402,
          2.0872849651500797e-05,
          -0.002388185608035667,
          -0.0026793165671759834,
          -0.0018836783856311754,
          -0.005297484907524112,
          0.0011740355017644574,
          0.006424986705815344,
          0.007649936382264822,
          0.006815103687184814,
          0.015036817695399943,
          0.006917516484388294,
          0.00284366984391901,
          0.0005791055409859176,
          0.0014968655533231377,
          -0.006511632269177686,
          -0.004681958820501956,
          -0.0037255305972387883,
          -0.00312252608258781,
          0.00037692192846542835,
          0.001629079456002909,
          -0.004122656523670851,
          -0.006429197174050322,
          -0.0057209067294228776,
          -0.011882414968418025,
          -0.008675391912842906,
          -0.002769206594400393,
          -0.0006468210968379025,
          0.0002004498515005315,
          -0.0008548022183558976,
          -0.003204286924196513,
          -0.0023807838318031663,
          -0.0020928182059031394,
          -0.0017863279815931484,
          0.0030800259645704605,
          0.0006482139192687149,
          -0.003042951593591108,
          -0.0022143460228339984,
          0.0004498447305944335,
          -0.002608454060652797,
          -0.0013746005457787047,
          0.00021060898491956698,
          0.005337584937195786,
          0.0025307817885570974,
          0.006737107544044417,
          0.010261572599829284
         ]
        },
        {
         "line": {
          "color": "rgba(55, 128, 191, 1.0)",
          "dash": "solid",
          "shape": "linear",
          "width": 1.3
         },
         "mode": "lines",
         "name": "Intraday Pct Change",
         "text": "",
         "type": "scatter",
         "x": [
          "2019-10-31",
          "2019-11-01",
          "2019-11-04",
          "2019-11-05",
          "2019-11-06",
          "2019-11-07",
          "2019-11-08",
          "2019-11-11",
          "2019-11-12",
          "2019-11-13",
          "2019-11-14",
          "2019-11-15",
          "2019-11-18",
          "2019-11-19",
          "2019-11-20",
          "2019-11-21",
          "2019-11-22",
          "2019-11-25",
          "2019-11-26",
          "2019-11-27",
          "2019-11-29",
          "2019-12-02",
          "2019-12-03",
          "2019-12-04",
          "2019-12-05",
          "2019-12-06",
          "2019-12-09",
          "2019-12-10",
          "2019-12-11",
          "2019-12-12",
          "2019-12-13",
          "2019-12-16",
          "2019-12-17",
          "2019-12-18",
          "2019-12-19",
          "2019-12-20",
          "2019-12-23",
          "2019-12-24",
          "2019-12-26",
          "2019-12-27",
          "2019-12-30",
          "2019-12-31",
          "2020-01-02",
          "2020-01-03",
          "2020-01-06",
          "2020-01-07",
          "2020-01-08",
          "2020-01-09",
          "2020-01-10",
          "2020-01-13",
          "2020-01-14",
          "2020-01-15",
          "2020-01-16",
          "2020-01-17",
          "2020-01-21",
          "2020-01-22",
          "2020-01-23",
          "2020-01-24",
          "2020-01-27",
          "2020-01-28",
          "2020-01-29",
          "2020-01-30",
          "2020-01-31",
          "2020-02-03",
          "2020-02-04",
          "2020-02-05",
          "2020-02-06",
          "2020-02-07",
          "2020-02-10",
          "2020-02-11",
          "2020-02-12",
          "2020-02-13",
          "2020-02-14",
          "2020-02-18",
          "2020-02-19",
          "2020-02-20",
          "2020-02-21",
          "2020-02-24",
          "2020-02-25",
          "2020-02-26",
          "2020-02-27",
          "2020-02-28",
          "2020-03-02",
          "2020-03-03",
          "2020-03-04",
          "2020-03-05",
          "2020-03-06",
          "2020-03-09",
          "2020-03-10",
          "2020-03-11",
          "2020-03-12",
          "2020-03-13",
          "2020-03-16",
          "2020-03-17",
          "2020-03-18",
          "2020-03-19",
          "2020-03-20",
          "2020-03-23",
          "2020-03-24",
          "2020-03-25",
          "2020-03-26",
          "2020-03-27",
          "2020-03-30",
          "2020-03-31",
          "2020-04-01",
          "2020-04-02",
          "2020-04-03",
          "2020-04-06",
          "2020-04-07",
          "2020-04-08",
          "2020-04-09",
          "2020-04-13",
          "2020-04-14",
          "2020-04-15",
          "2020-04-16",
          "2020-04-17",
          "2020-04-20",
          "2020-04-21",
          "2020-04-22",
          "2020-04-23",
          "2020-04-24",
          "2020-04-27",
          "2020-04-28",
          "2020-04-29",
          "2020-04-30",
          "2020-05-01",
          "2020-05-04",
          "2020-05-05",
          "2020-05-06",
          "2020-05-07",
          "2020-05-08",
          "2020-05-11",
          "2020-05-12",
          "2020-05-13",
          "2020-05-14",
          "2020-05-15",
          "2020-05-18",
          "2020-05-19",
          "2020-05-20",
          "2020-05-21",
          "2020-05-22",
          "2020-05-26",
          "2020-05-27",
          "2020-05-28",
          "2020-05-29",
          "2020-06-01",
          "2020-06-02",
          "2020-06-03",
          "2020-06-04",
          "2020-06-05",
          "2020-06-08",
          "2020-06-09",
          "2020-06-10",
          "2020-06-11",
          "2020-06-12",
          "2020-06-15",
          "2020-06-16",
          "2020-06-17",
          "2020-06-18",
          "2020-06-19",
          "2020-06-22",
          "2020-06-23",
          "2020-06-24",
          "2020-06-25",
          "2020-06-26",
          "2020-06-29",
          "2020-06-30",
          "2020-07-01",
          "2020-07-02",
          "2020-07-06",
          "2020-07-07",
          "2020-07-08",
          "2020-07-09",
          "2020-07-10",
          "2020-07-13",
          "2020-07-14",
          "2020-07-15",
          "2020-07-16",
          "2020-07-17",
          "2020-07-20",
          "2020-07-21",
          "2020-07-22",
          "2020-07-23",
          "2020-07-24",
          "2020-07-27",
          "2020-07-28",
          "2020-07-29",
          "2020-07-30",
          "2020-07-31",
          "2020-08-03",
          "2020-08-04",
          "2020-08-05",
          "2020-08-06",
          "2020-08-07",
          "2020-08-10",
          "2020-08-11",
          "2020-08-12",
          "2020-08-13",
          "2020-08-14",
          "2020-08-17",
          "2020-08-18",
          "2020-08-19",
          "2020-08-20",
          "2020-08-21",
          "2020-08-24",
          "2020-08-25",
          "2020-08-26",
          "2020-08-27",
          "2020-08-28",
          "2020-08-31",
          "2020-09-01",
          "2020-09-02",
          "2020-09-03",
          "2020-09-04",
          "2020-09-08",
          "2020-09-09",
          "2020-09-10",
          "2020-09-11",
          "2020-09-14",
          "2020-09-15",
          "2020-09-16",
          "2020-09-17",
          "2020-09-18",
          "2020-09-21",
          "2020-09-22",
          "2020-09-23",
          "2020-09-24",
          "2020-09-25",
          "2020-09-28",
          "2020-09-29",
          "2020-09-30",
          "2020-10-01",
          "2020-10-02",
          "2020-10-05",
          "2020-10-06",
          "2020-10-07",
          "2020-10-08",
          "2020-10-09",
          "2020-10-12",
          "2020-10-13",
          "2020-10-14",
          "2020-10-15",
          "2020-10-16",
          "2020-10-19",
          "2020-10-20",
          "2020-10-21",
          "2020-10-22",
          "2020-10-23",
          "2020-10-26",
          "2020-10-27",
          "2020-10-28",
          "2020-10-29",
          "2020-10-30"
         ],
         "y": [
          -0.0035504516552658334,
          -0.0101894835326662,
          -0.011944498533824075,
          -0.0013919960789665544,
          -0.001913320446040129,
          -0.0008620558113886694,
          -0.00726019005567407,
          -0.006555067197105062,
          0.0034246705087982604,
          -0.0003456101284401204,
          -0.003471632716898687,
          0.0036100926780631023,
          -0.009532049043122518,
          0.002223000498167505,
          0.006179141881664663,
          -0.012697852164261565,
          0.012512847794429613,
          -0.013965540918810637,
          0.0008481634675733308,
          0.00034171293662736007,
          0.0017197297711825784,
          0.015200672950395053,
          0.013893790134492521,
          0.011295435781362101,
          0.005849991442121204,
          -0.0026473972164289734,
          0.00017690371539624494,
          0.0021160101185333765,
          -0.0028114540123195565,
          -0.01409690285569257,
          -0.004170315927862742,
          0.008761352509095802,
          0.012068978671369914,
          0.003833441767605333,
          -0.013818452699487298,
          -0.010802487507062584,
          -0.0028783976463331896,
          -0.002700419365605224,
          -0.006901192534340066,
          -0.0028376228355127104,
          0.006167740227199269,
          -0.0038577582414770287,
          -0.009960133755035511,
          -0.004848638926124178,
          -0.005705657857312982,
          0.014218777040448272,
          -0.0013584960414984668,
          -0.004233700308722426,
          0.010575811169090309,
          -0.007098225395298556,
          0.001008595925334022,
          0.006070836677626321,
          -0.006749941566123304,
          0.006335463004591175,
          -0.012372476956671393,
          -0.027686739865023124,
          -0.007317834553073455,
          -0.028541408060523563,
          0.015437631301740355,
          -0.012180414414943526,
          0.01922217174565356,
          -0.01264475683687452,
          0.028419493310829966,
          0.0006205540815308082,
          0.004713358285178353,
          -0.009746496816452581,
          0.0031204562309703815,
          0.012563624882096001,
          -0.012660187034218158,
          -0.008678764255026046,
          0.00207099693503737,
          -0.0067174890578715896,
          0.003702606819155957,
          0.007800843742775149,
          -0.010845025264684432,
          0.0237172426248713,
          0.01288744957582426,
          -0.002434632522247274,
          0.03645752661780488,
          0.0076526215239039784,
          0.03625062080197285,
          -0.022467794435445474,
          -0.04283920685477636,
          0.035498838565005894,
          -0.029293142129628972,
          0.0017525812550219122,
          -0.010692282517667033,
          0.020608623508469405,
          -0.023123602341078856,
          0.013933948286713725,
          0.051052316675345495,
          -0.12784919598493993,
          0.06103973507966333,
          -0.09440567456246218,
          -0.01926785578075692,
          0.039715750832332,
          0.014620436788183928,
          -0.07735769964970608,
          0.013925439824406194,
          0.02324697468263607,
          -0.07344412666770439,
          0.01965554610728043,
          -0.04717871147031703,
          0.01707232869525938,
          0.01180950346447176,
          -0.05966070391836109,
          -0.005199676916030097,
          -0.031785258751725734,
          0.025692311246464726,
          0.00016955646628025956,
          0.03739894201274635,
          -0.037652485055786875,
          -0.010326431086452956,
          0.014563152362542067,
          -0.01979534126981479,
          0.026765556839080967,
          0.0016868838761855708,
          0.030115298255361946,
          -0.03140549171067668,
          0.010558023676056457,
          -0.054448354395959936,
          0.004186202191726172,
          0.020670139086058577,
          -0.039703914281234716,
          0.022649493463267167,
          0.0231174667350367,
          -0.015231140806208897,
          0.0006804033833036305,
          -0.0023712633380330935,
          0.012681497286173652,
          1.1988744969421954e-16,
          -0.00652827885321283,
          0.03038860501426809,
          0.012147118480840654,
          -0.03070485250524858,
          -0.015330962195553455,
          -0.0030129977472598563,
          -0.002660898795442568,
          -0.0317200561077352,
          0.01774958730536424,
          -0.004517566656419033,
          0.02104271586316211,
          -0.01989733126667179,
          0.020634908524770516,
          -0.01663972138783005,
          0.010081629879877572,
          -0.00680710151947984,
          0.008326668557420817,
          -0.019922246660147365,
          -0.01546710413665861,
          0.004689745912662499,
          -0.0007937646567429943,
          -0.01720015927074714,
          0.05343267715540071,
          0.012976189841571166,
          -0.012978200224214025,
          0.017726461584560167,
          0.004115903738748568,
          0.00447384672564971,
          0.016982729894155904,
          -0.006027132313922081,
          0.004485802690214075,
          0.009221985960583488,
          0.007968823742810523,
          0.016925998462251266,
          -0.013920292675622028,
          -0.01907686533891026,
          0.01836084922254614,
          0.0010136435206247235,
          -0.013964572169237398,
          0.012866062729974793,
          -0.002737379731799048,
          -0.0037800241086243347,
          -0.027264848931078268,
          0.021056121629684135,
          -0.0191809336588735,
          0,
          -0.0102493758923386,
          -0.009761054340755982,
          -0.01780958159477203,
          0.01332899363983571,
          0.004240778509323872,
          0.014038472399892248,
          0.029913735908845197,
          0.028610603946653098,
          0.0048504014953488755,
          0.02869270429344972,
          -0.0033451775305647132,
          0.008310856368210098,
          -0.0006214787448183862,
          -0.010905403510997143,
          0.01609016556951933,
          0.004509145656382022,
          0.010302905678483189,
          -0.021161834888350065,
          0.029014757413160296,
          -0.010684209519766669,
          0.01421025115902603,
          -0.0032833952168095305,
          0.003665247463626384,
          0.012383207804285425,
          0.009428142566938592,
          0.01284888951416259,
          -0.0053039232783610715,
          0.0024360319929672036,
          -0.0016211111150619404,
          -0.0032395191210640804,
          0.007832885769777392,
          -0.017349215566796913,
          0.000980377197265625,
          0.002357079792662099,
          -0.020308551730528767,
          0.04019048781622024,
          0.008905540453457522,
          0.007105125579513015,
          -0.0018170836827379438,
          0.020800018310546876,
          -0.0004060182388380026,
          -0.011463692748888896,
          -0.004217695935152446,
          0.002771716378948157,
          -0.019242470801957248,
          0.008742349004540649,
          -0.006681551632573051,
          -0.0012026733618975584,
          0.02026895643421435,
          -0.012981683164269845,
          -0.020016330893828153,
          -0.018214254884470406,
          0.0023387788612396656,
          -0.010538584760761388,
          0.003053432113605758,
          0.009514595698384405,
          -0.007602327396657954,
          0.006575133602931836,
          -0.015814845110043534,
          -0.008693991415597317,
          0.013632111160351141,
          -0.006162499267157821,
          0.008107584724481788,
          0.008516924620774512,
          -0.020853051642106043,
          -0.004823716403947978,
          -0.002019471413372268,
          0.021428538491623943,
          -0.006774569335461639,
          -0.014683784067735581,
          0.00310233124954338,
          0.023615408348008824,
          0.007394522748430502,
          0.01425705944197496,
          0.002938541211188755,
          -0.004081639714373451
         ]
        }
       ],
       "layout": {
        "legend": {
         "bgcolor": "#F5F6F9",
         "font": {
          "color": "#4D5663"
         }
        },
        "paper_bgcolor": "#F5F6F9",
        "plot_bgcolor": "#F5F6F9",
        "template": {
         "data": {
          "bar": [
           {
            "error_x": {
             "color": "#2a3f5f"
            },
            "error_y": {
             "color": "#2a3f5f"
            },
            "marker": {
             "line": {
              "color": "#E5ECF6",
              "width": 0.5
             }
            },
            "type": "bar"
           }
          ],
          "barpolar": [
           {
            "marker": {
             "line": {
              "color": "#E5ECF6",
              "width": 0.5
             }
            },
            "type": "barpolar"
           }
          ],
          "carpet": [
           {
            "aaxis": {
             "endlinecolor": "#2a3f5f",
             "gridcolor": "white",
             "linecolor": "white",
             "minorgridcolor": "white",
             "startlinecolor": "#2a3f5f"
            },
            "baxis": {
             "endlinecolor": "#2a3f5f",
             "gridcolor": "white",
             "linecolor": "white",
             "minorgridcolor": "white",
             "startlinecolor": "#2a3f5f"
            },
            "type": "carpet"
           }
          ],
          "choropleth": [
           {
            "colorbar": {
             "outlinewidth": 0,
             "ticks": ""
            },
            "type": "choropleth"
           }
          ],
          "contour": [
           {
            "colorbar": {
             "outlinewidth": 0,
             "ticks": ""
            },
            "colorscale": [
             [
              0,
              "#0d0887"
             ],
             [
              0.1111111111111111,
              "#46039f"
             ],
             [
              0.2222222222222222,
              "#7201a8"
             ],
             [
              0.3333333333333333,
              "#9c179e"
             ],
             [
              0.4444444444444444,
              "#bd3786"
             ],
             [
              0.5555555555555556,
              "#d8576b"
             ],
             [
              0.6666666666666666,
              "#ed7953"
             ],
             [
              0.7777777777777778,
              "#fb9f3a"
             ],
             [
              0.8888888888888888,
              "#fdca26"
             ],
             [
              1,
              "#f0f921"
             ]
            ],
            "type": "contour"
           }
          ],
          "contourcarpet": [
           {
            "colorbar": {
             "outlinewidth": 0,
             "ticks": ""
            },
            "type": "contourcarpet"
           }
          ],
          "heatmap": [
           {
            "colorbar": {
             "outlinewidth": 0,
             "ticks": ""
            },
            "colorscale": [
             [
              0,
              "#0d0887"
             ],
             [
              0.1111111111111111,
              "#46039f"
             ],
             [
              0.2222222222222222,
              "#7201a8"
             ],
             [
              0.3333333333333333,
              "#9c179e"
             ],
             [
              0.4444444444444444,
              "#bd3786"
             ],
             [
              0.5555555555555556,
              "#d8576b"
             ],
             [
              0.6666666666666666,
              "#ed7953"
             ],
             [
              0.7777777777777778,
              "#fb9f3a"
             ],
             [
              0.8888888888888888,
              "#fdca26"
             ],
             [
              1,
              "#f0f921"
             ]
            ],
            "type": "heatmap"
           }
          ],
          "heatmapgl": [
           {
            "colorbar": {
             "outlinewidth": 0,
             "ticks": ""
            },
            "colorscale": [
             [
              0,
              "#0d0887"
             ],
             [
              0.1111111111111111,
              "#46039f"
             ],
             [
              0.2222222222222222,
              "#7201a8"
             ],
             [
              0.3333333333333333,
              "#9c179e"
             ],
             [
              0.4444444444444444,
              "#bd3786"
             ],
             [
              0.5555555555555556,
              "#d8576b"
             ],
             [
              0.6666666666666666,
              "#ed7953"
             ],
             [
              0.7777777777777778,
              "#fb9f3a"
             ],
             [
              0.8888888888888888,
              "#fdca26"
             ],
             [
              1,
              "#f0f921"
             ]
            ],
            "type": "heatmapgl"
           }
          ],
          "histogram": [
           {
            "marker": {
             "colorbar": {
              "outlinewidth": 0,
              "ticks": ""
             }
            },
            "type": "histogram"
           }
          ],
          "histogram2d": [
           {
            "colorbar": {
             "outlinewidth": 0,
             "ticks": ""
            },
            "colorscale": [
             [
              0,
              "#0d0887"
             ],
             [
              0.1111111111111111,
              "#46039f"
             ],
             [
              0.2222222222222222,
              "#7201a8"
             ],
             [
              0.3333333333333333,
              "#9c179e"
             ],
             [
              0.4444444444444444,
              "#bd3786"
             ],
             [
              0.5555555555555556,
              "#d8576b"
             ],
             [
              0.6666666666666666,
              "#ed7953"
             ],
             [
              0.7777777777777778,
              "#fb9f3a"
             ],
             [
              0.8888888888888888,
              "#fdca26"
             ],
             [
              1,
              "#f0f921"
             ]
            ],
            "type": "histogram2d"
           }
          ],
          "histogram2dcontour": [
           {
            "colorbar": {
             "outlinewidth": 0,
             "ticks": ""
            },
            "colorscale": [
             [
              0,
              "#0d0887"
             ],
             [
              0.1111111111111111,
              "#46039f"
             ],
             [
              0.2222222222222222,
              "#7201a8"
             ],
             [
              0.3333333333333333,
              "#9c179e"
             ],
             [
              0.4444444444444444,
              "#bd3786"
             ],
             [
              0.5555555555555556,
              "#d8576b"
             ],
             [
              0.6666666666666666,
              "#ed7953"
             ],
             [
              0.7777777777777778,
              "#fb9f3a"
             ],
             [
              0.8888888888888888,
              "#fdca26"
             ],
             [
              1,
              "#f0f921"
             ]
            ],
            "type": "histogram2dcontour"
           }
          ],
          "mesh3d": [
           {
            "colorbar": {
             "outlinewidth": 0,
             "ticks": ""
            },
            "type": "mesh3d"
           }
          ],
          "parcoords": [
           {
            "line": {
             "colorbar": {
              "outlinewidth": 0,
              "ticks": ""
             }
            },
            "type": "parcoords"
           }
          ],
          "pie": [
           {
            "automargin": true,
            "type": "pie"
           }
          ],
          "scatter": [
           {
            "marker": {
             "colorbar": {
              "outlinewidth": 0,
              "ticks": ""
             }
            },
            "type": "scatter"
           }
          ],
          "scatter3d": [
           {
            "line": {
             "colorbar": {
              "outlinewidth": 0,
              "ticks": ""
             }
            },
            "marker": {
             "colorbar": {
              "outlinewidth": 0,
              "ticks": ""
             }
            },
            "type": "scatter3d"
           }
          ],
          "scattercarpet": [
           {
            "marker": {
             "colorbar": {
              "outlinewidth": 0,
              "ticks": ""
             }
            },
            "type": "scattercarpet"
           }
          ],
          "scattergeo": [
           {
            "marker": {
             "colorbar": {
              "outlinewidth": 0,
              "ticks": ""
             }
            },
            "type": "scattergeo"
           }
          ],
          "scattergl": [
           {
            "marker": {
             "colorbar": {
              "outlinewidth": 0,
              "ticks": ""
             }
            },
            "type": "scattergl"
           }
          ],
          "scattermapbox": [
           {
            "marker": {
             "colorbar": {
              "outlinewidth": 0,
              "ticks": ""
             }
            },
            "type": "scattermapbox"
           }
          ],
          "scatterpolar": [
           {
            "marker": {
             "colorbar": {
              "outlinewidth": 0,
              "ticks": ""
             }
            },
            "type": "scatterpolar"
           }
          ],
          "scatterpolargl": [
           {
            "marker": {
             "colorbar": {
              "outlinewidth": 0,
              "ticks": ""
             }
            },
            "type": "scatterpolargl"
           }
          ],
          "scatterternary": [
           {
            "marker": {
             "colorbar": {
              "outlinewidth": 0,
              "ticks": ""
             }
            },
            "type": "scatterternary"
           }
          ],
          "surface": [
           {
            "colorbar": {
             "outlinewidth": 0,
             "ticks": ""
            },
            "colorscale": [
             [
              0,
              "#0d0887"
             ],
             [
              0.1111111111111111,
              "#46039f"
             ],
             [
              0.2222222222222222,
              "#7201a8"
             ],
             [
              0.3333333333333333,
              "#9c179e"
             ],
             [
              0.4444444444444444,
              "#bd3786"
             ],
             [
              0.5555555555555556,
              "#d8576b"
             ],
             [
              0.6666666666666666,
              "#ed7953"
             ],
             [
              0.7777777777777778,
              "#fb9f3a"
             ],
             [
              0.8888888888888888,
              "#fdca26"
             ],
             [
              1,
              "#f0f921"
             ]
            ],
            "type": "surface"
           }
          ],
          "table": [
           {
            "cells": {
             "fill": {
              "color": "#EBF0F8"
             },
             "line": {
              "color": "white"
             }
            },
            "header": {
             "fill": {
              "color": "#C8D4E3"
             },
             "line": {
              "color": "white"
             }
            },
            "type": "table"
           }
          ]
         },
         "layout": {
          "annotationdefaults": {
           "arrowcolor": "#2a3f5f",
           "arrowhead": 0,
           "arrowwidth": 1
          },
          "coloraxis": {
           "colorbar": {
            "outlinewidth": 0,
            "ticks": ""
           }
          },
          "colorscale": {
           "diverging": [
            [
             0,
             "#8e0152"
            ],
            [
             0.1,
             "#c51b7d"
            ],
            [
             0.2,
             "#de77ae"
            ],
            [
             0.3,
             "#f1b6da"
            ],
            [
             0.4,
             "#fde0ef"
            ],
            [
             0.5,
             "#f7f7f7"
            ],
            [
             0.6,
             "#e6f5d0"
            ],
            [
             0.7,
             "#b8e186"
            ],
            [
             0.8,
             "#7fbc41"
            ],
            [
             0.9,
             "#4d9221"
            ],
            [
             1,
             "#276419"
            ]
           ],
           "sequential": [
            [
             0,
             "#0d0887"
            ],
            [
             0.1111111111111111,
             "#46039f"
            ],
            [
             0.2222222222222222,
             "#7201a8"
            ],
            [
             0.3333333333333333,
             "#9c179e"
            ],
            [
             0.4444444444444444,
             "#bd3786"
            ],
            [
             0.5555555555555556,
             "#d8576b"
            ],
            [
             0.6666666666666666,
             "#ed7953"
            ],
            [
             0.7777777777777778,
             "#fb9f3a"
            ],
            [
             0.8888888888888888,
             "#fdca26"
            ],
            [
             1,
             "#f0f921"
            ]
           ],
           "sequentialminus": [
            [
             0,
             "#0d0887"
            ],
            [
             0.1111111111111111,
             "#46039f"
            ],
            [
             0.2222222222222222,
             "#7201a8"
            ],
            [
             0.3333333333333333,
             "#9c179e"
            ],
            [
             0.4444444444444444,
             "#bd3786"
            ],
            [
             0.5555555555555556,
             "#d8576b"
            ],
            [
             0.6666666666666666,
             "#ed7953"
            ],
            [
             0.7777777777777778,
             "#fb9f3a"
            ],
            [
             0.8888888888888888,
             "#fdca26"
            ],
            [
             1,
             "#f0f921"
            ]
           ]
          },
          "colorway": [
           "#636efa",
           "#EF553B",
           "#00cc96",
           "#ab63fa",
           "#FFA15A",
           "#19d3f3",
           "#FF6692",
           "#B6E880",
           "#FF97FF",
           "#FECB52"
          ],
          "font": {
           "color": "#2a3f5f"
          },
          "geo": {
           "bgcolor": "white",
           "lakecolor": "white",
           "landcolor": "#E5ECF6",
           "showlakes": true,
           "showland": true,
           "subunitcolor": "white"
          },
          "hoverlabel": {
           "align": "left"
          },
          "hovermode": "closest",
          "mapbox": {
           "style": "light"
          },
          "paper_bgcolor": "white",
          "plot_bgcolor": "#E5ECF6",
          "polar": {
           "angularaxis": {
            "gridcolor": "white",
            "linecolor": "white",
            "ticks": ""
           },
           "bgcolor": "#E5ECF6",
           "radialaxis": {
            "gridcolor": "white",
            "linecolor": "white",
            "ticks": ""
           }
          },
          "scene": {
           "xaxis": {
            "backgroundcolor": "#E5ECF6",
            "gridcolor": "white",
            "gridwidth": 2,
            "linecolor": "white",
            "showbackground": true,
            "ticks": "",
            "zerolinecolor": "white"
           },
           "yaxis": {
            "backgroundcolor": "#E5ECF6",
            "gridcolor": "white",
            "gridwidth": 2,
            "linecolor": "white",
            "showbackground": true,
            "ticks": "",
            "zerolinecolor": "white"
           },
           "zaxis": {
            "backgroundcolor": "#E5ECF6",
            "gridcolor": "white",
            "gridwidth": 2,
            "linecolor": "white",
            "showbackground": true,
            "ticks": "",
            "zerolinecolor": "white"
           }
          },
          "shapedefaults": {
           "line": {
            "color": "#2a3f5f"
           }
          },
          "ternary": {
           "aaxis": {
            "gridcolor": "white",
            "linecolor": "white",
            "ticks": ""
           },
           "baxis": {
            "gridcolor": "white",
            "linecolor": "white",
            "ticks": ""
           },
           "bgcolor": "#E5ECF6",
           "caxis": {
            "gridcolor": "white",
            "linecolor": "white",
            "ticks": ""
           }
          },
          "title": {
           "x": 0.05
          },
          "xaxis": {
           "automargin": true,
           "gridcolor": "white",
           "linecolor": "white",
           "ticks": "",
           "title": {
            "standoff": 15
           },
           "zerolinecolor": "white",
           "zerolinewidth": 2
          },
          "yaxis": {
           "automargin": true,
           "gridcolor": "white",
           "linecolor": "white",
           "ticks": "",
           "title": {
            "standoff": 15
           },
           "zerolinecolor": "white",
           "zerolinewidth": 2
          }
         }
        },
        "title": {
         "font": {
          "color": "#4D5663"
         }
        },
        "xaxis": {
         "gridcolor": "#E1E5ED",
         "showgrid": true,
         "tickfont": {
          "color": "#4D5663"
         },
         "title": {
          "font": {
           "color": "#4D5663"
          },
          "text": ""
         },
         "zerolinecolor": "#E1E5ED"
        },
        "yaxis": {
         "gridcolor": "#E1E5ED",
         "showgrid": true,
         "tickfont": {
          "color": "#4D5663"
         },
         "title": {
          "font": {
           "color": "#4D5663"
          },
          "text": ""
         },
         "zerolinecolor": "#E1E5ED"
        }
       }
      },
      "text/html": [
       "<div>\n",
       "        \n",
       "        \n",
       "            <div id=\"da159f49-a42c-467c-9cbf-a4dd759dab30\" class=\"plotly-graph-div\" style=\"height:525px; width:100%;\"></div>\n",
       "            <script type=\"text/javascript\">\n",
       "                require([\"plotly\"], function(Plotly) {\n",
       "                    window.PLOTLYENV=window.PLOTLYENV || {};\n",
       "                    \n",
       "                if (document.getElementById(\"da159f49-a42c-467c-9cbf-a4dd759dab30\")) {\n",
       "                    Plotly.newPlot(\n",
       "                        'da159f49-a42c-467c-9cbf-a4dd759dab30',\n",
       "                        [{\"line\": {\"color\": \"rgba(255, 153, 51, 1.0)\", \"dash\": \"solid\", \"shape\": \"linear\", \"width\": 1.3}, \"mode\": \"lines\", \"name\": \"Previous Five Day Average Pct Change\", \"text\": \"\", \"type\": \"scatter\", \"x\": [\"2019-10-31\", \"2019-11-01\", \"2019-11-04\", \"2019-11-05\", \"2019-11-06\", \"2019-11-07\", \"2019-11-08\", \"2019-11-11\", \"2019-11-12\", \"2019-11-13\", \"2019-11-14\", \"2019-11-15\", \"2019-11-18\", \"2019-11-19\", \"2019-11-20\", \"2019-11-21\", \"2019-11-22\", \"2019-11-25\", \"2019-11-26\", \"2019-11-27\", \"2019-11-29\", \"2019-12-02\", \"2019-12-03\", \"2019-12-04\", \"2019-12-05\", \"2019-12-06\", \"2019-12-09\", \"2019-12-10\", \"2019-12-11\", \"2019-12-12\", \"2019-12-13\", \"2019-12-16\", \"2019-12-17\", \"2019-12-18\", \"2019-12-19\", \"2019-12-20\", \"2019-12-23\", \"2019-12-24\", \"2019-12-26\", \"2019-12-27\", \"2019-12-30\", \"2019-12-31\", \"2020-01-02\", \"2020-01-03\", \"2020-01-06\", \"2020-01-07\", \"2020-01-08\", \"2020-01-09\", \"2020-01-10\", \"2020-01-13\", \"2020-01-14\", \"2020-01-15\", \"2020-01-16\", \"2020-01-17\", \"2020-01-21\", \"2020-01-22\", \"2020-01-23\", \"2020-01-24\", \"2020-01-27\", \"2020-01-28\", \"2020-01-29\", \"2020-01-30\", \"2020-01-31\", \"2020-02-03\", \"2020-02-04\", \"2020-02-05\", \"2020-02-06\", \"2020-02-07\", \"2020-02-10\", \"2020-02-11\", \"2020-02-12\", \"2020-02-13\", \"2020-02-14\", \"2020-02-18\", \"2020-02-19\", \"2020-02-20\", \"2020-02-21\", \"2020-02-24\", \"2020-02-25\", \"2020-02-26\", \"2020-02-27\", \"2020-02-28\", \"2020-03-02\", \"2020-03-03\", \"2020-03-04\", \"2020-03-05\", \"2020-03-06\", \"2020-03-09\", \"2020-03-10\", \"2020-03-11\", \"2020-03-12\", \"2020-03-13\", \"2020-03-16\", \"2020-03-17\", \"2020-03-18\", \"2020-03-19\", \"2020-03-20\", \"2020-03-23\", \"2020-03-24\", \"2020-03-25\", \"2020-03-26\", \"2020-03-27\", \"2020-03-30\", \"2020-03-31\", \"2020-04-01\", \"2020-04-02\", \"2020-04-03\", \"2020-04-06\", \"2020-04-07\", \"2020-04-08\", \"2020-04-09\", \"2020-04-13\", \"2020-04-14\", \"2020-04-15\", \"2020-04-16\", \"2020-04-17\", \"2020-04-20\", \"2020-04-21\", \"2020-04-22\", \"2020-04-23\", \"2020-04-24\", \"2020-04-27\", \"2020-04-28\", \"2020-04-29\", \"2020-04-30\", \"2020-05-01\", \"2020-05-04\", \"2020-05-05\", \"2020-05-06\", \"2020-05-07\", \"2020-05-08\", \"2020-05-11\", \"2020-05-12\", \"2020-05-13\", \"2020-05-14\", \"2020-05-15\", \"2020-05-18\", \"2020-05-19\", \"2020-05-20\", \"2020-05-21\", \"2020-05-22\", \"2020-05-26\", \"2020-05-27\", \"2020-05-28\", \"2020-05-29\", \"2020-06-01\", \"2020-06-02\", \"2020-06-03\", \"2020-06-04\", \"2020-06-05\", \"2020-06-08\", \"2020-06-09\", \"2020-06-10\", \"2020-06-11\", \"2020-06-12\", \"2020-06-15\", \"2020-06-16\", \"2020-06-17\", \"2020-06-18\", \"2020-06-19\", \"2020-06-22\", \"2020-06-23\", \"2020-06-24\", \"2020-06-25\", \"2020-06-26\", \"2020-06-29\", \"2020-06-30\", \"2020-07-01\", \"2020-07-02\", \"2020-07-06\", \"2020-07-07\", \"2020-07-08\", \"2020-07-09\", \"2020-07-10\", \"2020-07-13\", \"2020-07-14\", \"2020-07-15\", \"2020-07-16\", \"2020-07-17\", \"2020-07-20\", \"2020-07-21\", \"2020-07-22\", \"2020-07-23\", \"2020-07-24\", \"2020-07-27\", \"2020-07-28\", \"2020-07-29\", \"2020-07-30\", \"2020-07-31\", \"2020-08-03\", \"2020-08-04\", \"2020-08-05\", \"2020-08-06\", \"2020-08-07\", \"2020-08-10\", \"2020-08-11\", \"2020-08-12\", \"2020-08-13\", \"2020-08-14\", \"2020-08-17\", \"2020-08-18\", \"2020-08-19\", \"2020-08-20\", \"2020-08-21\", \"2020-08-24\", \"2020-08-25\", \"2020-08-26\", \"2020-08-27\", \"2020-08-28\", \"2020-08-31\", \"2020-09-01\", \"2020-09-02\", \"2020-09-03\", \"2020-09-04\", \"2020-09-08\", \"2020-09-09\", \"2020-09-10\", \"2020-09-11\", \"2020-09-14\", \"2020-09-15\", \"2020-09-16\", \"2020-09-17\", \"2020-09-18\", \"2020-09-21\", \"2020-09-22\", \"2020-09-23\", \"2020-09-24\", \"2020-09-25\", \"2020-09-28\", \"2020-09-29\", \"2020-09-30\", \"2020-10-01\", \"2020-10-02\", \"2020-10-05\", \"2020-10-06\", \"2020-10-07\", \"2020-10-08\", \"2020-10-09\", \"2020-10-12\", \"2020-10-13\", \"2020-10-14\", \"2020-10-15\", \"2020-10-16\", \"2020-10-19\", \"2020-10-20\", \"2020-10-21\", \"2020-10-22\", \"2020-10-23\", \"2020-10-26\", \"2020-10-27\", \"2020-10-28\", \"2020-10-29\", \"2020-10-30\"], \"y\": [0.0, -0.0035504516552658334, -0.006869967593966016, -0.008561477907252035, -0.006769107450180665, -0.005797950049352558, -0.005260270880577125, -0.0046744121851787, -0.0035965259178348968, -0.0026331926002819343, -0.002319650536761932, -0.002841565917863936, -0.0006675093711165013, -0.0012629057403199927, -0.0015032397424461438, -0.00019828934042518694, -0.002043533229897763, -0.0002629822066244604, -0.0011496805817620844, -0.001424647987880919, -0.0025921337768883795, 0.00029138261020044906, 0.0008289476413935369, 0.0064008138520541685, 0.008490268314811924, 0.009591924015910693, 0.008718498618388382, 0.005713744771388619, 0.003358188768196791, 0.0005368108094604591, -0.0034525680501022956, -0.0037571517923890496, -0.0020402620336491383, -4.966832308183067e-05, 0.0012793108329031474, 0.0013350008641442018, 8.566548304233396e-06, -0.002319383482781565, -0.005273263090176593, -0.007420189950565673, -0.0052240239777707545, -0.0018299784309183844, -0.002025850549947152, -0.0034777934278332097, -0.003067282706190032, -0.0036408897105500867, -0.002030682347900285, -0.001530829907904573, -0.0003855432186419563, 0.002699346800400941, 0.002420833292803826, -0.0002212029302190236, 0.001264663613605934, 0.0007614153621257584, -8.665427077406834e-05, -0.0011415045830486358, -0.006880571741120065, -0.009558305987260022, -0.013916599286140075, -0.012096165626710238, -0.012057753118364663, -0.002675970796229326, -0.003741355252989538, 0.007650825021281167, 0.004687409577239258, 0.008066164117263633, 0.002272430404842406, 0.005425473018411386, 0.0022542993326645925, -0.00040184889048520067, -0.0030802733985260803, -0.0007167746482280903, -0.0026843637059964843, -0.004456567318584494, -0.0003643611631858317, -0.0007976133651175093, 0.003531635772849277, 0.007452623499588447, 0.0062251756313078015, 0.011956512206313748, 0.015656041564031428, 0.018162717199451738, 0.011091668397197796, 0.003010753530691977, 0.002819015920132179, -0.004570136810574411, -0.0114697447199646, -0.009114642336408912, 0.0035749237362402418, -0.00814956444497671, 0.0004958536382918307, 0.010355800722356548, -0.013075581971098033, -0.004989359656859246, -0.019245774101135912, -0.025886134914630043, -0.028153448083232745, 0.000340478471392032, -0.02733900847448185, -0.005672785597108177, 0.0028301804955704222, -0.019801795004436858, -0.018794773140617553, -0.012758975504739745, -0.012129597730569108, -0.014417091974201967, -0.01166040742433331, -0.016631452028995415, -0.013552761485277157, -0.011828764975036089, -0.014156754374674388, 0.0052551748115471, -0.0012353868164042547, 0.003056378716650301, 0.0008305469398657689, -0.0031624326073532412, -0.005289109642086317, 0.0025787641443081716, 0.010667110012671153, 0.0014733811980274028, 0.007544054187201654, -0.008698728059806529, -0.008198864396698409, -0.01008789623055908, -0.011747580744670688, -0.009329286787228547, 0.006183877438970781, 0.002300408839383767, -0.0016975383011672228, 0.005768991887473102, 0.003775392652054399, -0.0008481006949529177, 0.0008924716956462958, 0.006834112021839188, 0.009737788385613937, 0.0010605184273294911, -0.002005674011781225, -0.0013026177905906297, -0.00791251855253276, -0.016685953470247934, -0.006995065508125367, -0.004832386400298483, -2.1243678214089706e-05, -0.003468530172459934, 0.00700246275404121, 0.0001246010154023508, 0.003044440322661672, -0.0025255231538667184, 0.003119276810951803, -0.0049921542260317735, -0.004757630775797486, -0.0058360075692405, -0.004633340196693131, -0.009738705762326721, 0.004932279000782894, 0.010620937796428849, 0.007087348569053543, 0.010791393817314176, 0.015054606419213318, 0.005262840333263118, 0.006064148343780064, 0.007454361925838454, 0.004806230146969235, 0.005827446591336219, 0.006526441994768381, 0.006515095708387454, 0.004936463636047465, 0.0002239300302225973, 0.002051702682615129, 0.0006606666381779684, -0.005517447488119765, -0.00016017640700040012, 0.0031077207144218416, -0.0013204539518122528, -0.006976152442152851, 2.7986317631455147e-05, -0.006381412960138204, -0.005833937013778394, -0.007127807370521247, -0.0036270484524567894, -0.011400189097348024, -0.00489820363760618, -0.0040500479357414056, 0.0008075217227047633, 0.008742479772625, 0.018026516880910025, 0.01633079845201266, 0.02122118360883783, 0.017744453622746438, 0.013423877714619415, 0.0075774611763251174, 0.004426300175055915, 0.0019057924302698375, 0.003476657067659184, 0.0038750669297138024, -0.00023300429899253267, 0.007751027885838954, 0.002396152867981755, 0.004336373968510557, 0.0016191137894520126, 0.0065845302598473016, 0.0032582203380723276, 0.00728069075541338, 0.007008418426440692, 0.006604312814130384, 0.006358469719998548, 0.0035576059361290746, 0.0010240735985285402, 2.0872849651500797e-05, -0.002388185608035667, -0.0026793165671759834, -0.0018836783856311754, -0.005297484907524112, 0.0011740355017644574, 0.006424986705815344, 0.007649936382264822, 0.006815103687184814, 0.015036817695399943, 0.006917516484388294, 0.00284366984391901, 0.0005791055409859176, 0.0014968655533231377, -0.006511632269177686, -0.004681958820501956, -0.0037255305972387883, -0.00312252608258781, 0.00037692192846542835, 0.001629079456002909, -0.004122656523670851, -0.006429197174050322, -0.0057209067294228776, -0.011882414968418025, -0.008675391912842906, -0.002769206594400393, -0.0006468210968379025, 0.0002004498515005315, -0.0008548022183558976, -0.003204286924196513, -0.0023807838318031663, -0.0020928182059031394, -0.0017863279815931484, 0.0030800259645704605, 0.0006482139192687149, -0.003042951593591108, -0.0022143460228339984, 0.0004498447305944335, -0.002608454060652797, -0.0013746005457787047, 0.00021060898491956698, 0.005337584937195786, 0.0025307817885570974, 0.006737107544044417, 0.010261572599829284]}, {\"line\": {\"color\": \"rgba(55, 128, 191, 1.0)\", \"dash\": \"solid\", \"shape\": \"linear\", \"width\": 1.3}, \"mode\": \"lines\", \"name\": \"Intraday Pct Change\", \"text\": \"\", \"type\": \"scatter\", \"x\": [\"2019-10-31\", \"2019-11-01\", \"2019-11-04\", \"2019-11-05\", \"2019-11-06\", \"2019-11-07\", \"2019-11-08\", \"2019-11-11\", \"2019-11-12\", \"2019-11-13\", \"2019-11-14\", \"2019-11-15\", \"2019-11-18\", \"2019-11-19\", \"2019-11-20\", \"2019-11-21\", \"2019-11-22\", \"2019-11-25\", \"2019-11-26\", \"2019-11-27\", \"2019-11-29\", \"2019-12-02\", \"2019-12-03\", \"2019-12-04\", \"2019-12-05\", \"2019-12-06\", \"2019-12-09\", \"2019-12-10\", \"2019-12-11\", \"2019-12-12\", \"2019-12-13\", \"2019-12-16\", \"2019-12-17\", \"2019-12-18\", \"2019-12-19\", \"2019-12-20\", \"2019-12-23\", \"2019-12-24\", \"2019-12-26\", \"2019-12-27\", \"2019-12-30\", \"2019-12-31\", \"2020-01-02\", \"2020-01-03\", \"2020-01-06\", \"2020-01-07\", \"2020-01-08\", \"2020-01-09\", \"2020-01-10\", \"2020-01-13\", \"2020-01-14\", \"2020-01-15\", \"2020-01-16\", \"2020-01-17\", \"2020-01-21\", \"2020-01-22\", \"2020-01-23\", \"2020-01-24\", \"2020-01-27\", \"2020-01-28\", \"2020-01-29\", \"2020-01-30\", \"2020-01-31\", \"2020-02-03\", \"2020-02-04\", \"2020-02-05\", \"2020-02-06\", \"2020-02-07\", \"2020-02-10\", \"2020-02-11\", \"2020-02-12\", \"2020-02-13\", \"2020-02-14\", \"2020-02-18\", \"2020-02-19\", \"2020-02-20\", \"2020-02-21\", \"2020-02-24\", \"2020-02-25\", \"2020-02-26\", \"2020-02-27\", \"2020-02-28\", \"2020-03-02\", \"2020-03-03\", \"2020-03-04\", \"2020-03-05\", \"2020-03-06\", \"2020-03-09\", \"2020-03-10\", \"2020-03-11\", \"2020-03-12\", \"2020-03-13\", \"2020-03-16\", \"2020-03-17\", \"2020-03-18\", \"2020-03-19\", \"2020-03-20\", \"2020-03-23\", \"2020-03-24\", \"2020-03-25\", \"2020-03-26\", \"2020-03-27\", \"2020-03-30\", \"2020-03-31\", \"2020-04-01\", \"2020-04-02\", \"2020-04-03\", \"2020-04-06\", \"2020-04-07\", \"2020-04-08\", \"2020-04-09\", \"2020-04-13\", \"2020-04-14\", \"2020-04-15\", \"2020-04-16\", \"2020-04-17\", \"2020-04-20\", \"2020-04-21\", \"2020-04-22\", \"2020-04-23\", \"2020-04-24\", \"2020-04-27\", \"2020-04-28\", \"2020-04-29\", \"2020-04-30\", \"2020-05-01\", \"2020-05-04\", \"2020-05-05\", \"2020-05-06\", \"2020-05-07\", \"2020-05-08\", \"2020-05-11\", \"2020-05-12\", \"2020-05-13\", \"2020-05-14\", \"2020-05-15\", \"2020-05-18\", \"2020-05-19\", \"2020-05-20\", \"2020-05-21\", \"2020-05-22\", \"2020-05-26\", \"2020-05-27\", \"2020-05-28\", \"2020-05-29\", \"2020-06-01\", \"2020-06-02\", \"2020-06-03\", \"2020-06-04\", \"2020-06-05\", \"2020-06-08\", \"2020-06-09\", \"2020-06-10\", \"2020-06-11\", \"2020-06-12\", \"2020-06-15\", \"2020-06-16\", \"2020-06-17\", \"2020-06-18\", \"2020-06-19\", \"2020-06-22\", \"2020-06-23\", \"2020-06-24\", \"2020-06-25\", \"2020-06-26\", \"2020-06-29\", \"2020-06-30\", \"2020-07-01\", \"2020-07-02\", \"2020-07-06\", \"2020-07-07\", \"2020-07-08\", \"2020-07-09\", \"2020-07-10\", \"2020-07-13\", \"2020-07-14\", \"2020-07-15\", \"2020-07-16\", \"2020-07-17\", \"2020-07-20\", \"2020-07-21\", \"2020-07-22\", \"2020-07-23\", \"2020-07-24\", \"2020-07-27\", \"2020-07-28\", \"2020-07-29\", \"2020-07-30\", \"2020-07-31\", \"2020-08-03\", \"2020-08-04\", \"2020-08-05\", \"2020-08-06\", \"2020-08-07\", \"2020-08-10\", \"2020-08-11\", \"2020-08-12\", \"2020-08-13\", \"2020-08-14\", \"2020-08-17\", \"2020-08-18\", \"2020-08-19\", \"2020-08-20\", \"2020-08-21\", \"2020-08-24\", \"2020-08-25\", \"2020-08-26\", \"2020-08-27\", \"2020-08-28\", \"2020-08-31\", \"2020-09-01\", \"2020-09-02\", \"2020-09-03\", \"2020-09-04\", \"2020-09-08\", \"2020-09-09\", \"2020-09-10\", \"2020-09-11\", \"2020-09-14\", \"2020-09-15\", \"2020-09-16\", \"2020-09-17\", \"2020-09-18\", \"2020-09-21\", \"2020-09-22\", \"2020-09-23\", \"2020-09-24\", \"2020-09-25\", \"2020-09-28\", \"2020-09-29\", \"2020-09-30\", \"2020-10-01\", \"2020-10-02\", \"2020-10-05\", \"2020-10-06\", \"2020-10-07\", \"2020-10-08\", \"2020-10-09\", \"2020-10-12\", \"2020-10-13\", \"2020-10-14\", \"2020-10-15\", \"2020-10-16\", \"2020-10-19\", \"2020-10-20\", \"2020-10-21\", \"2020-10-22\", \"2020-10-23\", \"2020-10-26\", \"2020-10-27\", \"2020-10-28\", \"2020-10-29\", \"2020-10-30\"], \"y\": [-0.0035504516552658334, -0.0101894835326662, -0.011944498533824075, -0.0013919960789665544, -0.001913320446040129, -0.0008620558113886694, -0.00726019005567407, -0.006555067197105062, 0.0034246705087982604, -0.0003456101284401204, -0.003471632716898687, 0.0036100926780631023, -0.009532049043122518, 0.002223000498167505, 0.006179141881664663, -0.012697852164261565, 0.012512847794429613, -0.013965540918810637, 0.0008481634675733308, 0.00034171293662736007, 0.0017197297711825784, 0.015200672950395053, 0.013893790134492521, 0.011295435781362101, 0.005849991442121204, -0.0026473972164289734, 0.00017690371539624494, 0.0021160101185333765, -0.0028114540123195565, -0.01409690285569257, -0.004170315927862742, 0.008761352509095802, 0.012068978671369914, 0.003833441767605333, -0.013818452699487298, -0.010802487507062584, -0.0028783976463331896, -0.002700419365605224, -0.006901192534340066, -0.0028376228355127104, 0.006167740227199269, -0.0038577582414770287, -0.009960133755035511, -0.004848638926124178, -0.005705657857312982, 0.014218777040448272, -0.0013584960414984668, -0.004233700308722426, 0.010575811169090309, -0.007098225395298556, 0.001008595925334022, 0.006070836677626321, -0.006749941566123304, 0.006335463004591175, -0.012372476956671393, -0.027686739865023124, -0.007317834553073455, -0.028541408060523563, 0.015437631301740355, -0.012180414414943526, 0.01922217174565356, -0.01264475683687452, 0.028419493310829966, 0.0006205540815308082, 0.004713358285178353, -0.009746496816452581, 0.0031204562309703815, 0.012563624882096001, -0.012660187034218158, -0.008678764255026046, 0.00207099693503737, -0.0067174890578715896, 0.003702606819155957, 0.007800843742775149, -0.010845025264684432, 0.0237172426248713, 0.01288744957582426, -0.002434632522247274, 0.03645752661780488, 0.0076526215239039784, 0.03625062080197285, -0.022467794435445474, -0.04283920685477636, 0.035498838565005894, -0.029293142129628972, 0.0017525812550219122, -0.010692282517667033, 0.020608623508469405, -0.023123602341078856, 0.013933948286713725, 0.051052316675345495, -0.12784919598493993, 0.06103973507966333, -0.09440567456246218, -0.01926785578075692, 0.039715750832332, 0.014620436788183928, -0.07735769964970608, 0.013925439824406194, 0.02324697468263607, -0.07344412666770439, 0.01965554610728043, -0.04717871147031703, 0.01707232869525938, 0.01180950346447176, -0.05966070391836109, -0.005199676916030097, -0.031785258751725734, 0.025692311246464726, 0.00016955646628025956, 0.03739894201274635, -0.037652485055786875, -0.010326431086452956, 0.014563152362542067, -0.01979534126981479, 0.026765556839080967, 0.0016868838761855708, 0.030115298255361946, -0.03140549171067668, 0.010558023676056457, -0.054448354395959936, 0.004186202191726172, 0.020670139086058577, -0.039703914281234716, 0.022649493463267167, 0.0231174667350367, -0.015231140806208897, 0.0006804033833036305, -0.0023712633380330935, 0.012681497286173652, 1.1988744969421954e-16, -0.00652827885321283, 0.03038860501426809, 0.012147118480840654, -0.03070485250524858, -0.015330962195553455, -0.0030129977472598563, -0.002660898795442568, -0.0317200561077352, 0.01774958730536424, -0.004517566656419033, 0.02104271586316211, -0.01989733126667179, 0.020634908524770516, -0.01663972138783005, 0.010081629879877572, -0.00680710151947984, 0.008326668557420817, -0.019922246660147365, -0.01546710413665861, 0.004689745912662499, -0.0007937646567429943, -0.01720015927074714, 0.05343267715540071, 0.012976189841571166, -0.012978200224214025, 0.017726461584560167, 0.004115903738748568, 0.00447384672564971, 0.016982729894155904, -0.006027132313922081, 0.004485802690214075, 0.009221985960583488, 0.007968823742810523, 0.016925998462251266, -0.013920292675622028, -0.01907686533891026, 0.01836084922254614, 0.0010136435206247235, -0.013964572169237398, 0.012866062729974793, -0.002737379731799048, -0.0037800241086243347, -0.027264848931078268, 0.021056121629684135, -0.0191809336588735, 0.0, -0.0102493758923386, -0.009761054340755982, -0.01780958159477203, 0.01332899363983571, 0.004240778509323872, 0.014038472399892248, 0.029913735908845197, 0.028610603946653098, 0.0048504014953488755, 0.02869270429344972, -0.0033451775305647132, 0.008310856368210098, -0.0006214787448183862, -0.010905403510997143, 0.01609016556951933, 0.004509145656382022, 0.010302905678483189, -0.021161834888350065, 0.029014757413160296, -0.010684209519766669, 0.01421025115902603, -0.0032833952168095305, 0.003665247463626384, 0.012383207804285425, 0.009428142566938592, 0.01284888951416259, -0.0053039232783610715, 0.0024360319929672036, -0.0016211111150619404, -0.0032395191210640804, 0.007832885769777392, -0.017349215566796913, 0.000980377197265625, 0.002357079792662099, -0.020308551730528767, 0.04019048781622024, 0.008905540453457522, 0.007105125579513015, -0.0018170836827379438, 0.020800018310546876, -0.0004060182388380026, -0.011463692748888896, -0.004217695935152446, 0.002771716378948157, -0.019242470801957248, 0.008742349004540649, -0.006681551632573051, -0.0012026733618975584, 0.02026895643421435, -0.012981683164269845, -0.020016330893828153, -0.018214254884470406, 0.0023387788612396656, -0.010538584760761388, 0.003053432113605758, 0.009514595698384405, -0.007602327396657954, 0.006575133602931836, -0.015814845110043534, -0.008693991415597317, 0.013632111160351141, -0.006162499267157821, 0.008107584724481788, 0.008516924620774512, -0.020853051642106043, -0.004823716403947978, -0.002019471413372268, 0.021428538491623943, -0.006774569335461639, -0.014683784067735581, 0.00310233124954338, 0.023615408348008824, 0.007394522748430502, 0.01425705944197496, 0.002938541211188755, -0.004081639714373451]}],\n",
       "                        {\"legend\": {\"bgcolor\": \"#F5F6F9\", \"font\": {\"color\": \"#4D5663\"}}, \"paper_bgcolor\": \"#F5F6F9\", \"plot_bgcolor\": \"#F5F6F9\", \"template\": {\"data\": {\"bar\": [{\"error_x\": {\"color\": \"#2a3f5f\"}, \"error_y\": {\"color\": \"#2a3f5f\"}, \"marker\": {\"line\": {\"color\": \"#E5ECF6\", \"width\": 0.5}}, \"type\": \"bar\"}], \"barpolar\": [{\"marker\": {\"line\": {\"color\": \"#E5ECF6\", \"width\": 0.5}}, \"type\": \"barpolar\"}], \"carpet\": [{\"aaxis\": {\"endlinecolor\": \"#2a3f5f\", \"gridcolor\": \"white\", \"linecolor\": \"white\", \"minorgridcolor\": \"white\", \"startlinecolor\": \"#2a3f5f\"}, \"baxis\": {\"endlinecolor\": \"#2a3f5f\", \"gridcolor\": \"white\", \"linecolor\": \"white\", \"minorgridcolor\": \"white\", \"startlinecolor\": \"#2a3f5f\"}, \"type\": \"carpet\"}], \"choropleth\": [{\"colorbar\": {\"outlinewidth\": 0, \"ticks\": \"\"}, \"type\": \"choropleth\"}], \"contour\": [{\"colorbar\": {\"outlinewidth\": 0, \"ticks\": \"\"}, \"colorscale\": [[0.0, \"#0d0887\"], [0.1111111111111111, \"#46039f\"], [0.2222222222222222, \"#7201a8\"], [0.3333333333333333, \"#9c179e\"], [0.4444444444444444, \"#bd3786\"], [0.5555555555555556, \"#d8576b\"], [0.6666666666666666, \"#ed7953\"], [0.7777777777777778, \"#fb9f3a\"], [0.8888888888888888, \"#fdca26\"], [1.0, \"#f0f921\"]], \"type\": \"contour\"}], \"contourcarpet\": [{\"colorbar\": {\"outlinewidth\": 0, \"ticks\": \"\"}, \"type\": \"contourcarpet\"}], \"heatmap\": [{\"colorbar\": {\"outlinewidth\": 0, \"ticks\": \"\"}, \"colorscale\": [[0.0, \"#0d0887\"], [0.1111111111111111, \"#46039f\"], [0.2222222222222222, \"#7201a8\"], [0.3333333333333333, \"#9c179e\"], [0.4444444444444444, \"#bd3786\"], [0.5555555555555556, \"#d8576b\"], [0.6666666666666666, \"#ed7953\"], [0.7777777777777778, \"#fb9f3a\"], [0.8888888888888888, \"#fdca26\"], [1.0, \"#f0f921\"]], \"type\": \"heatmap\"}], \"heatmapgl\": [{\"colorbar\": {\"outlinewidth\": 0, \"ticks\": \"\"}, \"colorscale\": [[0.0, \"#0d0887\"], [0.1111111111111111, \"#46039f\"], [0.2222222222222222, \"#7201a8\"], [0.3333333333333333, \"#9c179e\"], [0.4444444444444444, \"#bd3786\"], [0.5555555555555556, \"#d8576b\"], [0.6666666666666666, \"#ed7953\"], [0.7777777777777778, \"#fb9f3a\"], [0.8888888888888888, \"#fdca26\"], [1.0, \"#f0f921\"]], \"type\": \"heatmapgl\"}], \"histogram\": [{\"marker\": {\"colorbar\": {\"outlinewidth\": 0, \"ticks\": \"\"}}, \"type\": \"histogram\"}], \"histogram2d\": [{\"colorbar\": {\"outlinewidth\": 0, \"ticks\": \"\"}, \"colorscale\": [[0.0, \"#0d0887\"], [0.1111111111111111, \"#46039f\"], [0.2222222222222222, \"#7201a8\"], [0.3333333333333333, \"#9c179e\"], [0.4444444444444444, \"#bd3786\"], [0.5555555555555556, \"#d8576b\"], [0.6666666666666666, \"#ed7953\"], [0.7777777777777778, \"#fb9f3a\"], [0.8888888888888888, \"#fdca26\"], [1.0, \"#f0f921\"]], \"type\": \"histogram2d\"}], \"histogram2dcontour\": [{\"colorbar\": {\"outlinewidth\": 0, \"ticks\": \"\"}, \"colorscale\": [[0.0, \"#0d0887\"], [0.1111111111111111, \"#46039f\"], [0.2222222222222222, \"#7201a8\"], [0.3333333333333333, \"#9c179e\"], [0.4444444444444444, \"#bd3786\"], [0.5555555555555556, \"#d8576b\"], [0.6666666666666666, \"#ed7953\"], [0.7777777777777778, \"#fb9f3a\"], [0.8888888888888888, \"#fdca26\"], [1.0, \"#f0f921\"]], \"type\": \"histogram2dcontour\"}], \"mesh3d\": [{\"colorbar\": {\"outlinewidth\": 0, \"ticks\": \"\"}, \"type\": \"mesh3d\"}], \"parcoords\": [{\"line\": {\"colorbar\": {\"outlinewidth\": 0, \"ticks\": \"\"}}, \"type\": \"parcoords\"}], \"pie\": [{\"automargin\": true, \"type\": \"pie\"}], \"scatter\": [{\"marker\": {\"colorbar\": {\"outlinewidth\": 0, \"ticks\": \"\"}}, \"type\": \"scatter\"}], \"scatter3d\": [{\"line\": {\"colorbar\": {\"outlinewidth\": 0, \"ticks\": \"\"}}, \"marker\": {\"colorbar\": {\"outlinewidth\": 0, \"ticks\": \"\"}}, \"type\": \"scatter3d\"}], \"scattercarpet\": [{\"marker\": {\"colorbar\": {\"outlinewidth\": 0, \"ticks\": \"\"}}, \"type\": \"scattercarpet\"}], \"scattergeo\": [{\"marker\": {\"colorbar\": {\"outlinewidth\": 0, \"ticks\": \"\"}}, \"type\": \"scattergeo\"}], \"scattergl\": [{\"marker\": {\"colorbar\": {\"outlinewidth\": 0, \"ticks\": \"\"}}, \"type\": \"scattergl\"}], \"scattermapbox\": [{\"marker\": {\"colorbar\": {\"outlinewidth\": 0, \"ticks\": \"\"}}, \"type\": \"scattermapbox\"}], \"scatterpolar\": [{\"marker\": {\"colorbar\": {\"outlinewidth\": 0, \"ticks\": \"\"}}, \"type\": \"scatterpolar\"}], \"scatterpolargl\": [{\"marker\": {\"colorbar\": {\"outlinewidth\": 0, \"ticks\": \"\"}}, \"type\": \"scatterpolargl\"}], \"scatterternary\": [{\"marker\": {\"colorbar\": {\"outlinewidth\": 0, \"ticks\": \"\"}}, \"type\": \"scatterternary\"}], \"surface\": [{\"colorbar\": {\"outlinewidth\": 0, \"ticks\": \"\"}, \"colorscale\": [[0.0, \"#0d0887\"], [0.1111111111111111, \"#46039f\"], [0.2222222222222222, \"#7201a8\"], [0.3333333333333333, \"#9c179e\"], [0.4444444444444444, \"#bd3786\"], [0.5555555555555556, \"#d8576b\"], [0.6666666666666666, \"#ed7953\"], [0.7777777777777778, \"#fb9f3a\"], [0.8888888888888888, \"#fdca26\"], [1.0, \"#f0f921\"]], \"type\": \"surface\"}], \"table\": [{\"cells\": {\"fill\": {\"color\": \"#EBF0F8\"}, \"line\": {\"color\": \"white\"}}, \"header\": {\"fill\": {\"color\": \"#C8D4E3\"}, \"line\": {\"color\": \"white\"}}, \"type\": \"table\"}]}, \"layout\": {\"annotationdefaults\": {\"arrowcolor\": \"#2a3f5f\", \"arrowhead\": 0, \"arrowwidth\": 1}, \"coloraxis\": {\"colorbar\": {\"outlinewidth\": 0, \"ticks\": \"\"}}, \"colorscale\": {\"diverging\": [[0, \"#8e0152\"], [0.1, \"#c51b7d\"], [0.2, \"#de77ae\"], [0.3, \"#f1b6da\"], [0.4, \"#fde0ef\"], [0.5, \"#f7f7f7\"], [0.6, \"#e6f5d0\"], [0.7, \"#b8e186\"], [0.8, \"#7fbc41\"], [0.9, \"#4d9221\"], [1, \"#276419\"]], \"sequential\": [[0.0, \"#0d0887\"], [0.1111111111111111, \"#46039f\"], [0.2222222222222222, \"#7201a8\"], [0.3333333333333333, \"#9c179e\"], [0.4444444444444444, \"#bd3786\"], [0.5555555555555556, \"#d8576b\"], [0.6666666666666666, \"#ed7953\"], [0.7777777777777778, \"#fb9f3a\"], [0.8888888888888888, \"#fdca26\"], [1.0, \"#f0f921\"]], \"sequentialminus\": [[0.0, \"#0d0887\"], [0.1111111111111111, \"#46039f\"], [0.2222222222222222, \"#7201a8\"], [0.3333333333333333, \"#9c179e\"], [0.4444444444444444, \"#bd3786\"], [0.5555555555555556, \"#d8576b\"], [0.6666666666666666, \"#ed7953\"], [0.7777777777777778, \"#fb9f3a\"], [0.8888888888888888, \"#fdca26\"], [1.0, \"#f0f921\"]]}, \"colorway\": [\"#636efa\", \"#EF553B\", \"#00cc96\", \"#ab63fa\", \"#FFA15A\", \"#19d3f3\", \"#FF6692\", \"#B6E880\", \"#FF97FF\", \"#FECB52\"], \"font\": {\"color\": \"#2a3f5f\"}, \"geo\": {\"bgcolor\": \"white\", \"lakecolor\": \"white\", \"landcolor\": \"#E5ECF6\", \"showlakes\": true, \"showland\": true, \"subunitcolor\": \"white\"}, \"hoverlabel\": {\"align\": \"left\"}, \"hovermode\": \"closest\", \"mapbox\": {\"style\": \"light\"}, \"paper_bgcolor\": \"white\", \"plot_bgcolor\": \"#E5ECF6\", \"polar\": {\"angularaxis\": {\"gridcolor\": \"white\", \"linecolor\": \"white\", \"ticks\": \"\"}, \"bgcolor\": \"#E5ECF6\", \"radialaxis\": {\"gridcolor\": \"white\", \"linecolor\": \"white\", \"ticks\": \"\"}}, \"scene\": {\"xaxis\": {\"backgroundcolor\": \"#E5ECF6\", \"gridcolor\": \"white\", \"gridwidth\": 2, \"linecolor\": \"white\", \"showbackground\": true, \"ticks\": \"\", \"zerolinecolor\": \"white\"}, \"yaxis\": {\"backgroundcolor\": \"#E5ECF6\", \"gridcolor\": \"white\", \"gridwidth\": 2, \"linecolor\": \"white\", \"showbackground\": true, \"ticks\": \"\", \"zerolinecolor\": \"white\"}, \"zaxis\": {\"backgroundcolor\": \"#E5ECF6\", \"gridcolor\": \"white\", \"gridwidth\": 2, \"linecolor\": \"white\", \"showbackground\": true, \"ticks\": \"\", \"zerolinecolor\": \"white\"}}, \"shapedefaults\": {\"line\": {\"color\": \"#2a3f5f\"}}, \"ternary\": {\"aaxis\": {\"gridcolor\": \"white\", \"linecolor\": \"white\", \"ticks\": \"\"}, \"baxis\": {\"gridcolor\": \"white\", \"linecolor\": \"white\", \"ticks\": \"\"}, \"bgcolor\": \"#E5ECF6\", \"caxis\": {\"gridcolor\": \"white\", \"linecolor\": \"white\", \"ticks\": \"\"}}, \"title\": {\"x\": 0.05}, \"xaxis\": {\"automargin\": true, \"gridcolor\": \"white\", \"linecolor\": \"white\", \"ticks\": \"\", \"title\": {\"standoff\": 15}, \"zerolinecolor\": \"white\", \"zerolinewidth\": 2}, \"yaxis\": {\"automargin\": true, \"gridcolor\": \"white\", \"linecolor\": \"white\", \"ticks\": \"\", \"title\": {\"standoff\": 15}, \"zerolinecolor\": \"white\", \"zerolinewidth\": 2}}}, \"title\": {\"font\": {\"color\": \"#4D5663\"}}, \"xaxis\": {\"gridcolor\": \"#E1E5ED\", \"showgrid\": true, \"tickfont\": {\"color\": \"#4D5663\"}, \"title\": {\"font\": {\"color\": \"#4D5663\"}, \"text\": \"\"}, \"zerolinecolor\": \"#E1E5ED\"}, \"yaxis\": {\"gridcolor\": \"#E1E5ED\", \"showgrid\": true, \"tickfont\": {\"color\": \"#4D5663\"}, \"title\": {\"font\": {\"color\": \"#4D5663\"}, \"text\": \"\"}, \"zerolinecolor\": \"#E1E5ED\"}},\n",
       "                        {\"responsive\": true}\n",
       "                    ).then(function(){\n",
       "                            \n",
       "var gd = document.getElementById('da159f49-a42c-467c-9cbf-a4dd759dab30');\n",
       "var x = new MutationObserver(function (mutations, observer) {{\n",
       "        var display = window.getComputedStyle(gd).display;\n",
       "        if (!display || display === 'none') {{\n",
       "            console.log([gd, 'removed!']);\n",
       "            Plotly.purge(gd);\n",
       "            observer.disconnect();\n",
       "        }}\n",
       "}});\n",
       "\n",
       "// Listen for the removal of the full notebook cells\n",
       "var notebookContainer = gd.closest('#notebook-container');\n",
       "if (notebookContainer) {{\n",
       "    x.observe(notebookContainer, {childList: true});\n",
       "}}\n",
       "\n",
       "// Listen for the clearing of the current output cell\n",
       "var outputEl = gd.closest('.output');\n",
       "if (outputEl) {{\n",
       "    x.observe(outputEl, {childList: true});\n",
       "}}\n",
       "\n",
       "                        })\n",
       "                };\n",
       "                });\n",
       "            </script>\n",
       "        </div>"
      ]
     },
     "metadata": {},
     "output_type": "display_data"
    }
   ],
   "source": [
    "def plotResults(data_set, plot_values):\n",
    "    plyo.iplot(data_set[plot_values].iplot(asFigure=True))\n",
    "    plt.show()\n",
    "    \n",
    "plot_values = [\"Previous Day Pct Change\", \"Previous Five Day Average Pct Change\", \"Intraday Pct Change\"]\n",
    "plotResults(selected_history[\"INTC\"], plot_values)\n",
    "\n",
    "plot_values = [\"Previous Day Pct Change\", \"Intraday Pct Change\"]\n",
    "plotResults(selected_history[\"INTC\"], plot_values)\n",
    "\n",
    "plot_values = [\"Previous Five Day Average Pct Change\", \"Intraday Pct Change\"]\n",
    "plotResults(selected_history[\"INTC\"], plot_values)"
   ]
  },
  {
   "cell_type": "markdown",
   "metadata": {},
   "source": [
    "When looking at the graphs, we can easily see the relationship of the two. The Previous Five Day Average Pct Change field is a smoother version of the Previous Day Pct Change. While the fields are similar in what they are measuring, they can tell us different things. The Previous Day Pct Change will only give us information about the past day - did it spike up or down? While the Previous Five Day Average Pct Change will give context around that number - such as the last the five days were mostly down and the spike up yesterday was it just moving back towards its price at the start of the week. "
   ]
  },
  {
   "cell_type": "markdown",
   "metadata": {},
   "source": [
    "<h3>Serializing the Data</h3>"
   ]
  },
  {
   "cell_type": "code",
   "execution_count": 19,
   "metadata": {},
   "outputs": [],
   "source": [
    "with open(\"data/model_data.pkl\", mode=\"wb\") as fwb:\n",
    "    pickle.dump(selected_history, fwb)\n",
    "    \n",
    "with open(\"data/ticker_data.pkl\", mode=\"wb\") as fwb:\n",
    "    pickle.dump(all_tickers, fwb)"
   ]
  }
 ],
 "metadata": {
  "kernelspec": {
   "display_name": "Python 3",
   "language": "python",
   "name": "python3"
  },
  "language_info": {
   "codemirror_mode": {
    "name": "ipython",
    "version": 3
   },
   "file_extension": ".py",
   "mimetype": "text/x-python",
   "name": "python",
   "nbconvert_exporter": "python",
   "pygments_lexer": "ipython3",
   "version": "3.8.3"
  }
 },
 "nbformat": 4,
 "nbformat_minor": 4
}
